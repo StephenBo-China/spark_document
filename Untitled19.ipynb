{
 "cells": [
  {
   "cell_type": "code",
   "execution_count": 1,
   "metadata": {
    "collapsed": true
   },
   "outputs": [],
   "source": [
    "import utils\n",
    "import numpy as np\n",
    "import pandas as pd"
   ]
  },
  {
   "cell_type": "code",
   "execution_count": 3,
   "metadata": {
    "collapsed": false
   },
   "outputs": [
    {
     "name": "stdout",
     "output_type": "stream",
     "text": [
      "select\n",
      "    t1.traceid as traceid,\n",
      "    t1.passenger_id as passenger_id,\n",
      "    t1.premiumH5AcceptRatio as premiumH5AcceptRatio,\n",
      "    t1.response_rate as response_rate,\n",
      "    t1.pre_price as pre_price,\n",
      "    t1.AcceptRateThreshold as AcceptRateThreshold,\n",
      "    t1.PriceRatio as PriceRatio,\n",
      "    t1.AnswerRateGap as AnswerRateGap,\n",
      "    t1.final_fee as final_fee,\n",
      "    t1.model_result as model_result,\n",
      "    t1.accept_rate as accept_rate,\n",
      "    t1.answer_rate as answer_rate,\n",
      "    t1.product_athena_key as product_athena_key,\n",
      "    t1.dt as dt,\n",
      "    t1.hour as hour,\n",
      "    t1.exp_group as exp_group,\n",
      "    case\n",
      "        when t2.label is null then 0\n",
      "        else t2.label\n",
      "    end as h5_accept_or_not,\n",
      "    case\n",
      "        when t2.label is not null then 1\n",
      "        else 0\n",
      "    end as h5_show_or_not,\n",
      "    t3.product_set as product_set,\n",
      "    --t3.pl_num as pl_num,\n",
      "    case when t4.gmv_amt is null then 0.0\n",
      "    else t4.gmv_amt end as gmv_amt,\n",
      "    t4.product_category as product_category,\n",
      "    case \n",
      "\twhen t4.is_td_finish_flag = 1 then 1\n",
      "\telse 0\n",
      "    end as is_td_finish_flag \n",
      "from\n",
      "( --进入pk决策的所有实验组 or 对照组冒泡\n",
      "    select \n",
      "        t1.*,\n",
      "        t2.exp_group as exp_group\n",
      "    from \n",
      "    (\n",
      "        select\n",
      "            param [\"traceId\"] as traceid,\n",
      "            param [\"athena_id\"] as athena_id,\n",
      "            param [\"passenger_id\"] as passenger_id,\n",
      "            get_json_object(\n",
      "                get_json_object(\n",
      "                    get_json_object(param [\"reform_pk_record\"], \"$.PreGuideItem\"),\n",
      "                    \"$.item_model_data\"\n",
      "                ),\n",
      "                \"$.accept_ratio\"\n",
      "            ) as premiumH5AcceptRatio,\n",
      "            get_json_object(\n",
      "                get_json_object(\n",
      "                    get_json_object(param [\"reform_pk_record\"], \"$.GuideCache\"),\n",
      "                    \"$.guide_product_data\"\n",
      "                ),\n",
      "                \"$.response_rate\"\n",
      "            ) as response_rate,\n",
      "            get_json_object(\n",
      "                get_json_object(\n",
      "                    get_json_object(param [\"reform_pk_record\"], \"$.GuideCache\"),\n",
      "                    \"$.guide_product_data\"\n",
      "                ),\n",
      "                \"$.pre_price\"\n",
      "            ) as pre_price,\n",
      "            get_json_object(\n",
      "                get_json_object(param [\"reform_pk_record\"], \"$.MultiH5Threshold\"),\n",
      "                \"$.AcceptRateThreshold\"\n",
      "            ) as AcceptRateThreshold,\n",
      "            get_json_object(\n",
      "                get_json_object(param [\"reform_pk_record\"], \"$.MultiH5Threshold\"),\n",
      "                \"$.PriceRatio\"\n",
      "            ) as PriceRatio,\n",
      "            get_json_object(\n",
      "                get_json_object(param [\"reform_pk_record\"], \"$.MultiH5Threshold\"),\n",
      "                \"$.AnswerRateGap\"\n",
      "            ) as AnswerRateGap,\n",
      "            get_json_object(\n",
      "                concat('{', json_object, '}'),\n",
      "                '$.final_fee'\n",
      "            ) as final_fee,\n",
      "            get_json_object(\n",
      "                concat('{', json_object, '}'),\n",
      "                '$.model_result'\n",
      "            ) as model_result,\n",
      "            get_json_object(\n",
      "                get_json_object(\n",
      "                    concat('{', json_object, '}'),\n",
      "                    '$.model_result'\n",
      "                ),\n",
      "                \"$.accept_rate\"\n",
      "            ) as accept_rate,\n",
      "            get_json_object(\n",
      "                get_json_object(\n",
      "                    concat('{', json_object, '}'),\n",
      "                    '$.model_result'\n",
      "                ),\n",
      "                \"$.answer_rate\"\n",
      "            ) as answer_rate,\n",
      "            get_json_object(\n",
      "                concat('{', json_object, '}'),\n",
      "                '$.product_athena_key'\n",
      "            ) as product_athena_key,\n",
      "            concat_ws('-', year, month, day) as dt,\n",
      "            hour --param[\"multi_product_data\"] as multi_product_data--Get stgData.ProductLineList\n",
      "        from\n",
      "            stg_gs.ods_log_pbs_athena_guide_reform_pk_strategy LATERAL VIEW explode(\n",
      "                split(\n",
      "                    regexp_replace(\n",
      "                        regexp_replace(\n",
      "                            param [\"multi_product_data\"],\n",
      "                            '\\\\[\\\\{',\n",
      "                            ''\n",
      "                        ),\n",
      "                        '}]',\n",
      "                        ''\n",
      "                    ),\n",
      "                    '},\\\\{'\n",
      "                )\n",
      "            ) json_table as json_object\n",
      "        where\n",
      "            concat_ws('-', year, month, day) >= '2020-12-17'\n",
      "            and concat_ws('-', year, month, day) <= '2020-12-21'\n",
      "    ) t1\n",
      "    inner join (\n",
      "        select\n",
      "            distinct concat(experiment, ':', exp_group) as expgroup,\n",
      "            apollo_key,\n",
      "            exp_group,\n",
      "            ymd\n",
      "        from\n",
      "            apollo.exp_group_data\n",
      "        where\n",
      "            (\n",
      "                ymd >= '2020-12-17'\n",
      "                and ymd <= '2020-12-21'\n",
      "            )\n",
      "            and experiment = 'athena_dache_anycar_multi_guide_to_premium_h5_ab'\n",
      "    ) t2 on t1.passenger_id = t2.apollo_key and t1.dt = t2.ymd \n",
      ") t1 --All PK Decision Bubbles and their details iIn PK Decision Code Logic\n",
      "left join (\n",
      "    select\n",
      "        athena_id,\n",
      "        max(trace_id) as trace_id,\n",
      "        max(dt) as dt,\n",
      "        max(label) as label\n",
      "    from\n",
      "        stg_gs.multi_service_h5_accept_model_label_1013\n",
      "    where\n",
      "        concat_ws('-', year, month, day) >= '2020-12-17'\n",
      "        and concat_ws('-', year, month, day) <= '2020-12-21'\n",
      "\t    and guide_scene = 2\n",
      "    group by athena_id\n",
      ") t2 on t1.traceid = t2.athena_id\n",
      "left join \n",
      "(\n",
      "    select \n",
      "        athena_id as bubble_trace_id,\n",
      "        max(product_set) as product_set\n",
      "    from \n",
      "        stg_gs.premium_h5_call_anycar_selection\n",
      "    where \n",
      "        concat_ws('-', year, month, day) >= '2020-12-17'\n",
      "        and concat_ws('-', year, month, day) <= '2020-12-21'\n",
      "    group by athena_id\n",
      ") t3 on t1.traceid = t3.bubble_trace_id\n",
      "left join \n",
      "(\n",
      "    select\n",
      "        bubble_trace_id,\n",
      "        max(order_id) as orderId,\n",
      "        max(bubble_id) as bubble_id,\n",
      "        max(gmv_amt) as gmv_amt,\n",
      "        case\n",
      "            when max(sub_product_line) = 9 then 'Luxury'\n",
      "            when max(sub_product_line) in (1, 6)\n",
      "            and max(require_level) in (100) then 'Premium'\n",
      "            when max(sub_product_line) in (1, 6)\n",
      "            and max(require_level) in (400) then 'CommercialPremium'\n",
      "            when max(sub_product_line) in(3, 7, 314)\n",
      "            and max(require_level) in (600)\n",
      "            and max(combo_type) in (4)\n",
      "            and max(carpool_type) in (1, 2) then 'Carpool'\n",
      "            when max(sub_product_line) in (20, 99) then 'YouXiang'\n",
      "            when max(sub_product_line) in (30) then 'APlusFlash'\n",
      "            when max(sub_product_line) in (3, 7, 314)\n",
      "            and max(require_level) in (600)\n",
      "            and max(combo_type) in (314) then 'SpFlash'\n",
      "            when max(sub_product_line) in (3, 7, 314)\n",
      "            and max(require_level) in (600)\n",
      "            and max(combo_type) in (0, 309, 306) then 'Flash'\n",
      "            when max(sub_product_line) in (11, 12)\n",
      "            and max(require_level) in (1100) then 'Unione'\n",
      "            when max(product_id) in (1, 2)\n",
      "            and max(require_level) in (200)\n",
      "            and max(combo_type) in (0, 2, 3, 309)\n",
      "            and max(carpool_type) in (0) then 'ExecutivePremium'\n",
      "            else 'Other'\n",
      "        end as product_category,\n",
      "\tmax(is_td_finish_flag) as is_td_finish_flag\n",
      "    from\n",
      "        decdm.dwd_gflt_ord_order_base_di\n",
      "    where\n",
      "        dt >= '2020-12-17'\n",
      "        and dt <= '2020-12-21'\n",
      "        and is_td_finish_flag = 1\n",
      "    group by bubble_trace_id\n",
      ") t4 on t1.traceid = t4.bubble_trace_id\n",
      "--where \n",
      "\t--t3.product_set is not null\n",
      "\t--and (t2.label != 1 or t3.product_set is null or t4.product_category != 'Premium')\n",
      "\n"
     ]
    }
   ],
   "source": [
    "analysis_data_sql = utils.load_sql_file(\n",
    "    \"./sql/analysis_data_congtrol_group_spflash.sql\"\n",
    ")\n",
    "print analysis_data_sql"
   ]
  },
  {
   "cell_type": "code",
   "execution_count": 4,
   "metadata": {
    "collapsed": false
   },
   "outputs": [
    {
     "data": {
      "text/plain": [
       "[Row(traceid=u'0008d97d5fdc4f6f0000089d40284aad', passenger_id=u'5000062301497', premiumH5AcceptRatio=None, response_rate=None, pre_price=None, AcceptRateThreshold=None, PriceRatio=None, AnswerRateGap=None, final_fee=u'4280', model_result=u'{\"accept_rate\":0.6472375988960266,\"answer_rate\":0.978535}', accept_rate=u'0.6472375988960266', answer_rate=u'0.978535', product_athena_key=u'Flash', dt=u'2020-12-18', hour=u'14', exp_group=u'control_group', h5_accept_or_not=0, h5_show_or_not=0, product_set=None, gmv_amt=Decimal('0.000000'), product_category=None, is_td_finish_flag=0),\n",
       " Row(traceid=u'0008d97d5fdc4f6f0000089d40284aad', passenger_id=u'5000062301497', premiumH5AcceptRatio=None, response_rate=None, pre_price=None, AcceptRateThreshold=None, PriceRatio=None, AnswerRateGap=None, final_fee=u'2910', model_result=u'{\"accept_rate\":1,\"answer_rate\":0.942571}', accept_rate=u'1', answer_rate=u'0.942571', product_athena_key=u'Carpool', dt=u'2020-12-18', hour=u'14', exp_group=u'control_group', h5_accept_or_not=0, h5_show_or_not=0, product_set=None, gmv_amt=Decimal('0.000000'), product_category=None, is_td_finish_flag=0),\n",
       " Row(traceid=u'0008d97d5fdc4f6f0000089d40284aad', passenger_id=u'5000062301497', premiumH5AcceptRatio=None, response_rate=None, pre_price=None, AcceptRateThreshold=None, PriceRatio=None, AnswerRateGap=None, final_fee=u'2870', model_result=u'{\"accept_rate\":0.601273238658905,\"answer_rate\":0.382034}', accept_rate=u'0.601273238658905', answer_rate=u'0.382034', product_athena_key=u'ShortSpecial', dt=u'2020-12-18', hour=u'14', exp_group=u'control_group', h5_accept_or_not=0, h5_show_or_not=0, product_set=None, gmv_amt=Decimal('0.000000'), product_category=None, is_td_finish_flag=0),\n",
       " Row(traceid=u'0008d97d5fdc4f6f0000089d40284aad', passenger_id=u'5000062301497', premiumH5AcceptRatio=None, response_rate=None, pre_price=None, AcceptRateThreshold=None, PriceRatio=None, AnswerRateGap=None, final_fee=u'4140', model_result=u'{\"accept_rate\":0.12802331149578094,\"answer_rate\":0.917293}', accept_rate=u'0.12802331149578094', answer_rate=u'0.917293', product_athena_key=u'APlusFlash', dt=u'2020-12-18', hour=u'14', exp_group=u'control_group', h5_accept_or_not=0, h5_show_or_not=0, product_set=None, gmv_amt=Decimal('0.000000'), product_category=None, is_td_finish_flag=0),\n",
       " Row(traceid=u'0008d97d5fdc4f6f0000089d40284aad', passenger_id=u'5000062301497', premiumH5AcceptRatio=None, response_rate=None, pre_price=None, AcceptRateThreshold=None, PriceRatio=None, AnswerRateGap=None, final_fee=u'4029.9999999999995', model_result=u'{\"accept_rate\":0.05765320733189583,\"answer_rate\":0.922236}', accept_rate=u'0.05765320733189583', answer_rate=u'0.922236', product_athena_key=u'Unione', dt=u'2020-12-18', hour=u'14', exp_group=u'control_group', h5_accept_or_not=0, h5_show_or_not=0, product_set=None, gmv_amt=Decimal('0.000000'), product_category=None, is_td_finish_flag=0)]"
      ]
     },
     "execution_count": 4,
     "metadata": {},
     "output_type": "execute_result"
    }
   ],
   "source": [
    "analysis_data = spark.sql(analysis_data_sql)\n",
    "analysis_data.cache()\n",
    "analysis_data.head(5)"
   ]
  },
  {
   "cell_type": "code",
   "execution_count": 5,
   "metadata": {
    "collapsed": false
   },
   "outputs": [
    {
     "data": {
      "text/plain": [
       "['traceid',\n",
       " 'passenger_id',\n",
       " 'premiumH5AcceptRatio',\n",
       " 'response_rate',\n",
       " 'pre_price',\n",
       " 'AcceptRateThreshold',\n",
       " 'PriceRatio',\n",
       " 'AnswerRateGap',\n",
       " 'final_fee',\n",
       " 'model_result',\n",
       " 'accept_rate',\n",
       " 'answer_rate',\n",
       " 'product_athena_key',\n",
       " 'dt',\n",
       " 'hour',\n",
       " 'exp_group',\n",
       " 'h5_accept_or_not',\n",
       " 'h5_show_or_not',\n",
       " 'product_set',\n",
       " 'gmv_amt',\n",
       " 'product_category',\n",
       " 'is_td_finish_flag']"
      ]
     },
     "execution_count": 5,
     "metadata": {},
     "output_type": "execute_result"
    }
   ],
   "source": [
    "analysis_data.columns"
   ]
  },
  {
   "cell_type": "code",
   "execution_count": 6,
   "metadata": {
    "collapsed": false
   },
   "outputs": [
    {
     "data": {
      "text/plain": [
       "[Row(traceid=u'0008d97d5fdc4f6f0000089d40284aad', passenger_id=u'5000062301497', premiumH5AcceptRatio=None, response_rate=None, pre_price=None, AcceptRateThreshold=None, PriceRatio=None, AnswerRateGap=None, final_fee=u'4280', model_result=u'{\"accept_rate\":0.6472375988960266,\"answer_rate\":0.978535}', accept_rate=u'0.6472375988960266', answer_rate=u'0.978535', product_athena_key=u'Flash', dt=u'2020-12-18', hour=u'14', exp_group=u'control_group', h5_accept_or_not=0, h5_show_or_not=0, product_set=None, gmv_amt=Decimal('0.000000'), product_category=None, is_td_finish_flag=0),\n",
       " Row(traceid=u'0008d97d5fdc4f6f0000089d40284aad', passenger_id=u'5000062301497', premiumH5AcceptRatio=None, response_rate=None, pre_price=None, AcceptRateThreshold=None, PriceRatio=None, AnswerRateGap=None, final_fee=u'2910', model_result=u'{\"accept_rate\":1,\"answer_rate\":0.942571}', accept_rate=u'1', answer_rate=u'0.942571', product_athena_key=u'Carpool', dt=u'2020-12-18', hour=u'14', exp_group=u'control_group', h5_accept_or_not=0, h5_show_or_not=0, product_set=None, gmv_amt=Decimal('0.000000'), product_category=None, is_td_finish_flag=0),\n",
       " Row(traceid=u'0008d97d5fdc4f6f0000089d40284aad', passenger_id=u'5000062301497', premiumH5AcceptRatio=None, response_rate=None, pre_price=None, AcceptRateThreshold=None, PriceRatio=None, AnswerRateGap=None, final_fee=u'2870', model_result=u'{\"accept_rate\":0.601273238658905,\"answer_rate\":0.382034}', accept_rate=u'0.601273238658905', answer_rate=u'0.382034', product_athena_key=u'ShortSpecial', dt=u'2020-12-18', hour=u'14', exp_group=u'control_group', h5_accept_or_not=0, h5_show_or_not=0, product_set=None, gmv_amt=Decimal('0.000000'), product_category=None, is_td_finish_flag=0),\n",
       " Row(traceid=u'0008d97d5fdc4f6f0000089d40284aad', passenger_id=u'5000062301497', premiumH5AcceptRatio=None, response_rate=None, pre_price=None, AcceptRateThreshold=None, PriceRatio=None, AnswerRateGap=None, final_fee=u'4140', model_result=u'{\"accept_rate\":0.12802331149578094,\"answer_rate\":0.917293}', accept_rate=u'0.12802331149578094', answer_rate=u'0.917293', product_athena_key=u'APlusFlash', dt=u'2020-12-18', hour=u'14', exp_group=u'control_group', h5_accept_or_not=0, h5_show_or_not=0, product_set=None, gmv_amt=Decimal('0.000000'), product_category=None, is_td_finish_flag=0),\n",
       " Row(traceid=u'0008d97d5fdc4f6f0000089d40284aad', passenger_id=u'5000062301497', premiumH5AcceptRatio=None, response_rate=None, pre_price=None, AcceptRateThreshold=None, PriceRatio=None, AnswerRateGap=None, final_fee=u'4029.9999999999995', model_result=u'{\"accept_rate\":0.05765320733189583,\"answer_rate\":0.922236}', accept_rate=u'0.05765320733189583', answer_rate=u'0.922236', product_athena_key=u'Unione', dt=u'2020-12-18', hour=u'14', exp_group=u'control_group', h5_accept_or_not=0, h5_show_or_not=0, product_set=None, gmv_amt=Decimal('0.000000'), product_category=None, is_td_finish_flag=0),\n",
       " Row(traceid=u'0008d97d5fdc4f6f0000089d40284aad', passenger_id=u'5000062301497', premiumH5AcceptRatio=None, response_rate=None, pre_price=None, AcceptRateThreshold=None, PriceRatio=None, AnswerRateGap=None, final_fee=u'5020', model_result=u'{\"accept_rate\":0.02349749021232128,\"answer_rate\":0.986464}', accept_rate=u'0.02349749021232128', answer_rate=u'0.986464', product_athena_key=u'YouXiang', dt=u'2020-12-18', hour=u'14', exp_group=u'control_group', h5_accept_or_not=0, h5_show_or_not=0, product_set=None, gmv_amt=Decimal('0.000000'), product_category=None, is_td_finish_flag=0),\n",
       " Row(traceid=u'0008d97d5fdc4f6f0000089d40284aad', passenger_id=u'5000062301497', premiumH5AcceptRatio=None, response_rate=None, pre_price=None, AcceptRateThreshold=None, PriceRatio=None, AnswerRateGap=None, final_fee=u'5080', model_result=u'{\"accept_rate\":0.015751119703054428,\"answer_rate\":0.986655}', accept_rate=u'0.015751119703054428', answer_rate=u'0.986655', product_athena_key=u'Premium', dt=u'2020-12-18', hour=u'14', exp_group=u'control_group', h5_accept_or_not=0, h5_show_or_not=0, product_set=None, gmv_amt=Decimal('0.000000'), product_category=None, is_td_finish_flag=0),\n",
       " Row(traceid=u'0008d97d5fdc4f6f0000089d40284aad', passenger_id=u'5000062301497', premiumH5AcceptRatio=None, response_rate=None, pre_price=None, AcceptRateThreshold=None, PriceRatio=None, AnswerRateGap=None, final_fee=u'11830', model_result=u'{\"accept_rate\":0.004780360031872988,\"answer_rate\":-1}', accept_rate=u'0.004780360031872988', answer_rate=u'-1', product_athena_key=u'ExecutivePremium', dt=u'2020-12-18', hour=u'14', exp_group=u'control_group', h5_accept_or_not=0, h5_show_or_not=0, product_set=None, gmv_amt=Decimal('0.000000'), product_category=None, is_td_finish_flag=0),\n",
       " Row(traceid=u'0008d97d5fdc4f6f0000089d40284aad', passenger_id=u'5000062301497', premiumH5AcceptRatio=None, response_rate=None, pre_price=None, AcceptRateThreshold=None, PriceRatio=None, AnswerRateGap=None, final_fee=u'11230', model_result=u'{\"accept_rate\":0,\"answer_rate\":0.986655}', accept_rate=u'0', answer_rate=u'0.986655', product_athena_key=u'CommercialPremium', dt=u'2020-12-18', hour=u'14', exp_group=u'control_group', h5_accept_or_not=0, h5_show_or_not=0, product_set=None, gmv_amt=Decimal('0.000000'), product_category=None, is_td_finish_flag=0),\n",
       " Row(traceid=u'0008d97d5fdc4f6f0000089d40284aad', passenger_id=u'5000062301497', premiumH5AcceptRatio=u'0.076066', response_rate=u'0.979098', pre_price=u'5080', AcceptRateThreshold=None, PriceRatio=None, AnswerRateGap=None, final_fee=u'4280', model_result=u'{\"accept_rate\":0.6472375988960266,\"answer_rate\":0.978535}', accept_rate=u'0.6472375988960266', answer_rate=u'0.978535', product_athena_key=u'Flash', dt=u'2020-12-18', hour=u'14', exp_group=u'control_group', h5_accept_or_not=0, h5_show_or_not=0, product_set=None, gmv_amt=Decimal('0.000000'), product_category=None, is_td_finish_flag=0)]"
      ]
     },
     "execution_count": 6,
     "metadata": {},
     "output_type": "execute_result"
    }
   ],
   "source": [
    "control_group_data = analysis_data.where(analysis_data[\"exp_group\"] == \"control_group\")\n",
    "control_group_data.head(10)"
   ]
  },
  {
   "cell_type": "code",
   "execution_count": 19,
   "metadata": {
    "collapsed": false
   },
   "outputs": [
    {
     "data": {
      "text/plain": [
       "[Row(traceid=u'057ef85f5fdd9367cf11a2c210840303', passenger_id=u'23834293', premiumH5AcceptRatio=u'0.050769', response_rate=u'0.918872', pre_price=u'3160', AcceptRateThreshold=u'0.1', PriceRatio=u'1.8', AnswerRateGap=u'-0.2', final_fee=u'3010', model_result=u'{\"accept_rate\":0.3503398001194,\"answer_rate\":0.991538}', accept_rate=u'0.3503398001194', answer_rate=u'0.991538', product_athena_key=u'Flash', dt=u'2020-12-19', hour=u'13', exp_group=u'treatment_group', h5_accept_or_not=1, h5_show_or_not=1, product_set=u'Flash', gmv_amt=Decimal('4208.000000'), product_category=u'Premium', is_td_finish_flag=1),\n",
       " Row(traceid=u'057ef85f5fdd9367cf11a2c210840303', passenger_id=u'23834293', premiumH5AcceptRatio=u'0.050769', response_rate=u'0.918872', pre_price=u'3160', AcceptRateThreshold=u'0.1', PriceRatio=u'1.8', AnswerRateGap=u'-0.2', final_fee=u'3160', model_result=u'{\"accept_rate\":0.020233547315001488,\"answer_rate\":0.977836}', accept_rate=u'0.020233547315001488', answer_rate=u'0.977836', product_athena_key=u'Premium', dt=u'2020-12-19', hour=u'13', exp_group=u'treatment_group', h5_accept_or_not=1, h5_show_or_not=1, product_set=u'Flash', gmv_amt=Decimal('4208.000000'), product_category=u'Premium', is_td_finish_flag=1),\n",
       " Row(traceid=u'057ef85f5fdd9367cf11a2c210840303', passenger_id=u'23834293', premiumH5AcceptRatio=u'0.050769', response_rate=u'0.918872', pre_price=u'3160', AcceptRateThreshold=u'0.1', PriceRatio=u'1.8', AnswerRateGap=u'-0.2', final_fee=u'1989.9999999999998', model_result=u'{\"accept_rate\":1,\"answer_rate\":0.942571}', accept_rate=u'1', answer_rate=u'0.942571', product_athena_key=u'Carpool', dt=u'2020-12-19', hour=u'13', exp_group=u'treatment_group', h5_accept_or_not=1, h5_show_or_not=1, product_set=u'Flash', gmv_amt=Decimal('4208.000000'), product_category=u'Premium', is_td_finish_flag=1),\n",
       " Row(traceid=u'057ef85f5fdd9367cf11a2c210840303', passenger_id=u'23834293', premiumH5AcceptRatio=u'0.050769', response_rate=u'0.918872', pre_price=u'3160', AcceptRateThreshold=u'0.1', PriceRatio=u'1.8', AnswerRateGap=u'-0.2', final_fee=u'2380', model_result=u'{\"accept_rate\":0.5533920526504517,\"answer_rate\":0.696622}', accept_rate=u'0.5533920526504517', answer_rate=u'0.696622', product_athena_key=u'ShortSpecial', dt=u'2020-12-19', hour=u'13', exp_group=u'treatment_group', h5_accept_or_not=1, h5_show_or_not=1, product_set=u'Flash', gmv_amt=Decimal('4208.000000'), product_category=u'Premium', is_td_finish_flag=1),\n",
       " Row(traceid=u'057ef85f5fdd9367cf11a2c210840303', passenger_id=u'23834293', premiumH5AcceptRatio=u'0.050769', response_rate=u'0.918872', pre_price=u'3160', AcceptRateThreshold=u'0.1', PriceRatio=u'1.8', AnswerRateGap=u'-0.2', final_fee=u'3150', model_result=u'{\"accept_rate\":0.5507252216339111,\"answer_rate\":0.965306}', accept_rate=u'0.5507252216339111', answer_rate=u'0.965306', product_athena_key=u'APlusFlash', dt=u'2020-12-19', hour=u'13', exp_group=u'treatment_group', h5_accept_or_not=1, h5_show_or_not=1, product_set=u'Flash', gmv_amt=Decimal('4208.000000'), product_category=u'Premium', is_td_finish_flag=1),\n",
       " Row(traceid=u'057ef85f5fdd9367cf11a2c210840303', passenger_id=u'23834293', premiumH5AcceptRatio=u'0.050769', response_rate=u'0.918872', pre_price=u'3160', AcceptRateThreshold=u'0.1', PriceRatio=u'1.8', AnswerRateGap=u'-0.2', final_fee=u'3100', model_result=u'{\"accept_rate\":0.008578389883041382,\"answer_rate\":0.89185}', accept_rate=u'0.008578389883041382', answer_rate=u'0.89185', product_athena_key=u'Unione', dt=u'2020-12-19', hour=u'13', exp_group=u'treatment_group', h5_accept_or_not=1, h5_show_or_not=1, product_set=u'Flash', gmv_amt=Decimal('4208.000000'), product_category=u'Premium', is_td_finish_flag=1),\n",
       " Row(traceid=u'057ef85f5fdd9367cf11a2c210840303', passenger_id=u'23834293', premiumH5AcceptRatio=u'0.050769', response_rate=u'0.918872', pre_price=u'3160', AcceptRateThreshold=u'0.1', PriceRatio=u'1.8', AnswerRateGap=u'-0.2', final_fee=u'3450', model_result=u'{\"accept_rate\":0.003920513670891523,\"answer_rate\":0.968465}', accept_rate=u'0.003920513670891523', answer_rate=u'0.968465', product_athena_key=u'YouXiang', dt=u'2020-12-19', hour=u'13', exp_group=u'treatment_group', h5_accept_or_not=1, h5_show_or_not=1, product_set=u'Flash', gmv_amt=Decimal('4208.000000'), product_category=u'Premium', is_td_finish_flag=1),\n",
       " Row(traceid=u'057ef85f5fdd9367cf11a2c210840303', passenger_id=u'23834293', premiumH5AcceptRatio=u'0.050769', response_rate=u'0.918872', pre_price=u'3160', AcceptRateThreshold=u'0.1', PriceRatio=u'1.8', AnswerRateGap=u'-0.2', final_fee=u'8800', model_result=u'{\"accept_rate\":3.004189638886601E-4,\"answer_rate\":-1}', accept_rate=u'3.004189638886601E-4', answer_rate=u'-1', product_athena_key=u'Luxury', dt=u'2020-12-19', hour=u'13', exp_group=u'treatment_group', h5_accept_or_not=1, h5_show_or_not=1, product_set=u'Flash', gmv_amt=Decimal('4208.000000'), product_category=u'Premium', is_td_finish_flag=1),\n",
       " Row(traceid=u'057ef85f5fdd9367cf11a2c210840303', passenger_id=u'23834293', premiumH5AcceptRatio=u'0.050769', response_rate=u'0.918872', pre_price=u'3160', AcceptRateThreshold=u'0.1', PriceRatio=u'1.8', AnswerRateGap=u'-0.2', final_fee=u'5160', model_result=u'{\"accept_rate\":0,\"answer_rate\":0.977836}', accept_rate=u'0', answer_rate=u'0.977836', product_athena_key=u'CommercialPremium', dt=u'2020-12-19', hour=u'13', exp_group=u'treatment_group', h5_accept_or_not=1, h5_show_or_not=1, product_set=u'Flash', gmv_amt=Decimal('4208.000000'), product_category=u'Premium', is_td_finish_flag=1),\n",
       " Row(traceid=u'057ef85f5fdd9367cf11a2c210840303', passenger_id=u'23834293', premiumH5AcceptRatio=None, response_rate=None, pre_price=None, AcceptRateThreshold=None, PriceRatio=None, AnswerRateGap=None, final_fee=u'3010', model_result=u'{\"accept_rate\":0.3503398001194,\"answer_rate\":0.991538}', accept_rate=u'0.3503398001194', answer_rate=u'0.991538', product_athena_key=u'Flash', dt=u'2020-12-19', hour=u'13', exp_group=u'treatment_group', h5_accept_or_not=1, h5_show_or_not=1, product_set=u'Flash', gmv_amt=Decimal('4208.000000'), product_category=u'Premium', is_td_finish_flag=1)]"
      ]
     },
     "execution_count": 19,
     "metadata": {},
     "output_type": "execute_result"
    }
   ],
   "source": [
    "h5_accept_and_finish_data = analysis_data.where(\n",
    "    (analysis_data[\"h5_accept_or_not\"] == 1)\n",
    "    & (analysis_data[\"h5_show_or_not\"] == 1)\n",
    "    & (analysis_data[\"product_category\"] == \"Premium\")\n",
    "    & (analysis_data[\"exp_group\"] == \"treatment_group\")\n",
    ")\n",
    "h5_accept_and_finish_data.head(10)"
   ]
  },
  {
   "cell_type": "markdown",
   "metadata": {},
   "source": [
    "# 计算alpha"
   ]
  },
  {
   "cell_type": "code",
   "execution_count": 20,
   "metadata": {
    "collapsed": false
   },
   "outputs": [
    {
     "data": {
      "text/plain": [
       "['traceid',\n",
       " 'passenger_id',\n",
       " 'premiumH5AcceptRatio',\n",
       " 'response_rate',\n",
       " 'pre_price',\n",
       " 'AcceptRateThreshold',\n",
       " 'PriceRatio',\n",
       " 'AnswerRateGap',\n",
       " 'final_fee',\n",
       " 'model_result',\n",
       " 'accept_rate',\n",
       " 'answer_rate',\n",
       " 'product_athena_key',\n",
       " 'dt',\n",
       " 'hour',\n",
       " 'exp_group',\n",
       " 'h5_accept_or_not',\n",
       " 'h5_show_or_not',\n",
       " 'product_set',\n",
       " 'gmv_amt',\n",
       " 'product_category',\n",
       " 'is_td_finish_flag']"
      ]
     },
     "execution_count": 20,
     "metadata": {},
     "output_type": "execute_result"
    }
   ],
   "source": [
    "h5_accept_and_finish_data.columns"
   ]
  },
  {
   "cell_type": "code",
   "execution_count": 21,
   "metadata": {
    "collapsed": false
   },
   "outputs": [
    {
     "data": {
      "text/plain": [
       "[Row(traceid=u'057ef85f5fdd9367cf11a2c210840303', passenger_id=u'23834293', premiumH5AcceptRatio=u'0.050769', response_rate=u'0.918872', pre_price=u'3160', AcceptRateThreshold=u'0.1', PriceRatio=u'1.8', AnswerRateGap=u'-0.2', final_fee=u'3010', model_result=u'{\"accept_rate\":0.3503398001194,\"answer_rate\":0.991538}', accept_rate=u'0.3503398001194', answer_rate=u'0.991538', product_athena_key=u'Flash', dt=u'2020-12-19', hour=u'13', exp_group=u'treatment_group', h5_accept_or_not=1, h5_show_or_not=1, product_set=u'Flash', gmv_amt=Decimal('4208.000000'), product_category=u'Premium', is_td_finish_flag=1),\n",
       " Row(traceid=u'057ef85f5fdd9367cf11a2c210840303', passenger_id=u'23834293', premiumH5AcceptRatio=u'0.050769', response_rate=u'0.918872', pre_price=u'3160', AcceptRateThreshold=u'0.1', PriceRatio=u'1.8', AnswerRateGap=u'-0.2', final_fee=u'3160', model_result=u'{\"accept_rate\":0.020233547315001488,\"answer_rate\":0.977836}', accept_rate=u'0.020233547315001488', answer_rate=u'0.977836', product_athena_key=u'Premium', dt=u'2020-12-19', hour=u'13', exp_group=u'treatment_group', h5_accept_or_not=1, h5_show_or_not=1, product_set=u'Flash', gmv_amt=Decimal('4208.000000'), product_category=u'Premium', is_td_finish_flag=1),\n",
       " Row(traceid=u'057ef85f5fdd9367cf11a2c210840303', passenger_id=u'23834293', premiumH5AcceptRatio=u'0.050769', response_rate=u'0.918872', pre_price=u'3160', AcceptRateThreshold=u'0.1', PriceRatio=u'1.8', AnswerRateGap=u'-0.2', final_fee=u'1989.9999999999998', model_result=u'{\"accept_rate\":1,\"answer_rate\":0.942571}', accept_rate=u'1', answer_rate=u'0.942571', product_athena_key=u'Carpool', dt=u'2020-12-19', hour=u'13', exp_group=u'treatment_group', h5_accept_or_not=1, h5_show_or_not=1, product_set=u'Flash', gmv_amt=Decimal('4208.000000'), product_category=u'Premium', is_td_finish_flag=1),\n",
       " Row(traceid=u'057ef85f5fdd9367cf11a2c210840303', passenger_id=u'23834293', premiumH5AcceptRatio=u'0.050769', response_rate=u'0.918872', pre_price=u'3160', AcceptRateThreshold=u'0.1', PriceRatio=u'1.8', AnswerRateGap=u'-0.2', final_fee=u'2380', model_result=u'{\"accept_rate\":0.5533920526504517,\"answer_rate\":0.696622}', accept_rate=u'0.5533920526504517', answer_rate=u'0.696622', product_athena_key=u'ShortSpecial', dt=u'2020-12-19', hour=u'13', exp_group=u'treatment_group', h5_accept_or_not=1, h5_show_or_not=1, product_set=u'Flash', gmv_amt=Decimal('4208.000000'), product_category=u'Premium', is_td_finish_flag=1),\n",
       " Row(traceid=u'057ef85f5fdd9367cf11a2c210840303', passenger_id=u'23834293', premiumH5AcceptRatio=u'0.050769', response_rate=u'0.918872', pre_price=u'3160', AcceptRateThreshold=u'0.1', PriceRatio=u'1.8', AnswerRateGap=u'-0.2', final_fee=u'3150', model_result=u'{\"accept_rate\":0.5507252216339111,\"answer_rate\":0.965306}', accept_rate=u'0.5507252216339111', answer_rate=u'0.965306', product_athena_key=u'APlusFlash', dt=u'2020-12-19', hour=u'13', exp_group=u'treatment_group', h5_accept_or_not=1, h5_show_or_not=1, product_set=u'Flash', gmv_amt=Decimal('4208.000000'), product_category=u'Premium', is_td_finish_flag=1),\n",
       " Row(traceid=u'057ef85f5fdd9367cf11a2c210840303', passenger_id=u'23834293', premiumH5AcceptRatio=u'0.050769', response_rate=u'0.918872', pre_price=u'3160', AcceptRateThreshold=u'0.1', PriceRatio=u'1.8', AnswerRateGap=u'-0.2', final_fee=u'3100', model_result=u'{\"accept_rate\":0.008578389883041382,\"answer_rate\":0.89185}', accept_rate=u'0.008578389883041382', answer_rate=u'0.89185', product_athena_key=u'Unione', dt=u'2020-12-19', hour=u'13', exp_group=u'treatment_group', h5_accept_or_not=1, h5_show_or_not=1, product_set=u'Flash', gmv_amt=Decimal('4208.000000'), product_category=u'Premium', is_td_finish_flag=1),\n",
       " Row(traceid=u'057ef85f5fdd9367cf11a2c210840303', passenger_id=u'23834293', premiumH5AcceptRatio=u'0.050769', response_rate=u'0.918872', pre_price=u'3160', AcceptRateThreshold=u'0.1', PriceRatio=u'1.8', AnswerRateGap=u'-0.2', final_fee=u'3450', model_result=u'{\"accept_rate\":0.003920513670891523,\"answer_rate\":0.968465}', accept_rate=u'0.003920513670891523', answer_rate=u'0.968465', product_athena_key=u'YouXiang', dt=u'2020-12-19', hour=u'13', exp_group=u'treatment_group', h5_accept_or_not=1, h5_show_or_not=1, product_set=u'Flash', gmv_amt=Decimal('4208.000000'), product_category=u'Premium', is_td_finish_flag=1),\n",
       " Row(traceid=u'057ef85f5fdd9367cf11a2c210840303', passenger_id=u'23834293', premiumH5AcceptRatio=u'0.050769', response_rate=u'0.918872', pre_price=u'3160', AcceptRateThreshold=u'0.1', PriceRatio=u'1.8', AnswerRateGap=u'-0.2', final_fee=u'8800', model_result=u'{\"accept_rate\":3.004189638886601E-4,\"answer_rate\":-1}', accept_rate=u'3.004189638886601E-4', answer_rate=u'-1', product_athena_key=u'Luxury', dt=u'2020-12-19', hour=u'13', exp_group=u'treatment_group', h5_accept_or_not=1, h5_show_or_not=1, product_set=u'Flash', gmv_amt=Decimal('4208.000000'), product_category=u'Premium', is_td_finish_flag=1),\n",
       " Row(traceid=u'057ef85f5fdd9367cf11a2c210840303', passenger_id=u'23834293', premiumH5AcceptRatio=u'0.050769', response_rate=u'0.918872', pre_price=u'3160', AcceptRateThreshold=u'0.1', PriceRatio=u'1.8', AnswerRateGap=u'-0.2', final_fee=u'5160', model_result=u'{\"accept_rate\":0,\"answer_rate\":0.977836}', accept_rate=u'0', answer_rate=u'0.977836', product_athena_key=u'CommercialPremium', dt=u'2020-12-19', hour=u'13', exp_group=u'treatment_group', h5_accept_or_not=1, h5_show_or_not=1, product_set=u'Flash', gmv_amt=Decimal('4208.000000'), product_category=u'Premium', is_td_finish_flag=1),\n",
       " Row(traceid=u'057ef85f5fdd9367cf11a2c210840303', passenger_id=u'23834293', premiumH5AcceptRatio=None, response_rate=None, pre_price=None, AcceptRateThreshold=None, PriceRatio=None, AnswerRateGap=None, final_fee=u'3010', model_result=u'{\"accept_rate\":0.3503398001194,\"answer_rate\":0.991538}', accept_rate=u'0.3503398001194', answer_rate=u'0.991538', product_athena_key=u'Flash', dt=u'2020-12-19', hour=u'13', exp_group=u'treatment_group', h5_accept_or_not=1, h5_show_or_not=1, product_set=u'Flash', gmv_amt=Decimal('4208.000000'), product_category=u'Premium', is_td_finish_flag=1)]"
      ]
     },
     "execution_count": 21,
     "metadata": {},
     "output_type": "execute_result"
    }
   ],
   "source": [
    "x = h5_accept_and_finish_data.head(10)\n",
    "x"
   ]
  },
  {
   "cell_type": "code",
   "execution_count": 26,
   "metadata": {
    "collapsed": false
   },
   "outputs": [],
   "source": [
    "def map_func(x):\n",
    "    judge_set = set([\"Carpool\", \"SpFlash\", \"APlusFlash\", \"Unione\", \"YouXiang\", \"Flash\"])\n",
    "    def get_product_set(product_set):\n",
    "        rst = list()\n",
    "        for product in product_set:\n",
    "            if product != \"Other\":\n",
    "                rst.append(product)\n",
    "        return rst\n",
    "    k, vv = x\n",
    "    trace_id = k\n",
    "    rst_key = \"\"\n",
    "    real_gmv = 0.\n",
    "    pre_gmv = 0.\n",
    "    process_set = set()\n",
    "    product_set = list()\n",
    "    for v in vv:\n",
    "        if v[\"product_set\"] is None or v[\"product_set\"] == \"null\" or v[\"product_set\"] == \"\":\n",
    "            break\n",
    "        product_set = sorted(get_product_set(v[\"product_set\"].split(\",\")))\n",
    "        if not set(product_set).issubset(judge_set):\n",
    "            break\n",
    "        rst_key = \",\".join([x for x in product_set])\n",
    "        product_athena_key = str(v[\"product_athena_key\"])\n",
    "        try:\n",
    "            final_fee = float(v[\"final_fee\"])\n",
    "            pre_price = float(v[\"pre_price\"])\n",
    "            gmv_amt = float(v[\"pre_price\"])\n",
    "        except:\n",
    "            break\n",
    "        if product_athena_key in product_set and product_athena_key not in process_set:\n",
    "            pre_gmv += final_fee * 1.\n",
    "            process_set.add(product_athena_key)\n",
    "        real_gmv = gmv_amt\n",
    "    if len(process_set) != len(product_set):\n",
    "        rst_key = \"\"\n",
    "        real_gmv = 0.\n",
    "        pre_gmv = 0.\n",
    "    return [(rst_key, [real_gmv, pre_gmv])]"
   ]
  },
  {
   "cell_type": "code",
   "execution_count": 27,
   "metadata": {
    "collapsed": true
   },
   "outputs": [],
   "source": [
    "def reduce_func(v1, v2):\n",
    "    print(\"RUN reduce_func\")\n",
    "    return list(map(sum, zip(v1, v2))) "
   ]
  },
  {
   "cell_type": "code",
   "execution_count": 28,
   "metadata": {
    "collapsed": false
   },
   "outputs": [
    {
     "data": {
      "text/plain": [
       "[(u'Flash', [3160.0, 3010.0])]"
      ]
     },
     "execution_count": 28,
     "metadata": {},
     "output_type": "execute_result"
    }
   ],
   "source": [
    "map_func((\"0022c5a35fd3516400002b55196326b5\", x))"
   ]
  },
  {
   "cell_type": "code",
   "execution_count": 29,
   "metadata": {
    "collapsed": false
   },
   "outputs": [
    {
     "data": {
      "text/plain": [
       "[('', [0.0, 0.0]),\n",
       " (u'APlusFlash,Unione,YouXiang', [24350.0, 61880.0]),\n",
       " (u'Carpool,Unione', [46400.0, 70280.0]),\n",
       " (u'Carpool,SpFlash,Unione', [26980.0, 70780.0]),\n",
       " (u'Carpool,SpFlash,YouXiang', [3770.0000000000005, 8690.0]),\n",
       " (u'APlusFlash,YouXiang', [84240.0, 151440.0]),\n",
       " (u'Flash,YouXiang', [21130.0, 36130.0]),\n",
       " (u'APlusFlash,SpFlash,Unione', [31830.0, 79080.0]),\n",
       " (u'YouXiang', [123590.0, 107450.0]),\n",
       " (u'Unione', [821810.0, 716400.0]),\n",
       " (u'APlusFlash,SpFlash,YouXiang', [15070.0, 36900.0]),\n",
       " (u'SpFlash,Unione,YouXiang', [21420.0, 56670.0]),\n",
       " (u'Unione,YouXiang', [72700.0, 129350.0]),\n",
       " (u'Carpool,YouXiang', [10700.0, 19680.0]),\n",
       " (u'APlusFlash,Unione', [108970.0, 191450.0]),\n",
       " (u'SpFlash,Unione', [154940.0, 253870.0]),\n",
       " (u'Carpool,SpFlash', [120820.0, 173440.0]),\n",
       " (u'APlusFlash,SpFlash,Unione,YouXiang', [7930.0, 27810.0]),\n",
       " (u'APlusFlash', [380900.0, 329100.0]),\n",
       " (u'SpFlash,YouXiang', [67170.0, 115660.0]),\n",
       " (u'Carpool,Unione,YouXiang', [6130.0, 15720.0]),\n",
       " (u'Flash', [13272680.0, 11677360.0]),\n",
       " (u'SpFlash', [1930830.0, 1514340.0]),\n",
       " (u'APlusFlash,SpFlash', [163590.0, 273290.0])]"
      ]
     },
     "execution_count": 29,
     "metadata": {},
     "output_type": "execute_result"
    }
   ],
   "source": [
    "rst = h5_accept_and_finish_data.rdd \\\n",
    "    .map(lambda x: (x[\"traceid\"], x)) \\\n",
    "    .groupByKey() \\\n",
    "    .flatMap(map_func) \\\n",
    "    .reduceByKey(reduce_func) \\\n",
    "    .collect()\n",
    "rst"
   ]
  },
  {
   "cell_type": "code",
   "execution_count": 35,
   "metadata": {
    "collapsed": false
   },
   "outputs": [
    {
     "data": {
      "text/plain": [
       "1.1502093997208003"
      ]
     },
     "execution_count": 35,
     "metadata": {},
     "output_type": "execute_result"
    }
   ],
   "source": [
    "123590.0 / 107450.0"
   ]
  },
  {
   "cell_type": "code",
   "execution_count": 32,
   "metadata": {
    "collapsed": true
   },
   "outputs": [],
   "source": [
    "def to_pandas_1(data):\n",
    "    rst = pd.DataFrame([v for v in data])\n",
    "    rst.columns = [\n",
    "        \"key\",\n",
    "        \"value\"\n",
    "    ]\n",
    "    real_gmv_list = list()\n",
    "    pre_gmv_list = list()\n",
    "    for i in range(len(rst[\"value\"].values)):\n",
    "        real_gmv_list.append(rst[\"value\"].values[i][0])\n",
    "        pre_gmv_list.append(rst[\"value\"].values[i][1])\n",
    "    rst[\"real_gmv\"] = real_gmv_list\n",
    "    rst[\"pre_gmv\"] = pre_gmv_list\n",
    "    rst[\"alpha\"] = rst[\"real_gmv\"].values / rst[\"pre_gmv\"].values\n",
    "    return rst[[\"key\", \"alpha\"]]"
   ]
  },
  {
   "cell_type": "code",
   "execution_count": 34,
   "metadata": {
    "collapsed": false
   },
   "outputs": [
    {
     "name": "stderr",
     "output_type": "stream",
     "text": [
      "/home/odin/stephenboweihan/anaconda2/lib/python2.7/site-packages/ipykernel/__main__.py:14: RuntimeWarning: invalid value encountered in divide\n"
     ]
    },
    {
     "data": {
      "text/html": [
       "<div>\n",
       "<table border=\"1\" class=\"dataframe\">\n",
       "  <thead>\n",
       "    <tr style=\"text-align: right;\">\n",
       "      <th></th>\n",
       "      <th>key</th>\n",
       "      <th>alpha</th>\n",
       "    </tr>\n",
       "  </thead>\n",
       "  <tbody>\n",
       "    <tr>\n",
       "      <th>0</th>\n",
       "      <td></td>\n",
       "      <td>NaN</td>\n",
       "    </tr>\n",
       "    <tr>\n",
       "      <th>1</th>\n",
       "      <td>APlusFlash,Unione,YouXiang</td>\n",
       "      <td>0.393504</td>\n",
       "    </tr>\n",
       "    <tr>\n",
       "      <th>2</th>\n",
       "      <td>Carpool,Unione</td>\n",
       "      <td>0.660216</td>\n",
       "    </tr>\n",
       "    <tr>\n",
       "      <th>3</th>\n",
       "      <td>Carpool,SpFlash,Unione</td>\n",
       "      <td>0.381181</td>\n",
       "    </tr>\n",
       "    <tr>\n",
       "      <th>4</th>\n",
       "      <td>Carpool,SpFlash,YouXiang</td>\n",
       "      <td>0.433832</td>\n",
       "    </tr>\n",
       "    <tr>\n",
       "      <th>5</th>\n",
       "      <td>APlusFlash,YouXiang</td>\n",
       "      <td>0.556260</td>\n",
       "    </tr>\n",
       "    <tr>\n",
       "      <th>6</th>\n",
       "      <td>Flash,YouXiang</td>\n",
       "      <td>0.584833</td>\n",
       "    </tr>\n",
       "    <tr>\n",
       "      <th>7</th>\n",
       "      <td>APlusFlash,SpFlash,Unione</td>\n",
       "      <td>0.402504</td>\n",
       "    </tr>\n",
       "    <tr>\n",
       "      <th>8</th>\n",
       "      <td>YouXiang</td>\n",
       "      <td>1.150209</td>\n",
       "    </tr>\n",
       "    <tr>\n",
       "      <th>9</th>\n",
       "      <td>Unione</td>\n",
       "      <td>1.147138</td>\n",
       "    </tr>\n",
       "    <tr>\n",
       "      <th>10</th>\n",
       "      <td>APlusFlash,SpFlash,YouXiang</td>\n",
       "      <td>0.408401</td>\n",
       "    </tr>\n",
       "    <tr>\n",
       "      <th>11</th>\n",
       "      <td>SpFlash,Unione,YouXiang</td>\n",
       "      <td>0.377978</td>\n",
       "    </tr>\n",
       "    <tr>\n",
       "      <th>12</th>\n",
       "      <td>Unione,YouXiang</td>\n",
       "      <td>0.562041</td>\n",
       "    </tr>\n",
       "    <tr>\n",
       "      <th>13</th>\n",
       "      <td>Carpool,YouXiang</td>\n",
       "      <td>0.543699</td>\n",
       "    </tr>\n",
       "    <tr>\n",
       "      <th>14</th>\n",
       "      <td>APlusFlash,Unione</td>\n",
       "      <td>0.569183</td>\n",
       "    </tr>\n",
       "    <tr>\n",
       "      <th>15</th>\n",
       "      <td>SpFlash,Unione</td>\n",
       "      <td>0.610312</td>\n",
       "    </tr>\n",
       "    <tr>\n",
       "      <th>16</th>\n",
       "      <td>Carpool,SpFlash</td>\n",
       "      <td>0.696610</td>\n",
       "    </tr>\n",
       "    <tr>\n",
       "      <th>17</th>\n",
       "      <td>APlusFlash,SpFlash,Unione,YouXiang</td>\n",
       "      <td>0.285149</td>\n",
       "    </tr>\n",
       "    <tr>\n",
       "      <th>18</th>\n",
       "      <td>APlusFlash</td>\n",
       "      <td>1.157399</td>\n",
       "    </tr>\n",
       "    <tr>\n",
       "      <th>19</th>\n",
       "      <td>SpFlash,YouXiang</td>\n",
       "      <td>0.580754</td>\n",
       "    </tr>\n",
       "    <tr>\n",
       "      <th>20</th>\n",
       "      <td>Carpool,Unione,YouXiang</td>\n",
       "      <td>0.389949</td>\n",
       "    </tr>\n",
       "    <tr>\n",
       "      <th>21</th>\n",
       "      <td>Flash</td>\n",
       "      <td>1.136616</td>\n",
       "    </tr>\n",
       "    <tr>\n",
       "      <th>22</th>\n",
       "      <td>SpFlash</td>\n",
       "      <td>1.275031</td>\n",
       "    </tr>\n",
       "    <tr>\n",
       "      <th>23</th>\n",
       "      <td>APlusFlash,SpFlash</td>\n",
       "      <td>0.598595</td>\n",
       "    </tr>\n",
       "  </tbody>\n",
       "</table>\n",
       "</div>"
      ],
      "text/plain": [
       "                                   key     alpha\n",
       "0                                            NaN\n",
       "1           APlusFlash,Unione,YouXiang  0.393504\n",
       "2                       Carpool,Unione  0.660216\n",
       "3               Carpool,SpFlash,Unione  0.381181\n",
       "4             Carpool,SpFlash,YouXiang  0.433832\n",
       "5                  APlusFlash,YouXiang  0.556260\n",
       "6                       Flash,YouXiang  0.584833\n",
       "7            APlusFlash,SpFlash,Unione  0.402504\n",
       "8                             YouXiang  1.150209\n",
       "9                               Unione  1.147138\n",
       "10         APlusFlash,SpFlash,YouXiang  0.408401\n",
       "11             SpFlash,Unione,YouXiang  0.377978\n",
       "12                     Unione,YouXiang  0.562041\n",
       "13                    Carpool,YouXiang  0.543699\n",
       "14                   APlusFlash,Unione  0.569183\n",
       "15                      SpFlash,Unione  0.610312\n",
       "16                     Carpool,SpFlash  0.696610\n",
       "17  APlusFlash,SpFlash,Unione,YouXiang  0.285149\n",
       "18                          APlusFlash  1.157399\n",
       "19                    SpFlash,YouXiang  0.580754\n",
       "20             Carpool,Unione,YouXiang  0.389949\n",
       "21                               Flash  1.136616\n",
       "22                             SpFlash  1.275031\n",
       "23                  APlusFlash,SpFlash  0.598595"
      ]
     },
     "execution_count": 34,
     "metadata": {},
     "output_type": "execute_result"
    }
   ],
   "source": [
    "alpha_dict = to_pandas_1(rst)\n",
    "alpha_dict"
   ]
  },
  {
   "cell_type": "code",
   "execution_count": 47,
   "metadata": {
    "collapsed": false
   },
   "outputs": [],
   "source": [
    "def convert_dict(df):\n",
    "    key = df[\"key\"].values\n",
    "    alpha = df[\"alpha\"].values\n",
    "    rst = dict()\n",
    "    for i in range(len(df)):\n",
    "        rst[key[i]] = alpha[i]\n",
    "    return rst"
   ]
  },
  {
   "cell_type": "code",
   "execution_count": 49,
   "metadata": {
    "collapsed": false
   },
   "outputs": [],
   "source": [
    "alpha_dict = convert_dict(alpha_dict)"
   ]
  },
  {
   "cell_type": "code",
   "execution_count": 42,
   "metadata": {
    "collapsed": false
   },
   "outputs": [
    {
     "data": {
      "text/plain": [
       "0.64788670055314412"
      ]
     },
     "execution_count": 42,
     "metadata": {},
     "output_type": "execute_result"
    }
   ],
   "source": [
    "alpha_mean = np.mean(alpha_dict[alpha_dict[\"key\"] != \"\"][\"alpha\"].values)\n",
    "alpha_mean"
   ]
  },
  {
   "cell_type": "markdown",
   "metadata": {},
   "source": [
    "# 测算对照组如果六种车型包含优享可导的GMV增幅"
   ]
  },
  {
   "cell_type": "code",
   "execution_count": 44,
   "metadata": {
    "collapsed": false,
    "scrolled": true
   },
   "outputs": [
    {
     "data": {
      "text/plain": [
       "[Row(traceid=u'0008d97d5fdc4f6f0000089d40284aad', passenger_id=u'5000062301497', premiumH5AcceptRatio=None, response_rate=None, pre_price=None, AcceptRateThreshold=None, PriceRatio=None, AnswerRateGap=None, final_fee=u'4280', model_result=u'{\"accept_rate\":0.6472375988960266,\"answer_rate\":0.978535}', accept_rate=u'0.6472375988960266', answer_rate=u'0.978535', product_athena_key=u'Flash', dt=u'2020-12-18', hour=u'14', exp_group=u'control_group', h5_accept_or_not=0, h5_show_or_not=0, product_set=None, gmv_amt=Decimal('0.000000'), product_category=None, is_td_finish_flag=0),\n",
       " Row(traceid=u'0008d97d5fdc4f6f0000089d40284aad', passenger_id=u'5000062301497', premiumH5AcceptRatio=None, response_rate=None, pre_price=None, AcceptRateThreshold=None, PriceRatio=None, AnswerRateGap=None, final_fee=u'2910', model_result=u'{\"accept_rate\":1,\"answer_rate\":0.942571}', accept_rate=u'1', answer_rate=u'0.942571', product_athena_key=u'Carpool', dt=u'2020-12-18', hour=u'14', exp_group=u'control_group', h5_accept_or_not=0, h5_show_or_not=0, product_set=None, gmv_amt=Decimal('0.000000'), product_category=None, is_td_finish_flag=0),\n",
       " Row(traceid=u'0008d97d5fdc4f6f0000089d40284aad', passenger_id=u'5000062301497', premiumH5AcceptRatio=None, response_rate=None, pre_price=None, AcceptRateThreshold=None, PriceRatio=None, AnswerRateGap=None, final_fee=u'2870', model_result=u'{\"accept_rate\":0.601273238658905,\"answer_rate\":0.382034}', accept_rate=u'0.601273238658905', answer_rate=u'0.382034', product_athena_key=u'ShortSpecial', dt=u'2020-12-18', hour=u'14', exp_group=u'control_group', h5_accept_or_not=0, h5_show_or_not=0, product_set=None, gmv_amt=Decimal('0.000000'), product_category=None, is_td_finish_flag=0),\n",
       " Row(traceid=u'0008d97d5fdc4f6f0000089d40284aad', passenger_id=u'5000062301497', premiumH5AcceptRatio=None, response_rate=None, pre_price=None, AcceptRateThreshold=None, PriceRatio=None, AnswerRateGap=None, final_fee=u'4140', model_result=u'{\"accept_rate\":0.12802331149578094,\"answer_rate\":0.917293}', accept_rate=u'0.12802331149578094', answer_rate=u'0.917293', product_athena_key=u'APlusFlash', dt=u'2020-12-18', hour=u'14', exp_group=u'control_group', h5_accept_or_not=0, h5_show_or_not=0, product_set=None, gmv_amt=Decimal('0.000000'), product_category=None, is_td_finish_flag=0),\n",
       " Row(traceid=u'0008d97d5fdc4f6f0000089d40284aad', passenger_id=u'5000062301497', premiumH5AcceptRatio=None, response_rate=None, pre_price=None, AcceptRateThreshold=None, PriceRatio=None, AnswerRateGap=None, final_fee=u'4029.9999999999995', model_result=u'{\"accept_rate\":0.05765320733189583,\"answer_rate\":0.922236}', accept_rate=u'0.05765320733189583', answer_rate=u'0.922236', product_athena_key=u'Unione', dt=u'2020-12-18', hour=u'14', exp_group=u'control_group', h5_accept_or_not=0, h5_show_or_not=0, product_set=None, gmv_amt=Decimal('0.000000'), product_category=None, is_td_finish_flag=0),\n",
       " Row(traceid=u'0008d97d5fdc4f6f0000089d40284aad', passenger_id=u'5000062301497', premiumH5AcceptRatio=None, response_rate=None, pre_price=None, AcceptRateThreshold=None, PriceRatio=None, AnswerRateGap=None, final_fee=u'5020', model_result=u'{\"accept_rate\":0.02349749021232128,\"answer_rate\":0.986464}', accept_rate=u'0.02349749021232128', answer_rate=u'0.986464', product_athena_key=u'YouXiang', dt=u'2020-12-18', hour=u'14', exp_group=u'control_group', h5_accept_or_not=0, h5_show_or_not=0, product_set=None, gmv_amt=Decimal('0.000000'), product_category=None, is_td_finish_flag=0),\n",
       " Row(traceid=u'0008d97d5fdc4f6f0000089d40284aad', passenger_id=u'5000062301497', premiumH5AcceptRatio=None, response_rate=None, pre_price=None, AcceptRateThreshold=None, PriceRatio=None, AnswerRateGap=None, final_fee=u'5080', model_result=u'{\"accept_rate\":0.015751119703054428,\"answer_rate\":0.986655}', accept_rate=u'0.015751119703054428', answer_rate=u'0.986655', product_athena_key=u'Premium', dt=u'2020-12-18', hour=u'14', exp_group=u'control_group', h5_accept_or_not=0, h5_show_or_not=0, product_set=None, gmv_amt=Decimal('0.000000'), product_category=None, is_td_finish_flag=0),\n",
       " Row(traceid=u'0008d97d5fdc4f6f0000089d40284aad', passenger_id=u'5000062301497', premiumH5AcceptRatio=None, response_rate=None, pre_price=None, AcceptRateThreshold=None, PriceRatio=None, AnswerRateGap=None, final_fee=u'11830', model_result=u'{\"accept_rate\":0.004780360031872988,\"answer_rate\":-1}', accept_rate=u'0.004780360031872988', answer_rate=u'-1', product_athena_key=u'ExecutivePremium', dt=u'2020-12-18', hour=u'14', exp_group=u'control_group', h5_accept_or_not=0, h5_show_or_not=0, product_set=None, gmv_amt=Decimal('0.000000'), product_category=None, is_td_finish_flag=0),\n",
       " Row(traceid=u'0008d97d5fdc4f6f0000089d40284aad', passenger_id=u'5000062301497', premiumH5AcceptRatio=None, response_rate=None, pre_price=None, AcceptRateThreshold=None, PriceRatio=None, AnswerRateGap=None, final_fee=u'11230', model_result=u'{\"accept_rate\":0,\"answer_rate\":0.986655}', accept_rate=u'0', answer_rate=u'0.986655', product_athena_key=u'CommercialPremium', dt=u'2020-12-18', hour=u'14', exp_group=u'control_group', h5_accept_or_not=0, h5_show_or_not=0, product_set=None, gmv_amt=Decimal('0.000000'), product_category=None, is_td_finish_flag=0),\n",
       " Row(traceid=u'0008d97d5fdc4f6f0000089d40284aad', passenger_id=u'5000062301497', premiumH5AcceptRatio=u'0.076066', response_rate=u'0.979098', pre_price=u'5080', AcceptRateThreshold=None, PriceRatio=None, AnswerRateGap=None, final_fee=u'4280', model_result=u'{\"accept_rate\":0.6472375988960266,\"answer_rate\":0.978535}', accept_rate=u'0.6472375988960266', answer_rate=u'0.978535', product_athena_key=u'Flash', dt=u'2020-12-18', hour=u'14', exp_group=u'control_group', h5_accept_or_not=0, h5_show_or_not=0, product_set=None, gmv_amt=Decimal('0.000000'), product_category=None, is_td_finish_flag=0)]"
      ]
     },
     "execution_count": 44,
     "metadata": {},
     "output_type": "execute_result"
    }
   ],
   "source": [
    "x = control_group_data.head(10)\n",
    "x"
   ]
  },
  {
   "cell_type": "code",
   "execution_count": 31,
   "metadata": {
    "collapsed": false
   },
   "outputs": [
    {
     "data": {
      "text/plain": [
       "['traceid',\n",
       " 'passenger_id',\n",
       " 'premiumH5AcceptRatio',\n",
       " 'response_rate',\n",
       " 'pre_price',\n",
       " 'AcceptRateThreshold',\n",
       " 'PriceRatio',\n",
       " 'AnswerRateGap',\n",
       " 'final_fee',\n",
       " 'model_result',\n",
       " 'accept_rate',\n",
       " 'answer_rate',\n",
       " 'product_athena_key',\n",
       " 'dt',\n",
       " 'hour',\n",
       " 'exp_group',\n",
       " 'h5_accept_or_not',\n",
       " 'h5_show_or_not',\n",
       " 'product_set',\n",
       " 'gmv_amt',\n",
       " 'product_category',\n",
       " 'is_td_finish_flag']"
      ]
     },
     "execution_count": 31,
     "metadata": {},
     "output_type": "execute_result"
    }
   ],
   "source": [
    "control_group_data.columns"
   ]
  },
  {
   "cell_type": "code",
   "execution_count": 36,
   "metadata": {
    "collapsed": false
   },
   "outputs": [
    {
     "data": {
      "text/plain": [
       "10868.0"
      ]
     },
     "execution_count": 36,
     "metadata": {},
     "output_type": "execute_result"
    }
   ],
   "source": [
    "1672 * 6.5"
   ]
  },
  {
   "cell_type": "code",
   "execution_count": 62,
   "metadata": {
    "collapsed": true
   },
   "outputs": [],
   "source": [
    "def calculate_map(x, alpha_dict, alpha_mean):\n",
    "    judge_set = set([\"Carpool\", \"SpFlash\", \"APlusFlash\", \"Unione\", \"YouXiang\", \"Flash\"])\n",
    "    def get_product_set(product_set):\n",
    "        rst = list()\n",
    "        for product in product_set:\n",
    "            if product != \"Other\":\n",
    "                rst.append(product)\n",
    "        return rst\n",
    "    k, vv = x\n",
    "    trace_id = k\n",
    "    rst_key = \"\"\n",
    "    original_gmv = 0. #用来记录订单历史真实贡献gmv\n",
    "    pre_gmv = 0. #勾选车型预估GMV求和\n",
    "    selection_gmv_list = list() #记录所有勾选车型预估GMV\n",
    "    process_set = set() #记录已经处理过的勾选车型防止统一trace_id数据有重复\n",
    "    AcceptRateThreshold, PriceRatio, AnswerRateGap = 0.15, 2.0, -0.1\n",
    "    guide_judge = True #是否弹窗\n",
    "    premiumH5AcceptRatio = 0.\n",
    "    response_rate = 0.\n",
    "    total_trace = 0\n",
    "    run_judge = True\n",
    "    for v in vv:\n",
    "        if v[\"product_set\"] is None or v[\"product_set\"] == \"null\" or v[\"product_set\"] == \"\":\n",
    "            run_judge = False\n",
    "            break\n",
    "        product_set = sorted(get_product_set(v[\"product_set\"].split(\",\")))\n",
    "        if not set(product_set).issubset(judge_set):\n",
    "            run_judge = False\n",
    "            break\n",
    "        total_trace\n",
    "        rst_key = \",\".join([x for x in product_set])\n",
    "        traceid = str(v[\"traceid\"])\n",
    "        passenger_id = str(v[\"passenger_id\"])\n",
    "        try:\n",
    "            premiumH5AcceptRatio = float(v[\"premiumH5AcceptRatio\"])#专车h5接受率\n",
    "            response_rate = float(v[\"response_rate\"])#橙意单应答率\n",
    "            pre_price = float(v[\"pre_price\"])#专车预估价\n",
    "            AcceptRateThreshold = float(v[\"AcceptRateThreshold\"])\n",
    "            PriceRatio = float(v[\"PriceRatio\"])\n",
    "            AnswerRateGap = float(v[\"AnswerRateGap\"])\n",
    "            final_fee = float(v[\"final_fee\"])#勾选车型预估价\n",
    "            accept_rate = float(v[\"accept_rate\"])#勾选车型接受率\n",
    "            answer_rate = float(v[\"answer_rate\"])#勾选车型应答率\n",
    "            product_athena_key = str(v[\"product_athena_key\"])\n",
    "            dt = str(v[\"dt\"])\n",
    "            hour = int(v[\"hour\"])\n",
    "            exp_group = str(v[\"exp_group\"])\n",
    "            h5_accept_or_not = int(v[\"h5_accept_or_not\"])\n",
    "            h5_show_or_not = int(v[\"h5_show_or_not\"])\n",
    "            product_set = str(v[\"product_set\"])\n",
    "            original_gmv = float(v[\"gmv_amt\"]) #历史真实完单贡献gmv\n",
    "            product_category = str(v[\"product_category\"])\n",
    "            is_td_finish_flag = int(v[\"is_td_finish_flag\"])\n",
    "        except:\n",
    "            run_judge = False\n",
    "            break\n",
    "        if product_athena_key in product_set and product_athena_key not in process_set:\n",
    "            selection_gmv_list.append(final_fee)\n",
    "            pre_gmv += final_fee * 1.\n",
    "            process_set.add(product_athena_key)\n",
    "        if \"YouXiang\" in product_set and product_athena_key in product_set:\n",
    "            if response_rate < answer_rate + AnswerRateGap:\n",
    "                guide_judge = False\n",
    "            if pre_price > final_fee * PriceRatio:\n",
    "                guide_judge = False\n",
    "            if premiumH5AcceptRatio <= AcceptRateThreshold:\n",
    "                guide_judge = False\n",
    "    # 是否弹窗后得出该单如果用pk决策gmv与历史不弹窗gmv作对比\n",
    "    if run_judge:\n",
    "        alpha = alpha_mean\n",
    "        accept_threshold = 0.18\n",
    "        strive_threshold = 0.85 \n",
    "        if rst_key in alpha_dict:\n",
    "            alpha = alpha_dict[rst_key]\n",
    "        h5_gmv = original_gmv\n",
    "        if guide_judge:\n",
    "            if premiumH5AcceptRatio >= accept_threshold:\n",
    "                if response_rate >= strive_threshold:\n",
    "                    h5_gmv = pre_gmv * alpha\n",
    "        return [(rst_key, [h5_gmv, original_gmv, 1])]\n",
    "    else:\n",
    "        return [(\"\", [0, 0, 1])]"
   ]
  },
  {
   "cell_type": "code",
   "execution_count": 63,
   "metadata": {
    "collapsed": false
   },
   "outputs": [
    {
     "data": {
      "text/plain": [
       "[('', [0, 0, 1])]"
      ]
     },
     "execution_count": 63,
     "metadata": {},
     "output_type": "execute_result"
    }
   ],
   "source": [
    "calculate_map((\"0022c5a35fd3516400002b55196326b5\", x), alpha_dict, alpha_mean)"
   ]
  },
  {
   "cell_type": "code",
   "execution_count": 64,
   "metadata": {
    "collapsed": false
   },
   "outputs": [
    {
     "data": {
      "text/plain": [
       "[('', [0, 0, 2088210])]"
      ]
     },
     "execution_count": 64,
     "metadata": {},
     "output_type": "execute_result"
    }
   ],
   "source": [
    "rst = control_group_data.rdd \\\n",
    "    .map(lambda x: (x[\"traceid\"], x)) \\\n",
    "    .groupByKey() \\\n",
    "    .flatMap(lambda x: calculate_map(x, alpha_dict, alpha_mean)) \\\n",
    "    .reduceByKey(reduce_func) \\\n",
    "    .collect()\n",
    "rst"
   ]
  },
  {
   "cell_type": "code",
   "execution_count": 1,
   "metadata": {
    "collapsed": false
   },
   "outputs": [
    {
     "data": {
      "text/plain": [
       "-0.003285672120868081"
      ]
     },
     "execution_count": 1,
     "metadata": {},
     "output_type": "execute_result"
    }
   ],
   "source": [
    "(449.2928545 - 450.7739499) / 450.7739499"
   ]
  },
  {
   "cell_type": "code",
   "execution_count": 3,
   "metadata": {
    "collapsed": false
   },
   "outputs": [
    {
     "data": {
      "text/plain": [
       "32.198139278571425"
      ]
     },
     "execution_count": 3,
     "metadata": {},
     "output_type": "execute_result"
    }
   ],
   "source": [
    "450.7739499 / 14"
   ]
  },
  {
   "cell_type": "code",
   "execution_count": null,
   "metadata": {
    "collapsed": true
   },
   "outputs": [],
   "source": []
  }
 ],
 "metadata": {
  "kernelspec": {
   "display_name": "Python 2",
   "language": "python",
   "name": "python2"
  },
  "language_info": {
   "codemirror_mode": {
    "name": "ipython",
    "version": 2
   },
   "file_extension": ".py",
   "mimetype": "text/x-python",
   "name": "python",
   "nbconvert_exporter": "python",
   "pygments_lexer": "ipython2",
   "version": "2.7.13"
  }
 },
 "nbformat": 4,
 "nbformat_minor": 0
}
