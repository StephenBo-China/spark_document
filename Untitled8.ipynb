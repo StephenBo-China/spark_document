{
 "cells": [
  {
   "cell_type": "code",
   "execution_count": 1,
   "metadata": {
    "collapsed": true
   },
   "outputs": [],
   "source": [
    "import utils\n",
    "import numpy as np\n",
    "import pandas as pd"
   ]
  },
  {
   "cell_type": "code",
   "execution_count": 2,
   "metadata": {
    "collapsed": false
   },
   "outputs": [
    {
     "name": "stdout",
     "output_type": "stream",
     "text": [
      "select\n",
      "    bubble_trace_id,\n",
      "    case\n",
      "        when gmv_amt is null then 0.0\n",
      "        else gmv_amt\n",
      "    end as gmv_amt,\n",
      "    call_lng,\n",
      "    call_lat,\n",
      "    call_time,\n",
      "    is_td_finish_flag\n",
      "from\n",
      "    decdm.dwd_gflt_ord_order_base_di\n",
      "where\n",
      "    dt >= \"2020-12-08\"\n",
      "    and dt <= \"2020-12-15\"\n",
      "    and is_td_call_flag = 1\n"
     ]
    }
   ],
   "source": [
    "complete_order_gmv_sql = utils.load_sql_file(\n",
    "    \"./sql/complete_order_gmv.sql\"\n",
    ")\n",
    "print complete_order_gmv_sql"
   ]
  },
  {
   "cell_type": "code",
   "execution_count": 3,
   "metadata": {
    "collapsed": false
   },
   "outputs": [
    {
     "name": "stdout",
     "output_type": "stream",
     "text": [
      "select \n",
      "    bubble_trace_id,\n",
      "    call_time,\n",
      "    passenger_id,\n",
      "    order_id,\n",
      "    product_category,\n",
      "    pl_num\n",
      "from \n",
      "    stg_gs.anycar_call_table\n",
      "where \n",
      "    concat_ws('-',year,month,day) >= \"2020-12-08\"\n",
      "    and concat_ws('-',year,month,day) <= \"2020-12-15\"\n"
     ]
    }
   ],
   "source": [
    "call_orders_sql = utils.load_sql_file(\n",
    "    \"./sql/call_orders.sql\"\n",
    ")\n",
    "print call_orders_sql"
   ]
  },
  {
   "cell_type": "code",
   "execution_count": 19,
   "metadata": {
    "collapsed": false
   },
   "outputs": [
    {
     "name": "stdout",
     "output_type": "stream",
     "text": [
      "SELECT\n",
      "    passenger_id as apollo_key,\n",
      "    gmv_amt / 100 as score,\n",
      "    call_city as city,\n",
      "    bubble_trace_id,\n",
      "    dt as ymd,\n",
      "    call_lat as h5_lat,\n",
      "    call_lng as h5_lng,\n",
      "    call_time as call_time\n",
      "FROM\n",
      "    decdm.dwd_gflt_ord_order_base_di\n",
      "where\n",
      "    dt >= \"2020-12-08\"\n",
      "    and dt <= \"2020-12-15\"\n",
      "    and is_td_finish_flag = 1\n",
      "    and passenger_id <> 2624535533694\n",
      "    and passenger_id > 0\n",
      "    and driver_id > 0\n",
      "    and (\n",
      "        is_td_arrive_flag = 1\n",
      "        or is_td_cancel_flag = 1\n",
      "        or is_td_begin_charge_flag = 1\n",
      "        or if(substr(depart_time, 1, 10) = dt, 1, 0) = 1\n",
      "        or is_td_finish_flag = 1\n",
      "        or is_td_reassign_flag = 1\n",
      "    )\n",
      "    and call_city in (34, 32, 2)\n",
      "    and menu_id = 'dache_anycar'\n",
      "\n"
     ]
    }
   ],
   "source": [
    "h5_gmv_sql = utils.load_sql_file(\n",
    "    \"./sql/h5_gmv.sql\"\n",
    ")\n",
    "print h5_gmv_sql"
   ]
  },
  {
   "cell_type": "code",
   "execution_count": 19,
   "metadata": {
    "collapsed": false
   },
   "outputs": [
    {
     "name": "stdout",
     "output_type": "stream",
     "text": [
      "SELECT\n",
      "    passenger_id as apollo_key,\n",
      "    gmv_amt / 100 as score,\n",
      "    call_city as city,\n",
      "    bubble_trace_id,\n",
      "    dt as ymd,\n",
      "    call_lat as h5_lat,\n",
      "    call_lng as h5_lng,\n",
      "    call_time as call_time\n",
      "FROM\n",
      "    decdm.dwd_gflt_ord_order_base_di\n",
      "where\n",
      "    dt >= \"2020-12-08\"\n",
      "    and dt <= \"2020-12-15\"\n",
      "    and call_city in (34, 32, 2)\n",
      "\n"
     ]
    }
   ],
   "source": [
    "h5_gmv_sql_1 = utils.load_sql_file(\n",
    "    \"./sql/h5_gmv_0105.sql\"\n",
    ")\n",
    "print h5_gmv_sql_1"
   ]
  },
  {
   "cell_type": "code",
   "execution_count": 16,
   "metadata": {
    "collapsed": false
   },
   "outputs": [
    {
     "name": "stdout",
     "output_type": "stream",
     "text": [
      "select\n",
      "    exp_group,\n",
      "    apollo_key,\n",
      "    dims ['city'] AS city,\n",
      "    ymd\n",
      "from\n",
      "    apollo.exp_group_data\n",
      "where\n",
      "    (\n",
      "        ymd >= \"2020-12-08\"\n",
      "        and ymd <= \"2020-12-15\"\n",
      "    )\n",
      "    and experiment = \"athena_dache_anycar_multi_guide_to_premium_h5_ab\"\n"
     ]
    }
   ],
   "source": [
    "multi_premium_h5_apollo_sql = utils.load_sql_file(\n",
    "    \"./sql/multi_premium_h5_apollo.sql\"\n",
    ")\n",
    "print multi_premium_h5_apollo_sql"
   ]
  },
  {
   "cell_type": "code",
   "execution_count": 4,
   "metadata": {
    "collapsed": false
   },
   "outputs": [
    {
     "data": {
      "text/plain": [
       "[Row(bubble_trace_id=u'cc5b1a9c5fd0f62c00002034fa967691', gmv_amt=Decimal('3897.000000'), call_lng=Decimal('123.444780'), call_lat=Decimal('41.818208'), call_time=u'2020-12-10 00:07:12', is_td_finish_flag=1),\n",
       " Row(bubble_trace_id=u'0a595b145fd0f65f92f5042f05bbf602', gmv_amt=Decimal('13747.000000'), call_lng=Decimal('113.413544'), call_lat=Decimal('23.171696'), call_time=u'2020-12-10 00:08:52', is_td_finish_flag=1),\n",
       " Row(bubble_trace_id=u'0a59490c5fd0f6b268a90ea105460302', gmv_amt=Decimal('1607.000000'), call_lng=Decimal('113.161357'), call_lat=Decimal('23.032540'), call_time=u'2020-12-10 00:09:50', is_td_finish_flag=1),\n",
       " Row(bubble_trace_id=u'0a595b145fd0fd4f9321043105d53c02', gmv_amt=Decimal('5304.000000'), call_lng=Decimal('113.303396'), call_lat=Decimal('23.216606'), call_time=u'2020-12-10 00:37:49', is_td_finish_flag=1),\n",
       " Row(bubble_trace_id=u'64469f355fd0fd04a279afca0946be02', gmv_amt=Decimal('2698.000000'), call_lng=Decimal('120.839441'), call_lat=Decimal('27.924171'), call_time=u'2020-12-10 00:36:26', is_td_finish_flag=1)]"
      ]
     },
     "execution_count": 4,
     "metadata": {},
     "output_type": "execute_result"
    }
   ],
   "source": [
    "complete_order_gmv_data = spark.sql(complete_order_gmv_sql)\n",
    "complete_order_gmv_data.cache()\n",
    "complete_order_gmv_data.head(5)"
   ]
  },
  {
   "cell_type": "code",
   "execution_count": 5,
   "metadata": {
    "collapsed": false
   },
   "outputs": [
    {
     "data": {
      "text/plain": [
       "[Row(bubble_trace_id=u'', call_time=u'2020-12-07 15:13:01', passenger_id=u'17595624861297', order_id=u'17706694067728', product_category=u'Other,YouXiang,Flash', pl_num=3),\n",
       " Row(bubble_trace_id=u'64469f355fd04f32b9745fc211f90c02', call_time=u'2020-12-09 12:15:07', passenger_id=u'1902243881554', order_id=u'17707041064532', product_category=u'Flash,YouXiang,Other', pl_num=3),\n",
       " Row(bubble_trace_id=u'', call_time=u'2020-12-09 17:44:44', passenger_id=u'17595357398980', order_id=u'17707097450981', product_category=u'Flash', pl_num=1),\n",
       " Row(bubble_trace_id=u'', call_time=u'2020-12-09 18:16:25', passenger_id=u'17595557655290', order_id=u'17707103333507', product_category=u'Other,Flash', pl_num=2),\n",
       " Row(bubble_trace_id=u'0a595d2f5fd0cb17c1599272031cea02', call_time=u'2020-12-09 21:03:52', passenger_id=u'5000117842977', order_id=u'17707133167828', product_category=u'Other', pl_num=1)]"
      ]
     },
     "execution_count": 5,
     "metadata": {},
     "output_type": "execute_result"
    }
   ],
   "source": [
    "call_orders_data = spark.sql(call_orders_sql)\n",
    "call_orders_data.cache()\n",
    "call_orders_data.head(5)"
   ]
  },
  {
   "cell_type": "code",
   "execution_count": 20,
   "metadata": {
    "collapsed": false
   },
   "outputs": [
    {
     "data": {
      "text/plain": [
       "[Row(apollo_key=1352267, score=Decimal('138.7400000000'), city=2, bubble_trace_id=u'c0a807355fd57381ff0030ae10a01603', ymd=u'2020-12-13', h5_lat=Decimal('22.537412'), h5_lng=Decimal('113.975088'), call_time=u'2020-12-13 09:51:02'),\n",
       " Row(apollo_key=141177304, score=Decimal('102.9200000000'), city=2, bubble_trace_id=u'e5c6db9a5fd5c142000067699707760c', ymd=u'2020-12-13', h5_lat=Decimal('22.539443'), h5_lng=Decimal('114.041104'), call_time=u'2020-12-13 15:22:54'),\n",
       " Row(apollo_key=17595471654780, score=Decimal('88.0000000000'), city=2, bubble_trace_id=u'ca2aa63f5fd62eb89f045f5f10d10303', ymd=u'2020-12-13', h5_lat=Decimal('22.533965'), h5_lng=Decimal('114.030983'), call_time=u'2020-12-13 23:10:16'),\n",
       " Row(apollo_key=17594599315266, score=Decimal('89.0000000000'), city=2, bubble_trace_id=u'ac1403235fd5a8086718d58410020403', ymd=u'2020-12-13', h5_lat=Decimal('22.537051'), h5_lng=Decimal('114.111349'), call_time=u'2020-12-13 13:35:08'),\n",
       " Row(apollo_key=17592384002958, score=Decimal('88.0000000000'), city=2, bubble_trace_id=u'c0a81c905fd590285d1c2e1a10d60303', ymd=u'2020-12-13', h5_lat=Decimal('22.618717'), h5_lng=Decimal('114.158203'), call_time=u'2020-12-13 11:53:47')]"
      ]
     },
     "execution_count": 20,
     "metadata": {},
     "output_type": "execute_result"
    }
   ],
   "source": [
    "h5_gmv_data = spark.sql(h5_gmv_sql)\n",
    "h5_gmv_data.cache()\n",
    "h5_gmv_data.head(5)"
   ]
  },
  {
   "cell_type": "code",
   "execution_count": 20,
   "metadata": {
    "collapsed": false
   },
   "outputs": [
    {
     "data": {
      "text/plain": [
       "[Row(apollo_key=1266069012480, score=Decimal('41.9400000000'), city=2, bubble_trace_id=u'0a595b125fd34786753d2dfb08d6eb02', ymd=u'2020-12-12', h5_lat=Decimal('22.618696'), h5_lng=Decimal('114.078121'), call_time=u'2020-12-11 18:19:08'),\n",
       " Row(apollo_key=17595543258564, score=Decimal('108.0200000000'), city=2, bubble_trace_id=u'64467c275fd364e742afbc77d8c9c9b0', ymd=u'2020-12-12', h5_lat=Decimal('31.507582'), h5_lng=Decimal('120.436024'), call_time=u'2020-12-11 20:24:18'),\n",
       " Row(apollo_key=1830689702416, score=Decimal('136.2300000000'), city=32, bubble_trace_id=u'89ca8e145fd391ad00001b49c95ee3b7', ymd=u'2020-12-12', h5_lat=Decimal('24.713680'), h5_lng=Decimal('118.190811'), call_time=u'2020-12-11 23:35:31'),\n",
       " Row(apollo_key=17592395391646, score=Decimal('135.7600000000'), city=2, bubble_trace_id=u'0a05b0a05fd39123000047c85fe36070', ymd=u'2020-12-12', h5_lat=Decimal('22.529799'), h5_lng=Decimal('114.021465'), call_time=u'2020-12-11 23:32:58'),\n",
       " Row(apollo_key=35184489799767, score=Decimal('13.5200000000'), city=2, bubble_trace_id=u'', ymd=u'2020-12-12', h5_lat=Decimal('22.688581'), h5_lng=Decimal('114.379205'), call_time=u'2020-12-12 00:00:36')]"
      ]
     },
     "execution_count": 20,
     "metadata": {},
     "output_type": "execute_result"
    }
   ],
   "source": [
    "h5_gmv_data_1 = spark.sql(h5_gmv_sql_1)\n",
    "h5_gmv_data_1.cache()\n",
    "h5_gmv_data_1.head(5)"
   ]
  },
  {
   "cell_type": "code",
   "execution_count": 17,
   "metadata": {
    "collapsed": false
   },
   "outputs": [
    {
     "data": {
      "text/plain": [
       "[Row(exp_group=u'control_group', apollo_key=u'5000133232420', city=u'32', ymd=u'2020-12-12'),\n",
       " Row(exp_group=u'treatment_group', apollo_key=u'17594675977434', city=u'34', ymd=u'2020-12-12'),\n",
       " Row(exp_group=u'control_group', apollo_key=u'5000146925251', city=u'34', ymd=u'2020-12-12'),\n",
       " Row(exp_group=u'treatment_group', apollo_key=u'151219605511', city=u'2', ymd=u'2020-12-12'),\n",
       " Row(exp_group=u'treatment_group', apollo_key=u'17593423939990', city=u'32', ymd=u'2020-12-12')]"
      ]
     },
     "execution_count": 17,
     "metadata": {},
     "output_type": "execute_result"
    }
   ],
   "source": [
    "multi_premium_h5_apollo_data = spark.sql(multi_premium_h5_apollo_sql)\n",
    "multi_premium_h5_apollo_data.cache()\n",
    "multi_premium_h5_apollo_data.head(5)"
   ]
  },
  {
   "cell_type": "code",
   "execution_count": 5,
   "metadata": {
    "collapsed": true
   },
   "outputs": [],
   "source": [
    "from pyspark.sql import SparkSession, HiveContext\n",
    "def save_hive(data, table_name):\n",
    "    data.registerTempTable('test_hive')\n",
    "    sqlContext.sql(\"create table \" + table_name + \" select * from test_hive\")\n",
    "    return"
   ]
  },
  {
   "cell_type": "code",
   "execution_count": 11,
   "metadata": {
    "collapsed": false
   },
   "outputs": [],
   "source": [
    "save_hive(complete_order_gmv_data, \"stg_gs.complete_order_gmv_data\")"
   ]
  },
  {
   "cell_type": "code",
   "execution_count": 12,
   "metadata": {
    "collapsed": true
   },
   "outputs": [],
   "source": [
    "save_hive(call_orders_data, \"stg_gs.call_orders_data\")"
   ]
  },
  {
   "cell_type": "code",
   "execution_count": 21,
   "metadata": {
    "collapsed": true
   },
   "outputs": [],
   "source": [
    "save_hive(h5_gmv_data_1, \"stg_gs.h5_gmv_data_0105\")"
   ]
  },
  {
   "cell_type": "code",
   "execution_count": 18,
   "metadata": {
    "collapsed": true
   },
   "outputs": [],
   "source": [
    "save_hive(multi_premium_h5_apollo_data, \"stg_gs.multi_premium_h5_apollo_data\")"
   ]
  },
  {
   "cell_type": "code",
   "execution_count": 22,
   "metadata": {
    "collapsed": false,
    "scrolled": true
   },
   "outputs": [
    {
     "name": "stdout",
     "output_type": "stream",
     "text": [
      "select\n",
      "    a.bubble_trace_id as bubble_trace_id,\n",
      "    a.passenger_id as passenger_id,\n",
      "    a.call_time as call_time,\n",
      "    a.product_category as product_category,\n",
      "    a.order_id as order_id,\n",
      "    a.pl_num as pl_num,\n",
      "    case\n",
      "        when b.gmv_amt is null then 0.0\n",
      "        else b.gmv_amt\n",
      "    end as gmv_amt,\n",
      "    b.call_lat as call_lat,\n",
      "    b.call_lng as call_lng,\n",
      "    b.call_time as base_call_time,\n",
      "    b.is_td_finish_flag as is_td_finish_flag\n",
      "from\n",
      "    (\n",
      "        select \n",
      "            bubble_trace_id,\n",
      "            max(call_time) as call_time,\n",
      "            max(passenger_id) as passenger_id,\n",
      "            max(order_id) as order_id,\n",
      "            max(product_category) as product_category,\n",
      "            max(pl_num) as pl_num\n",
      "        from \n",
      "            stg_gs.call_orders_data\n",
      "        where \n",
      "            pl_num > -1\n",
      "        group by bubble_trace_id\n",
      "    ) a\n",
      "    left join (\n",
      "        select\n",
      "            bubble_trace_id,\n",
      "            max(gmv_amt) as gmv_amt,\n",
      "            max(call_lng) as call_lng,\n",
      "            max(call_lat) as call_lat,\n",
      "            max(call_time) as call_time,\n",
      "            max(is_td_finish_flag) as is_td_finish_flag\n",
      "        from\n",
      "            stg_gs.complete_order_gmv_data\n",
      "        where\n",
      "            gmv_amt > -1\n",
      "        group by bubble_trace_id\n",
      "    ) b on a.bubble_trace_id = b.bubble_trace_id\n"
     ]
    }
   ],
   "source": [
    "call_order_gmv_sql = utils.load_sql_file(\n",
    "    \"./sql/call_order_gmv.sql\"\n",
    ")\n",
    "print call_order_gmv_sql"
   ]
  },
  {
   "cell_type": "code",
   "execution_count": 23,
   "metadata": {
    "collapsed": true
   },
   "outputs": [
    {
     "data": {
      "text/plain": [
       "[Row(bubble_trace_id=u'000016125fd2ba4200000731b58a79c0', passenger_id=u'861981507584', call_time=u'2020-12-11 08:16:14', product_category=u'APlusFlash,Unione', order_id=u'17707382185310', pl_num=2, gmv_amt=Decimal('3037.000000'), call_lat=Decimal('21.871189'), call_lng=Decimal('112.008867'), base_call_time=u'2020-12-11 08:16:14', is_td_finish_flag=1),\n",
       " Row(bubble_trace_id=u'000165395fd8b4ea0000702577704fa9', passenger_id=u'263411269633', call_time=u'2020-12-15 21:06:59', product_category=u'Flash', order_id=u'35234782438688', pl_num=1, gmv_amt=Decimal('980.000000'), call_lat=Decimal('34.159766'), call_lng=Decimal('108.970092'), base_call_time=u'2020-12-15 21:06:59', is_td_finish_flag=1),\n",
       " Row(bubble_trace_id=u'0003a4365fd3302800007ad8bbb765ad', passenger_id=u'2443305227321', call_time=u'2020-12-11 16:39:10', product_category=u'Other,SpFlash,Flash', order_id=u'35234098676791', pl_num=3, gmv_amt=Decimal('2565.000000'), call_lat=Decimal('29.519839'), call_lng=Decimal('106.317821'), base_call_time=u'2020-12-11 16:39:10', is_td_finish_flag=1),\n",
       " Row(bubble_trace_id=u'00040be75fd6e28a00001224681fcf31', passenger_id=u'2047605413712', call_time=u'2020-12-14 11:57:04', product_category=u'Other,Flash', order_id=u'17708096857787', pl_num=2, gmv_amt=Decimal('900.000000'), call_lat=Decimal('22.859047'), call_lng=Decimal('113.215829'), base_call_time=u'2020-12-14 11:57:04', is_td_finish_flag=1),\n",
       " Row(bubble_trace_id=u'00046e615fd83c169a334b7d100b0403', passenger_id=u'707339747329', call_time=u'2020-12-15 12:31:25', product_category=u'SpFlash', order_id=u'35234712934990', pl_num=1, gmv_amt=Decimal('0.000000'), call_lat=Decimal('29.691829'), call_lng=Decimal('120.160898'), base_call_time=u'2020-12-15 12:31:25', is_td_finish_flag=0)]"
      ]
     },
     "execution_count": 23,
     "metadata": {},
     "output_type": "execute_result"
    }
   ],
   "source": [
    "call_order_gmv_data = spark.sql(call_order_gmv_sql)\n",
    "call_order_gmv_data.cache()\n",
    "call_order_gmv_data.head(5)"
   ]
  },
  {
   "cell_type": "code",
   "execution_count": 24,
   "metadata": {
    "collapsed": true
   },
   "outputs": [],
   "source": [
    "save_hive(call_order_gmv_data, \"stg_gs.call_order_gmv_data\")"
   ]
  },
  {
   "cell_type": "code",
   "execution_count": 22,
   "metadata": {
    "collapsed": false
   },
   "outputs": [
    {
     "name": "stdout",
     "output_type": "stream",
     "text": [
      "\n",
      "select \n",
      "    t1.exp_group as exp_group,\n",
      "    t1.apollo_key as apollo_key,\n",
      "    t1.city as city,\n",
      "    t1.ymd as ymd,\n",
      "    t2.score as gmv,\n",
      "    t2.bubble_trace_id as bubble_trace_id,\n",
      "    t2.h5_lat as h5_lat,\n",
      "    t2.h5_lng as h5_lng,\n",
      "    t2.call_time as call_time\n",
      "from \n",
      "(\n",
      "    select  \n",
      "        max(exp_group) as exp_group,\n",
      "        apollo_key,\n",
      "        max(city) as city,\n",
      "        max(ymd) as ymd\n",
      "    from \n",
      "        stg_gs.multi_premium_h5_apollo_data\n",
      "    where \n",
      "        ymd >= \"2020-12-08\"\n",
      "    group by apollo_key\n",
      ") t1 \n",
      "left join \n",
      "(\n",
      "    select \n",
      "        max(apollo_key) as apollo_key,\n",
      "        max(score) as score,\n",
      "        max(city) as city,\n",
      "        bubble_trace_id,\n",
      "        max(ymd) as ymd,\n",
      "        max(h5_lat) as h5_lat,\n",
      "        max(h5_lng) as h5_lng,\n",
      "        max(call_time) as call_time\n",
      "    from \n",
      "        stg_gs.h5_gmv_data_0105\n",
      "    where   \n",
      "        ymd >= \"2020-12-08\"\n",
      "    group by bubble_trace_id\n",
      ") t2 on t1.apollo_key = t2.apollo_key\n",
      "\n",
      "\n",
      "\n"
     ]
    }
   ],
   "source": [
    "h5_apollo_call_gmv_sql = utils.load_sql_file(\n",
    "    \"./sql/h5_apollo_call_gmv_0105.sql\"\n",
    ")\n",
    "print h5_apollo_call_gmv_sql"
   ]
  },
  {
   "cell_type": "code",
   "execution_count": 24,
   "metadata": {
    "collapsed": false
   },
   "outputs": [
    {
     "data": {
      "text/plain": [
       "[Row(exp_group=u'control_group', apollo_key=u'13649', city=u'2', ymd=u'2020-12-10', gmv=Decimal('0E-10'), bubble_trace_id=u'a8e9b0295fd34b461a0128c210b00603', h5_lat=Decimal('22.617985'), h5_lng=Decimal('114.072677'), call_time=u'2020-12-11 18:34:52'),\n",
       " Row(exp_group=u'control_group', apollo_key=u'13649', city=u'2', ymd=u'2020-12-10', gmv=Decimal('0E-10'), bubble_trace_id=u'9bf44a065fd348a21a0128c210800403', h5_lat=Decimal('22.618226'), h5_lng=Decimal('114.073316'), call_time=u'2020-12-11 18:23:35'),\n",
       " Row(exp_group=u'control_group', apollo_key=u'13649', city=u'2', ymd=u'2020-12-10', gmv=Decimal('0E-10'), bubble_trace_id=u'be1501185fd32c1d1a0128c210760303', h5_lat=Decimal('22.632990'), h5_lng=Decimal('114.058127'), call_time=u'2020-12-11 16:21:53'),\n",
       " Row(exp_group=u'control_group', apollo_key=u'13649', city=u'2', ymd=u'2020-12-10', gmv=Decimal('32.6300000000'), bubble_trace_id=u'82144a165fd34b841a0128c210760703', h5_lat=Decimal('22.618006'), h5_lng=Decimal('114.072662'), call_time=u'2020-12-11 18:36:02'),\n",
       " Row(exp_group=u'control_group', apollo_key=u'13649', city=u'2', ymd=u'2020-12-10', gmv=Decimal('0E-10'), bubble_trace_id=u'5896122e5fd34a431a0128c210050603', h5_lat=Decimal('22.617985'), h5_lng=Decimal('114.072786'), call_time=u'2020-12-11 18:30:41')]"
      ]
     },
     "execution_count": 24,
     "metadata": {},
     "output_type": "execute_result"
    }
   ],
   "source": [
    "h5_apollo_call_gmv_data = spark.sql(h5_apollo_call_gmv_sql)\n",
    "h5_apollo_call_gmv_data.cache()\n",
    "h5_apollo_call_gmv_data.head(5)"
   ]
  },
  {
   "cell_type": "code",
   "execution_count": 25,
   "metadata": {
    "collapsed": true
   },
   "outputs": [],
   "source": [
    "save_hive(h5_apollo_call_gmv_data, \"stg_gs.h5_apollo_call_gmv_data_0105\")"
   ]
  },
  {
   "cell_type": "code",
   "execution_count": 26,
   "metadata": {
    "collapsed": false
   },
   "outputs": [
    {
     "name": "stdout",
     "output_type": "stream",
     "text": [
      "select \n",
      "    t1.*,\n",
      "    t2.product_set as product_set,\n",
      "    t2.pl_num as pl_num\n",
      "from \n",
      "(\n",
      "    select \n",
      "        max(exp_group) as exp_group,\n",
      "        max(apollo_key) as apollo_key,\n",
      "        max(city) as city,\n",
      "        max(ymd) as ymd,\n",
      "        max(gmv) as gmv,\n",
      "        bubble_trace_id as bubble_trace_id,\n",
      "        max(h5_lat) as h5_lat,\n",
      "        max(h5_lng) as h5_lng,\n",
      "        max(call_time) as call_time\n",
      "    from \n",
      "        stg_gs.h5_apollo_call_gmv_data_0105\n",
      "    where \n",
      "        ymd >= \"2020-12-08\"\n",
      "    group by bubble_trace_id\n",
      ") t1 \n",
      "left join \n",
      "(\n",
      "    select\n",
      "        athena_id,\n",
      "        max(product_set) as product_set,\n",
      "        max(pl_num) as pl_num,\n",
      "        max(passenger_id) as passenger_id\n",
      "    from\n",
      "        stg_gs.premium_h5_call_anycar_selection\n",
      "    where\n",
      "        concat_ws('-', year, month, day) >= \"2020-12-08\"\n",
      "        and concat_ws('-', year, month, day) <= \"2020-12-15\"\n",
      "    group by athena_id\n",
      ") t2 on t1.bubble_trace_id = t2.athena_id\n",
      "\n"
     ]
    }
   ],
   "source": [
    "h5_apollo_call_gmv_data_final_sql = utils.load_sql_file(\n",
    "    \"./sql/h5_apollo_call_gmv_data_final_0105.sql\"\n",
    ")\n",
    "print h5_apollo_call_gmv_data_final_sql"
   ]
  },
  {
   "cell_type": "code",
   "execution_count": 27,
   "metadata": {
    "collapsed": false
   },
   "outputs": [
    {
     "data": {
      "text/plain": [
       "[Row(exp_group=u'treatment_group', apollo_key=u'128435823', city=u'2', ymd=u'2020-12-12', gmv=Decimal('0E-10'), bubble_trace_id=u'0007fa725fd4decc000022f3d12d38a0', h5_lat=Decimal('22.573335'), h5_lng=Decimal('113.905350'), call_time=u'2020-12-12 23:17:03', product_set=u'SpFlash,Flash', pl_num=2),\n",
       " Row(exp_group=u'treatment_group', apollo_key=u'25507993', city=u'32', ymd=u'2020-12-09', gmv=Decimal('10.5000000000'), bubble_trace_id=u'0008dd195fd049ea000061ae6041bdda', h5_lat=Decimal('24.458138'), h5_lng=Decimal('118.095096'), call_time=u'2020-12-09 11:52:19', product_set=u'Flash', pl_num=1),\n",
       " Row(exp_group=u'control_group', apollo_key=u'103686084', city=u'2', ymd=u'2020-12-12', gmv=Decimal('0E-10'), bubble_trace_id=u'0008fd865fd424c300002c1c14c3cd29', h5_lat=Decimal('22.569573'), h5_lng=Decimal('113.874577'), call_time=u'2020-12-12 10:02:47', product_set=u'Unione', pl_num=1),\n",
       " Row(exp_group=u'control_group', apollo_key=u'17592292388855', city=u'34', ymd=u'2020-12-10', gmv=Decimal('11.0000000000'), bubble_trace_id=u'000a59295fd23e5500004c92a7dd966d', h5_lat=Decimal('26.077094'), h5_lng=Decimal('119.343484'), call_time=u'2020-12-10 23:27:28', product_set=u'Flash', pl_num=1),\n",
       " Row(exp_group=u'control_group', apollo_key=u'2783602478033', city=u'2', ymd=u'2020-12-15', gmv=Decimal('32.3800000000'), bubble_trace_id=u'000ff64d5fd8802b000049fe07ab6d85', h5_lat=Decimal('22.702939'), h5_lng=Decimal('113.817503'), call_time=u'2020-12-15 17:22:21', product_set=u'Flash', pl_num=1)]"
      ]
     },
     "execution_count": 27,
     "metadata": {},
     "output_type": "execute_result"
    }
   ],
   "source": [
    "h5_apollo_call_gmv_data_final_data = spark.sql(h5_apollo_call_gmv_data_final_sql)\n",
    "h5_apollo_call_gmv_data_final_data.cache()\n",
    "h5_apollo_call_gmv_data_final_data.head(5)"
   ]
  },
  {
   "cell_type": "code",
   "execution_count": 28,
   "metadata": {
    "collapsed": true
   },
   "outputs": [],
   "source": [
    "save_hive(h5_apollo_call_gmv_data_final_data, \"stg_gs.h5_apollo_call_gmv_data_final_data_0105\")"
   ]
  },
  {
   "cell_type": "markdown",
   "metadata": {},
   "source": [
    "# 流失率分析"
   ]
  },
  {
   "cell_type": "code",
   "execution_count": 31,
   "metadata": {
    "collapsed": false
   },
   "outputs": [
    {
     "name": "stdout",
     "output_type": "stream",
     "text": [
      "select \n",
      "    t1.*,\n",
      "    case when t2.label is null then 0\n",
      "    else t2.label end as h5_accept_or_not,\n",
      "    case when t2.label is null then 0\n",
      "    else 1 end as h5_show_or_not\n",
      "from \n",
      "(\n",
      "    select\n",
      "        max(dt) as dt,\n",
      "        max(exp_group) as exp_group,\n",
      "        max(gmv) as gmv,\n",
      "        max(apollo_key) as apollo_key,\n",
      "        bubble_trace_id,\n",
      "        max(product_set) as product_set,\n",
      "        max(pl_num) as pl_num,\n",
      "        max(passenger_id) as passenger_id\n",
      "    from\n",
      "        stg_gs.premium_h5_different_call_selection_gmv\n",
      "    where\n",
      "        concat_ws('-', year, month, day) >= \"2020-12-08\"\n",
      "        and concat_ws('-', year, month, day) <= \"2020-12-15\"\n",
      "        and bubble_trace_id is not null\n",
      "    group by bubble_trace_id\n",
      ") t1\n",
      "left join\n",
      "(\n",
      "    select \n",
      "        athena_id,\n",
      "        max(guide_scene) as guide_scene,\n",
      "        max(trace_id) as trace_id,\n",
      "        max(passenger_id) as passenger_id,\n",
      "        max(city_id) as city_id,\n",
      "        max(dt) as dt,\n",
      "        max(label) as label\n",
      "    from \n",
      "        stg_gs.multi_service_h5_accept_model_label_1013\n",
      "    where \n",
      "        concat_ws('-',year,month,day) >= \"2020-12-08\"\n",
      "        and concat_ws('-',year,month,day) <= \"2020-12-15\"\n",
      "    group by athena_id\n",
      ") t2 on t1.bubble_trace_id = t2.athena_id\n",
      "\n"
     ]
    }
   ],
   "source": [
    "different_call_selection_h5_status_sql = utils.load_sql_file(\n",
    "    \"./sql/different_call_selection_h5_status.sql\"\n",
    ")\n",
    "print different_call_selection_h5_status_sql"
   ]
  },
  {
   "cell_type": "code",
   "execution_count": 32,
   "metadata": {
    "collapsed": false
   },
   "outputs": [
    {
     "data": {
      "text/plain": [
       "[Row(dt=u'2020-12-12', exp_group=u'control_group', gmv=64.97000122070312, apollo_key=u'17594948968538', bubble_trace_id=u'00001bbe5fd3edc5000004fc2b53c142', product_set=u'SpFlash', pl_num=1, passenger_id=u'17594948968538', h5_accept_or_not=0, h5_show_or_not=0),\n",
       " Row(dt=u'2020-12-11', exp_group=u'control_group', gmv=105.05999755859375, apollo_key=u'17592343451622', bubble_trace_id=u'000060725fd32abc00006d2c754aed3a', product_set=u'Luxury', pl_num=1, passenger_id=u'17592343451622', h5_accept_or_not=0, h5_show_or_not=0),\n",
       " Row(dt=u'2020-12-10', exp_group=u'control_group', gmv=27.100000381469727, apollo_key=u'922132676611', bubble_trace_id=u'00006f595fd204014aa43e6310130403', product_set=u'Carpool', pl_num=1, passenger_id=u'922132676611', h5_accept_or_not=0, h5_show_or_not=0),\n",
       " Row(dt=u'2020-12-15', exp_group=u'treatment_group', gmv=63.20000076293945, apollo_key=u'5000091715116', bubble_trace_id=u'0000e4d95fd87237000025d95b63f2f9', product_set=u'Unione,YouXiang,Flash,SpFlash,APlusFlash,Premium', pl_num=6, passenger_id=u'5000091715116', h5_accept_or_not=0, h5_show_or_not=0),\n",
       " Row(dt=u'2020-12-11', exp_group=u'control_group', gmv=22.389999389648438, apollo_key=u'5000207589948', bubble_trace_id=u'000112aa5fd2475500003abe5b2bb3e0', product_set=u'YouXiang,APlusFlash,Premium', pl_num=3, passenger_id=u'5000207589948', h5_accept_or_not=0, h5_show_or_not=0)]"
      ]
     },
     "execution_count": 32,
     "metadata": {},
     "output_type": "execute_result"
    }
   ],
   "source": [
    "different_call_selection_h5_status_data = spark.sql(different_call_selection_h5_status_sql)\n",
    "different_call_selection_h5_status_data.cache()\n",
    "different_call_selection_h5_status_data.head(5)"
   ]
  },
  {
   "cell_type": "code",
   "execution_count": 33,
   "metadata": {
    "collapsed": true
   },
   "outputs": [],
   "source": [
    "save_hive(different_call_selection_h5_status_data, \"stg_gs.different_call_selection_h5_status_data\")"
   ]
  },
  {
   "cell_type": "code",
   "execution_count": 38,
   "metadata": {
    "collapsed": false
   },
   "outputs": [
    {
     "name": "stdout",
     "output_type": "stream",
     "text": [
      "select \n",
      "    bubble_trace_id,\n",
      "    max(is_td_finish_flag) as is_td_finish_flag,\n",
      "    max(is_td_cancel_flag) as is_td_cancel_flag,\n",
      "    max(is_td_answer_flag) as is_td_answer_flag\n",
      "from\n",
      "    decdm.dwd_gflt_ord_order_base_di\n",
      "where \n",
      "    dt >= \"2020-12-08\"\n",
      "    and dt <= \"2020-12-15\"\n",
      "group by bubble_trace_id\n",
      "\n"
     ]
    }
   ],
   "source": [
    "h5_accept_finish_order_flag_sql = utils.load_sql_file(\n",
    "    \"./sql/h5_accept_finish_order_flag.sql\"\n",
    ")\n",
    "print h5_accept_finish_order_flag_sql"
   ]
  },
  {
   "cell_type": "code",
   "execution_count": 39,
   "metadata": {
    "collapsed": false
   },
   "outputs": [
    {
     "data": {
      "text/plain": [
       "[Row(bubble_trace_id=u'0a221e325fd6521927d3b9715e8f4602', is_td_finish_flag=1, is_td_cancel_flag=0, is_td_answer_flag=1),\n",
       " Row(bubble_trace_id=u'6445623c5fd6986e6b9f7d1074f17d02', is_td_finish_flag=0, is_td_cancel_flag=1, is_td_answer_flag=1),\n",
       " Row(bubble_trace_id=u'c0a800645fd6a63dd8159d6d10e80303', is_td_finish_flag=1, is_td_cancel_flag=0, is_td_answer_flag=1),\n",
       " Row(bubble_trace_id=u'64467c275fd6acb93cfabc776af443b0', is_td_finish_flag=1, is_td_cancel_flag=0, is_td_answer_flag=1),\n",
       " Row(bubble_trace_id=u'0a221e325fd6c5af4979b9a375ec9402', is_td_finish_flag=1, is_td_cancel_flag=0, is_td_answer_flag=1)]"
      ]
     },
     "execution_count": 39,
     "metadata": {},
     "output_type": "execute_result"
    }
   ],
   "source": [
    "h5_accept_finish_order_flag_data = spark.sql(h5_accept_finish_order_flag_sql)\n",
    "h5_accept_finish_order_flag_data.cache()\n",
    "h5_accept_finish_order_flag_data.head(5)"
   ]
  },
  {
   "cell_type": "code",
   "execution_count": 40,
   "metadata": {
    "collapsed": true
   },
   "outputs": [],
   "source": [
    "save_hive(h5_accept_finish_order_flag_data, \"stg_gs.h5_accept_finish_order_flag_data_1\")"
   ]
  },
  {
   "cell_type": "code",
   "execution_count": 2,
   "metadata": {
    "collapsed": false
   },
   "outputs": [
    {
     "name": "stdout",
     "output_type": "stream",
     "text": [
      "select \n",
      "    t1.*,\n",
      "    case when t2.label is null then 0\n",
      "    else 1 end as h5_show_or_not,\n",
      "    case when t2.label is null then 0 \n",
      "    else t2.label end as h5_accept_or_not,\n",
      "    case when t3.is_td_finish_flag is null then 0\n",
      "    else t3.is_td_finish_flag end as is_td_finish_flag,\n",
      "    case when t3.is_td_cancel_flag is null then 0\n",
      "    else t3.is_td_cancel_flag end as is_td_cancel_flag,\n",
      "    case when t3.is_td_answer_flag is null then 0\n",
      "    else t3.is_td_answer_flag end as is_td_answer_flag,\n",
      "    case\n",
      "        when t2.label is not null\n",
      "        and t3.bubble_trace_id is null\n",
      "        and t4.bubble_trace_id is null then 1\n",
      "        else 0\n",
      "    end as quite_program_or_not\n",
      "from \n",
      "(\n",
      "    select \n",
      "        max(exp_group) as exp_group,\n",
      "        max(apollo_key) as apollo_key,\n",
      "        max(city) as city,\n",
      "        max(ymd) as ymd,\n",
      "        max(gmv) as h5_gmv,\n",
      "        bubble_trace_id as h5_bubble_trace_id,\n",
      "        max(h5_lat) as h5_lat,\n",
      "        max(h5_lng) as h5_lng,\n",
      "        max(call_time) as h5_call_time,\n",
      "        max(product_set) as h5_product_set,\n",
      "        max(pl_num) as h5_pl_num\n",
      "    from \n",
      "        stg_gs.h5_apollo_call_gmv_data_final_data_0105\n",
      "    where \n",
      "        ymd >= \"2020-12-08\"\n",
      "        and bubble_trace_id is not null \n",
      "    group by bubble_trace_id\n",
      ") t1 \n",
      "left join \n",
      "(\n",
      "    select \n",
      "        athena_id,\n",
      "        max(guide_scene) as guide_scene,\n",
      "        max(trace_id) as trace_id,\n",
      "        max(passenger_id) as passenger_id,\n",
      "        max(city_id) as city_id,\n",
      "        max(dt) as dt,\n",
      "        max(label) as label\n",
      "    from \n",
      "        stg_gs.multi_service_h5_accept_model_label_1013\n",
      "    where \n",
      "        concat_ws('-',year,month,day) >= \"2020-12-08\"\n",
      "        and concat_ws('-',year,month,day) <= \"2020-12-15\"\n",
      "    group by athena_id\n",
      ") t2 on t1.h5_bubble_trace_id = t2.athena_id\n",
      "left join \n",
      "(\n",
      "    select\n",
      "        bubble_trace_id,\n",
      "        is_td_finish_flag,\n",
      "        is_td_cancel_flag,\n",
      "        is_td_answer_flag\n",
      "    from\n",
      "        stg_gs.h5_accept_finish_order_flag_data_1\n",
      "    where\n",
      "        bubble_trace_id is not null\n",
      ") t3 on t1.h5_bubble_trace_id = t3.bubble_trace_id \n",
      "left join \n",
      "(\n",
      "     select\n",
      "        bubble_trace_id,\n",
      "        call_time,\n",
      "        passenger_id,\n",
      "        order_id,\n",
      "        product_category,\n",
      "        pl_num\n",
      "    from\n",
      "        stg_gs.anycar_call_table\n",
      "    where\n",
      "        concat_ws('-', year, month, day) >= \"2020-12-08\"\n",
      "        and concat_ws('-', year, month, day) <= \"2020-12-15\"\n",
      ") t4 on t1.h5_bubble_trace_id = t4.bubble_trace_id\n",
      "\n"
     ]
    }
   ],
   "source": [
    "import utils\n",
    "churn_rate_analysis_sql = utils.load_sql_file(\n",
    "    \"./sql/churn_rate_analysis.sql\"\n",
    ")\n",
    "print churn_rate_analysis_sql"
   ]
  },
  {
   "cell_type": "code",
   "execution_count": 30,
   "metadata": {
    "collapsed": false
   },
   "outputs": [
    {
     "data": {
      "text/plain": [
       "[Row(exp_group=u'treatment_group', apollo_key=u'128435823', city=u'2', ymd=u'2020-12-12', h5_gmv=Decimal('0E-10'), h5_bubble_trace_id=u'0007fa725fd4decc000022f3d12d38a0', h5_lat=Decimal('22.573335'), h5_lng=Decimal('113.905350'), h5_call_time=u'2020-12-12 23:17:03', h5_product_set=u'SpFlash,Flash', h5_pl_num=2, h5_show_or_not=1, h5_accept_or_not=0, is_td_finish_flag=0, is_td_cancel_flag=0, is_td_answer_flag=0, quite_program_or_not=0),\n",
       " Row(exp_group=u'treatment_group', apollo_key=u'128435823', city=u'2', ymd=u'2020-12-12', h5_gmv=Decimal('0E-10'), h5_bubble_trace_id=u'0007fa725fd4decc000022f3d12d38a0', h5_lat=Decimal('22.573335'), h5_lng=Decimal('113.905350'), h5_call_time=u'2020-12-12 23:17:03', h5_product_set=u'SpFlash,Flash', h5_pl_num=2, h5_show_or_not=1, h5_accept_or_not=0, is_td_finish_flag=0, is_td_cancel_flag=0, is_td_answer_flag=0, quite_program_or_not=0),\n",
       " Row(exp_group=u'treatment_group', apollo_key=u'25507993', city=u'32', ymd=u'2020-12-09', h5_gmv=Decimal('10.5000000000'), h5_bubble_trace_id=u'0008dd195fd049ea000061ae6041bdda', h5_lat=Decimal('24.458138'), h5_lng=Decimal('118.095096'), h5_call_time=u'2020-12-09 11:52:19', h5_product_set=u'Flash', h5_pl_num=1, h5_show_or_not=0, h5_accept_or_not=0, is_td_finish_flag=1, is_td_cancel_flag=0, is_td_answer_flag=1, quite_program_or_not=0),\n",
       " Row(exp_group=u'control_group', apollo_key=u'103686084', city=u'2', ymd=u'2020-12-12', h5_gmv=Decimal('0E-10'), h5_bubble_trace_id=u'0008fd865fd424c300002c1c14c3cd29', h5_lat=Decimal('22.569573'), h5_lng=Decimal('113.874577'), h5_call_time=u'2020-12-12 10:02:47', h5_product_set=u'Unione', h5_pl_num=1, h5_show_or_not=0, h5_accept_or_not=0, is_td_finish_flag=1, is_td_cancel_flag=0, is_td_answer_flag=1, quite_program_or_not=0),\n",
       " Row(exp_group=u'control_group', apollo_key=u'17592292388855', city=u'34', ymd=u'2020-12-10', h5_gmv=Decimal('11.0000000000'), h5_bubble_trace_id=u'000a59295fd23e5500004c92a7dd966d', h5_lat=Decimal('26.077094'), h5_lng=Decimal('119.343484'), h5_call_time=u'2020-12-10 23:27:28', h5_product_set=u'Flash', h5_pl_num=1, h5_show_or_not=1, h5_accept_or_not=0, is_td_finish_flag=1, is_td_cancel_flag=0, is_td_answer_flag=1, quite_program_or_not=0)]"
      ]
     },
     "execution_count": 30,
     "metadata": {},
     "output_type": "execute_result"
    }
   ],
   "source": [
    "churn_rate_analysis_data = spark.sql(churn_rate_analysis_sql)\n",
    "churn_rate_analysis_data.cache()\n",
    "churn_rate_analysis_data.head(5)"
   ]
  },
  {
   "cell_type": "code",
   "execution_count": 31,
   "metadata": {
    "collapsed": false
   },
   "outputs": [],
   "source": [
    "save_hive(churn_rate_analysis_data, \"stg_gs.churn_rate_analysis_data_0105\")"
   ]
  },
  {
   "cell_type": "code",
   "execution_count": 5,
   "metadata": {
    "collapsed": false
   },
   "outputs": [
    {
     "data": {
      "text/plain": [
       "848"
      ]
     },
     "execution_count": 5,
     "metadata": {},
     "output_type": "execute_result"
    }
   ],
   "source": [
    "470 + 126 + 126 + 126"
   ]
  },
  {
   "cell_type": "code",
   "execution_count": 7,
   "metadata": {
    "collapsed": false
   },
   "outputs": [
    {
     "data": {
      "text/plain": [
       "22048.0"
      ]
     },
     "execution_count": 7,
     "metadata": {},
     "output_type": "execute_result"
    }
   ],
   "source": [
    "848 * 6.5 * 4"
   ]
  },
  {
   "cell_type": "code",
   "execution_count": 8,
   "metadata": {
    "collapsed": false
   },
   "outputs": [
    {
     "data": {
      "text/plain": [
       "24570.0"
      ]
     },
     "execution_count": 8,
     "metadata": {},
     "output_type": "execute_result"
    }
   ],
   "source": [
    "126 * 6.5 * 30"
   ]
  },
  {
   "cell_type": "code",
   "execution_count": null,
   "metadata": {
    "collapsed": true
   },
   "outputs": [],
   "source": []
  }
 ],
 "metadata": {
  "kernelspec": {
   "display_name": "Python 2",
   "language": "python",
   "name": "python2"
  },
  "language_info": {
   "codemirror_mode": {
    "name": "ipython",
    "version": 2
   },
   "file_extension": ".py",
   "mimetype": "text/x-python",
   "name": "python",
   "nbconvert_exporter": "python",
   "pygments_lexer": "ipython2",
   "version": "2.7.11"
  }
 },
 "nbformat": 4,
 "nbformat_minor": 0
}
