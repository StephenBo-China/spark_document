{
 "cells": [
  {
   "cell_type": "code",
   "execution_count": 185,
   "metadata": {
    "collapsed": true
   },
   "outputs": [],
   "source": [
    "import utils\n",
    "import numpy as np\n",
    "import pandas as pd"
   ]
  },
  {
   "cell_type": "code",
   "execution_count": 186,
   "metadata": {
    "collapsed": true
   },
   "outputs": [],
   "source": [
    "def is_in_notebook():\n",
    "    import sys\n",
    "    return 'ipykernel' in sys.modules\n",
    "def clear_output():\n",
    "    \"\"\"\n",
    "    clear output for both jupyter notebook and the console\n",
    "    \"\"\"\n",
    "    import os\n",
    "    os.system('cls' if os.name == 'nt' else 'clear')\n",
    "    if is_in_notebook():\n",
    "        from IPython.display import clear_output as clear\n",
    "        clear()"
   ]
  },
  {
   "cell_type": "code",
   "execution_count": 187,
   "metadata": {
    "collapsed": false
   },
   "outputs": [
    {
     "data": {
      "text/plain": [
       "'select\\n    t1.*,\\n    t2.*\\nfrom\\n    (\\n        select\\n            order_id,\\n            bubble_trace_id,\\n            concat_ws(\\',\\', collect_set(product_category)) as product_set,\\n            count(distinct product_category) as pl_num\\n        from\\n            (\\n                select\\n                    order_id,\\n                    bubble_trace_id,\\n                    case\\n                        when sub_product_line = 9 then \\'Luxury\\'\\n                        when sub_product_line in (1, 6)\\n                        and require_level in (100) then \\'Premium\\'\\n                        when sub_product_line in (1, 6)\\n                        and require_level in (400) then \\'CommercialPremium\\'\\n                        when sub_product_line in(3, 7, 314)\\n                        and require_level in (600)\\n                        and combo_type in (4)\\n                        and carpool_type in (1, 2) then \\'Carpool\\'\\n                        when sub_product_line in (20, 99) then \\'YouXiang\\'\\n                        when sub_product_line in (30) then \\'APlusFlash\\'\\n                        when sub_product_line in (3, 7, 314)\\n                        and require_level in (600)\\n                        and combo_type in (314) then \\'SpFlash\\'\\n                        when sub_product_line in (3, 7, 314)\\n                        and require_level in (600)\\n                        and combo_type in (0, 309, 306) then \\'Flash\\'\\n                        when sub_product_line in (11, 12)\\n                        and require_level in (1100) then \\'Unione\\'\\n                        when product_id in (1, 2)\\n                        and require_level in (200)\\n                        and combo_type in (0, 2, 3, 309)\\n                        and carpool_type in (0) then \\'ExecutivePremium\\'\\n                        else \\'Other\\'\\n                    end as product_category\\n                from\\n                    decdm.dwd_ord_anycar_multi_di\\n                where\\n                    dt >= \\'2020-12-01\\'\\n\\t\\t    and dt <= \\'2020-12-06\\'\\n                group by\\n                    order_id,\\n                    bubble_trace_id,\\n                    case\\n                        when sub_product_line = 9 then \\'Luxury\\'\\n                        when sub_product_line in (1, 6)\\n                        and require_level in (100) then \\'Premium\\'\\n                        when sub_product_line in (1, 6)\\n                        and require_level in (400) then \\'CommercialPremium\\'\\n                        when sub_product_line in(3, 7, 314)\\n                        and require_level in (600)\\n                        and combo_type in (4)\\n                        and carpool_type in (1, 2) then \\'Carpool\\'\\n                        when sub_product_line in (20, 99) then \\'YouXiang\\'\\n                        when sub_product_line in (30) then \\'APlusFlash\\'\\n                        when sub_product_line in (3, 7, 314)\\n                        and require_level in (600)\\n                        and combo_type in (314) then \\'SpFlash\\'\\n                        when sub_product_line in (3, 7, 314)\\n                        and require_level in (600)\\n                        and combo_type in (0, 309, 306) then \\'Flash\\'\\n                        when sub_product_line in (11, 12)\\n                        and require_level in (1100) then \\'Unione\\'\\n                        when product_id in (1, 2)\\n                        and require_level in (200)\\n                        and combo_type in (0, 2, 3, 309)\\n                        and carpool_type in (0) then \\'ExecutivePremium\\'\\n                        else \\'Other\\'\\n                    end\\n            ) multi\\n        group by\\n            order_id,\\n            bubble_trace_id\\n    ) t1\\n    inner join (\\n        select\\n            t2.*\\n        from\\n            (\\n                select\\n                    apollo_key as passenger_id,\\n                    ymd as dt\\n                from\\n                    apollo.exp_group_data\\n                where\\n                    ymd >= \"2020-12-01\"\\n\\t\\t    and ymd <= \"2020-12-06\"\\n                    and experiment = \\'athena_dache_anycar_multi_guide_to_premium_h5_ab\\'\\n                    and exp_group = \"treatment_group\"\\n            ) t1\\n            inner join (\\n                select\\n                    param [\"traceId\"] as traceId,\\n                    param [\"athena_id\"] as athena_id,\\n                    param [\"passenger_id\"] as passenger_id,\\n                    get_json_object(\\n                        get_json_object(\\n                            get_json_object(param [\"reform_pk_record\"], \"$.PreGuideItem\"),\\n                            \"$.item_model_data\"\\n                        ),\\n                        \"$.accept_ratio\"\\n                    ) as premiumH5AcceptRatio,\\n                    get_json_object(\\n                        get_json_object(\\n                            get_json_object(param [\"reform_pk_record\"], \"$.GuideCache\"),\\n                            \"$.guide_product_data\"\\n                        ),\\n                        \"$.response_rate\"\\n                    ) as response_rate,\\n                    get_json_object(\\n                        get_json_object(\\n                            get_json_object(param [\"reform_pk_record\"], \"$.GuideCache\"),\\n                            \"$.guide_product_data\"\\n                        ),\\n                        \"$.pre_price\"\\n                    ) as pre_price,\\n                    get_json_object(\\n                        get_json_object(param [\"reform_pk_record\"], \"$.MultiH5Threshold\"),\\n                        \"$.AcceptRateThreshold\"\\n                    ) as AcceptRateThreshold,\\n                    get_json_object(\\n                        get_json_object(param [\"reform_pk_record\"], \"$.MultiH5Threshold\"),\\n                        \"$.PriceRatio\"\\n                    ) as PriceRatio,\\n                    get_json_object(\\n                        get_json_object(param [\"reform_pk_record\"], \"$.MultiH5Threshold\"),\\n                        \"$.AnswerRateGap\"\\n                    ) as AnswerRateGap,\\n                    get_json_object(\\n                        concat(\\'{\\', json_object, \\'}\\'),\\n                        \\'$.final_fee\\'\\n                    ) as final_fee,\\n                    get_json_object(\\n                        concat(\\'{\\', json_object, \\'}\\'),\\n                        \\'$.model_result\\'\\n                    ) as model_result,\\n                    get_json_object(\\n                        get_json_object(\\n                            concat(\\'{\\', json_object, \\'}\\'),\\n                            \\'$.model_result\\'\\n                        ),\\n                        \"$.accept_rate\"\\n                    ) as accept_rate,\\n                    get_json_object(\\n                        get_json_object(\\n                            concat(\\'{\\', json_object, \\'}\\'),\\n                            \\'$.model_result\\'\\n                        ),\\n                        \"$.answer_rate\"\\n                    ) as answer_rate,\\n                    get_json_object(\\n                        concat(\\'{\\', json_object, \\'}\\'),\\n                        \\'$.product_athena_key\\'\\n                    ) as product_athena_key,\\n                    concat_ws(\\'-\\', year, month, day) as dt,\\n                    hour --param[\"multi_product_data\"] as multi_product_data--Get stgData.ProductLineList\\n                from\\n                    stg_gs.ods_log_pbs_athena_guide_reform_pk_strategy LATERAL VIEW explode(\\n                        split(\\n                            regexp_replace(\\n                                regexp_replace(\\n                                    param [\"multi_product_data\"],\\n                                    \\'\\\\\\\\[\\\\\\\\{\\',\\n                                    \\'\\'\\n                                ),\\n                                \\'}]\\',\\n                                \\'\\'\\n                            ),\\n                            \\'},\\\\\\\\{\\'\\n                        )\\n                    ) json_table as json_object\\n                where\\n                    concat_ws(\\'-\\', year, month, day) >= \\'2020-12-01\\'\\n                    and concat_ws(\\'-\\', year, month, day) <= \\'2020-12-06\\'\\n                    and get_json_object(param [\"reform_pk_record\"], \"$.MultiH5Threshold\") is not null\\n                    and get_json_object(param [\"reform_pk_record\"], \"$.GuideCache\") is not null\\n                    and get_json_object(param [\"reform_pk_record\"], \"$.MultiH5Threshold\") != \"null\"\\n                    and get_json_object(param [\"reform_pk_record\"], \"$.GuideCache\") != \"null\"\\n                    and get_json_object(\\n                        get_json_object(param [\"reform_pk_record\"], \"$.GuideCache\"),\\n                        \"$.guide_product_data\"\\n                    ) is not null\\n                    and get_json_object(\\n                        get_json_object(param [\"reform_pk_record\"], \"$.GuideCache\"),\\n                        \"$.guide_product_data\"\\n                    ) != \"null\" --and param[\"athena_id\"] is not null\\n            ) t2 on t1.passenger_id = t2.passenger_id --and t1.dt = t2.dt\\n    ) t2 on t1.bubble_trace_id = t2.traceId\\n'"
      ]
     },
     "execution_count": 187,
     "metadata": {},
     "output_type": "execute_result"
    }
   ],
   "source": [
    "data_select = utils.load_sql_file(\"./sql/premium_h5_pk_decision_logic_data_selection.sql\")\n",
    "data_select"
   ]
  },
  {
   "cell_type": "code",
   "execution_count": 188,
   "metadata": {
    "collapsed": false
   },
   "outputs": [
    {
     "data": {
      "text/plain": [
       "[Row(order_id=35233258186349, bubble_trace_id=u'0003ff985fcb9c2f000052546db20735', product_set=u'Other,Flash,SpFlash', pl_num=3, traceId=u'0003ff985fcb9c2f000052546db20735', athena_id=None, passenger_id=u'17592478226663', premiumH5AcceptRatio=u'0.144905', response_rate=u'0.746751', pre_price=u'2300', AcceptRateThreshold=u'0.155851', PriceRatio=u'2', AnswerRateGap=u'-0.1', final_fee=u'1520', model_result=u'{\"accept_rate\":0.9128656387329102,\"answer_rate\":0.423454}', accept_rate=u'0.9128656387329102', answer_rate=u'0.423454', product_athena_key=u'SpFlash', dt=u'2020-12-05', hour=u'22'),\n",
       " Row(order_id=35233258186349, bubble_trace_id=u'0003ff985fcb9c2f000052546db20735', product_set=u'Other,Flash,SpFlash', pl_num=3, traceId=u'0003ff985fcb9c2f000052546db20735', athena_id=None, passenger_id=u'17592478226663', premiumH5AcceptRatio=u'0.144905', response_rate=u'0.746751', pre_price=u'2300', AcceptRateThreshold=u'0.155851', PriceRatio=u'2', AnswerRateGap=u'-0.1', final_fee=u'1650', model_result=u'{\"accept_rate\":0.8100142478942871,\"answer_rate\":0.994797}', accept_rate=u'0.8100142478942871', answer_rate=u'0.994797', product_athena_key=u'Flash', dt=u'2020-12-05', hour=u'22'),\n",
       " Row(order_id=35233258186349, bubble_trace_id=u'0003ff985fcb9c2f000052546db20735', product_set=u'Other,Flash,SpFlash', pl_num=3, traceId=u'0003ff985fcb9c2f000052546db20735', athena_id=None, passenger_id=u'17592478226663', premiumH5AcceptRatio=u'0.144905', response_rate=u'0.746751', pre_price=u'2300', AcceptRateThreshold=u'0.155851', PriceRatio=u'2', AnswerRateGap=u'-0.1', final_fee=u'1540', model_result=u'{\"accept_rate\":0.7963143587112427,\"answer_rate\":-1}', accept_rate=u'0.7963143587112427', answer_rate=u'-1', product_athena_key=u'ShortSpecial', dt=u'2020-12-05', hour=u'22'),\n",
       " Row(order_id=35233258186349, bubble_trace_id=u'0003ff985fcb9c2f000052546db20735', product_set=u'Other,Flash,SpFlash', pl_num=3, traceId=u'0003ff985fcb9c2f000052546db20735', athena_id=None, passenger_id=u'17592478226663', premiumH5AcceptRatio=u'0.144905', response_rate=u'0.746751', pre_price=u'2300', AcceptRateThreshold=u'0.155851', PriceRatio=u'2', AnswerRateGap=u'-0.1', final_fee=u'1730', model_result=u'{\"accept_rate\":0.20240247249603271,\"answer_rate\":0.966949}', accept_rate=u'0.20240247249603271', answer_rate=u'0.966949', product_athena_key=u'APlusFlash', dt=u'2020-12-05', hour=u'22'),\n",
       " Row(order_id=35233258186349, bubble_trace_id=u'0003ff985fcb9c2f000052546db20735', product_set=u'Other,Flash,SpFlash', pl_num=3, traceId=u'0003ff985fcb9c2f000052546db20735', athena_id=None, passenger_id=u'17592478226663', premiumH5AcceptRatio=u'0.144905', response_rate=u'0.746751', pre_price=u'2300', AcceptRateThreshold=u'0.155851', PriceRatio=u'2', AnswerRateGap=u'-0.1', final_fee=u'2300', model_result=u'{\"accept_rate\":0.0711762011051178,\"answer_rate\":0.986024}', accept_rate=u'0.0711762011051178', answer_rate=u'0.986024', product_athena_key=u'Premium', dt=u'2020-12-05', hour=u'22')]"
      ]
     },
     "execution_count": 188,
     "metadata": {},
     "output_type": "execute_result"
    }
   ],
   "source": [
    "data_select = spark.sql(data_select)\n",
    "data_select.cache()\n",
    "data_select.head(5)"
   ]
  },
  {
   "cell_type": "code",
   "execution_count": 189,
   "metadata": {
    "collapsed": false
   },
   "outputs": [
    {
     "data": {
      "text/plain": [
       "['order_id',\n",
       " 'bubble_trace_id',\n",
       " 'product_set',\n",
       " 'pl_num',\n",
       " 'traceId',\n",
       " 'athena_id',\n",
       " 'passenger_id',\n",
       " 'premiumH5AcceptRatio',\n",
       " 'response_rate',\n",
       " 'pre_price',\n",
       " 'AcceptRateThreshold',\n",
       " 'PriceRatio',\n",
       " 'AnswerRateGap',\n",
       " 'final_fee',\n",
       " 'model_result',\n",
       " 'accept_rate',\n",
       " 'answer_rate',\n",
       " 'product_athena_key',\n",
       " 'dt',\n",
       " 'hour']"
      ]
     },
     "execution_count": 189,
     "metadata": {},
     "output_type": "execute_result"
    }
   ],
   "source": [
    "data_select.columns"
   ]
  },
  {
   "cell_type": "code",
   "execution_count": 190,
   "metadata": {
    "collapsed": false
   },
   "outputs": [
    {
     "data": {
      "text/plain": [
       "[Row(order_id=35233258186349, bubble_trace_id=u'0003ff985fcb9c2f000052546db20735', product_set=u'Other,Flash,SpFlash', pl_num=3, traceId=u'0003ff985fcb9c2f000052546db20735', athena_id=None, passenger_id=u'17592478226663', premiumH5AcceptRatio=u'0.144905', response_rate=u'0.746751', pre_price=u'2300', AcceptRateThreshold=u'0.155851', PriceRatio=u'2', AnswerRateGap=u'-0.1', final_fee=u'1520', model_result=u'{\"accept_rate\":0.9128656387329102,\"answer_rate\":0.423454}', accept_rate=u'0.9128656387329102', answer_rate=u'0.423454', product_athena_key=u'SpFlash', dt=u'2020-12-05', hour=u'22'),\n",
       " Row(order_id=35233258186349, bubble_trace_id=u'0003ff985fcb9c2f000052546db20735', product_set=u'Other,Flash,SpFlash', pl_num=3, traceId=u'0003ff985fcb9c2f000052546db20735', athena_id=None, passenger_id=u'17592478226663', premiumH5AcceptRatio=u'0.144905', response_rate=u'0.746751', pre_price=u'2300', AcceptRateThreshold=u'0.155851', PriceRatio=u'2', AnswerRateGap=u'-0.1', final_fee=u'1650', model_result=u'{\"accept_rate\":0.8100142478942871,\"answer_rate\":0.994797}', accept_rate=u'0.8100142478942871', answer_rate=u'0.994797', product_athena_key=u'Flash', dt=u'2020-12-05', hour=u'22'),\n",
       " Row(order_id=35233258186349, bubble_trace_id=u'0003ff985fcb9c2f000052546db20735', product_set=u'Other,Flash,SpFlash', pl_num=3, traceId=u'0003ff985fcb9c2f000052546db20735', athena_id=None, passenger_id=u'17592478226663', premiumH5AcceptRatio=u'0.144905', response_rate=u'0.746751', pre_price=u'2300', AcceptRateThreshold=u'0.155851', PriceRatio=u'2', AnswerRateGap=u'-0.1', final_fee=u'1540', model_result=u'{\"accept_rate\":0.7963143587112427,\"answer_rate\":-1}', accept_rate=u'0.7963143587112427', answer_rate=u'-1', product_athena_key=u'ShortSpecial', dt=u'2020-12-05', hour=u'22'),\n",
       " Row(order_id=35233258186349, bubble_trace_id=u'0003ff985fcb9c2f000052546db20735', product_set=u'Other,Flash,SpFlash', pl_num=3, traceId=u'0003ff985fcb9c2f000052546db20735', athena_id=None, passenger_id=u'17592478226663', premiumH5AcceptRatio=u'0.144905', response_rate=u'0.746751', pre_price=u'2300', AcceptRateThreshold=u'0.155851', PriceRatio=u'2', AnswerRateGap=u'-0.1', final_fee=u'1730', model_result=u'{\"accept_rate\":0.20240247249603271,\"answer_rate\":0.966949}', accept_rate=u'0.20240247249603271', answer_rate=u'0.966949', product_athena_key=u'APlusFlash', dt=u'2020-12-05', hour=u'22'),\n",
       " Row(order_id=35233258186349, bubble_trace_id=u'0003ff985fcb9c2f000052546db20735', product_set=u'Other,Flash,SpFlash', pl_num=3, traceId=u'0003ff985fcb9c2f000052546db20735', athena_id=None, passenger_id=u'17592478226663', premiumH5AcceptRatio=u'0.144905', response_rate=u'0.746751', pre_price=u'2300', AcceptRateThreshold=u'0.155851', PriceRatio=u'2', AnswerRateGap=u'-0.1', final_fee=u'2300', model_result=u'{\"accept_rate\":0.0711762011051178,\"answer_rate\":0.986024}', accept_rate=u'0.0711762011051178', answer_rate=u'0.986024', product_athena_key=u'Premium', dt=u'2020-12-05', hour=u'22')]"
      ]
     },
     "execution_count": 190,
     "metadata": {},
     "output_type": "execute_result"
    }
   ],
   "source": [
    "x = data_select.head(5)\n",
    "x"
   ]
  },
  {
   "cell_type": "markdown",
   "metadata": {},
   "source": [
    "# pk决策时，因为不同勾选业务线过滤冒泡数与过滤比"
   ]
  },
  {
   "cell_type": "code",
   "execution_count": 197,
   "metadata": {
    "collapsed": true
   },
   "outputs": [],
   "source": [
    "def map_func(x):\n",
    "    k, vv = x\n",
    "    trace_id = k\n",
    "    rst = dict()\n",
    "    multi_unavailable_list = set()\n",
    "    answer_multi_unavailable_list = set()\n",
    "    price_multi_unavailable_list = set()\n",
    "    accept_multi_unavailable_list = set()\n",
    "    single_available_list = set()\n",
    "    pl_num = 0\n",
    "    product_set = []\n",
    "    '''\n",
    "    Build multi_unavailable_list and single_available_list\n",
    "    '''\n",
    "    for v in vv:\n",
    "        product_set = v[\"product_set\"].split(\",\")\n",
    "        pl_num = int(v[\"pl_num\"])\n",
    "        premiumH5AcceptRatio = float(v[\"premiumH5AcceptRatio\"])\n",
    "        response_rate = float(v[\"response_rate\"])\n",
    "        pre_price = float(v[\"pre_price\"])\n",
    "        AcceptRateThreshold = 0.155851#float(v[\"AcceptRateThreshold\"])\n",
    "        PriceRatio = 2#float(v[\"PriceRatio\"])\n",
    "        AnswerRateGap = -0.1#float(v[\"AnswerRateGap\"])\n",
    "        final_fee = float(v[\"final_fee\"])\n",
    "        accept_rate = float(v[\"accept_rate\"])\n",
    "        answer_rate = float(v[\"answer_rate\"])\n",
    "        product_athena_key = v[\"product_athena_key\"]\n",
    "        product_judge_list = [\"Carpool\", \"SpFlash\", \"APlusFlash\", \"Unione\", \"YouXiang\"]\n",
    "        total_judge = False\n",
    "        if product_athena_key in product_judge_list:\n",
    "            #Add Filter Reason\n",
    "            if response_rate < answer_rate + AnswerRateGap:\n",
    "                answer_multi_unavailable_list.add(product_athena_key)\n",
    "            if pre_price > final_fee + PriceRatio:\n",
    "                price_multi_unavailable_list.add(product_athena_key)\n",
    "            if premiumH5AcceptRatio <= AcceptRateThreshold:\n",
    "                accept_multi_unavailable_list.add(product_athena_key)\n",
    "            #Add multi_unavailavailable_list and single_available_list\n",
    "            if response_rate < answer_rate + AnswerRateGap \\\n",
    "            or pre_price > final_fee + PriceRatio \\\n",
    "            or premiumH5AcceptRatio <= AcceptRateThreshold:\n",
    "                multi_unavailable_list.add(product_athena_key)\n",
    "            else:\n",
    "                single_available_list.add(product_athena_key)\n",
    "        else:\n",
    "            if product_athena_key != \"Flash\":\n",
    "                multi_unavailable_list.add(product_athena_key)\n",
    "        #Add Flash Product In the End\n",
    "        single_available_list.add(\"Flash\")\n",
    "    '''\n",
    "    PK Decision\n",
    "    '''\n",
    "    guide_judge = False\n",
    "    if pl_num == 1:\n",
    "        inner_set = single_available_list.intersection(product_set)\n",
    "        if len(inner_set) != 0:\n",
    "            guide_judge = True\n",
    "        else:\n",
    "            for product in product_set:#遍历勾选集合\n",
    "                total_filter, answer_filter, price_filter, accept_filter, other_filter = 1, 0, 0, 0, 0\n",
    "                judge = True\n",
    "                if product in answer_multi_unavailable_list:\n",
    "                    judge = False\n",
    "                    answer_filter = 1\n",
    "                if product in price_multi_unavailable_list:\n",
    "                    judge = False\n",
    "                    price_filter = 1\n",
    "                if product in accept_multi_unavailable_list:\n",
    "                    judge = False\n",
    "                    accept_filter = 1\n",
    "                if judge and product in multi_unavailable_list:\n",
    "                    other_filter = 1\n",
    "                rst[product] = [total_filter, answer_filter, price_filter, accept_filter, other_filter]\n",
    "                \n",
    "    else:\n",
    "        inner_set = multi_unavailable_list.intersection(product_set)\n",
    "        if len(inner_set) == 0:\n",
    "            guide_judge = True\n",
    "        else:\n",
    "            for product in inner_set:#遍历勾选集合与多发不可导集合交集\n",
    "                total_filter, answer_filter, price_filter, accept_filter, other_filter = 1, 0, 0, 0, 0\n",
    "                judge = True\n",
    "                if product in answer_multi_unavailable_list:\n",
    "                    judge = False\n",
    "                    answer_filter = 1\n",
    "                if product in price_multi_unavailable_list:\n",
    "                    judge = False\n",
    "                    price_filter = 1\n",
    "                if product in accept_multi_unavailable_list:\n",
    "                    judge = False\n",
    "                    accept_filter = 1\n",
    "                if judge:\n",
    "                    other_filter = 1\n",
    "                rst[product] = [total_filter, answer_filter, price_filter, accept_filter, other_filter]\n",
    "    result = []\n",
    "    for key in rst:\n",
    "        tmp = (key, rst[key])\n",
    "        result.append(tmp)\n",
    "    return result"
   ]
  },
  {
   "cell_type": "code",
   "execution_count": 198,
   "metadata": {
    "collapsed": false
   },
   "outputs": [
    {
     "data": {
      "text/plain": [
       "[(u'SpFlash', [1, 0, 1, 1, 0])]"
      ]
     },
     "execution_count": 198,
     "metadata": {},
     "output_type": "execute_result"
    }
   ],
   "source": [
    "map_func((\"000081e15fc5df7b000054ea84acacfc\", x))"
   ]
  },
  {
   "cell_type": "code",
   "execution_count": 199,
   "metadata": {
    "collapsed": true
   },
   "outputs": [],
   "source": [
    "def reduce_func(v1, v2):\n",
    "    return list(map(sum, zip(v1, v2))) "
   ]
  },
  {
   "cell_type": "code",
   "execution_count": 200,
   "metadata": {
    "collapsed": false
   },
   "outputs": [
    {
     "data": {
      "text/plain": [
       "[(u'Unione', [163871, 80760, 155121, 105403, 0]),\n",
       " (u'SpFlash', [283854, 39631, 227528, 163503, 0]),\n",
       " (u'APlusFlash', [107291, 63413, 95988, 60289, 0]),\n",
       " (u'Carpool', [36330, 16750, 36327, 29058, 0]),\n",
       " (u'CommercialPremium', [5595, 0, 0, 0, 5595]),\n",
       " (u'Premium', [54796, 0, 0, 0, 54796]),\n",
       " (u'Luxury', [977, 0, 0, 0, 977]),\n",
       " (u'Other', [4508, 0, 0, 0, 0]),\n",
       " (u'YouXiang', [64787, 38143, 50836, 23185, 0])]"
      ]
     },
     "execution_count": 200,
     "metadata": {},
     "output_type": "execute_result"
    }
   ],
   "source": [
    "rst = data_select.rdd \\\n",
    "    .map(lambda x: (x[\"bubble_trace_id\"], x)) \\\n",
    "    .groupByKey() \\\n",
    "    .flatMap(map_func) \\\n",
    "    .reduceByKey(reduce_func) \\\n",
    "    .collect()\n",
    "rst"
   ]
  },
  {
   "cell_type": "code",
   "execution_count": 201,
   "metadata": {
    "collapsed": true
   },
   "outputs": [],
   "source": [
    "def to_pandas(data):\n",
    "    for k,v in data:\n",
    "        v.append(k)\n",
    "    rst = pd.DataFrame([v for _, v in data])\n",
    "    rst.columns = [\n",
    "        \"total_filter\",\n",
    "        \"answer_filter\",\n",
    "        \"price_filter\",\n",
    "        \"accept_filter\",\n",
    "        \"other_filter\",\n",
    "        \"product_line\"\n",
    "    ]\n",
    "    return rst"
   ]
  },
  {
   "cell_type": "code",
   "execution_count": 202,
   "metadata": {
    "collapsed": false
   },
   "outputs": [
    {
     "data": {
      "text/html": [
       "<div>\n",
       "<table border=\"1\" class=\"dataframe\">\n",
       "  <thead>\n",
       "    <tr style=\"text-align: right;\">\n",
       "      <th></th>\n",
       "      <th>total_filter</th>\n",
       "      <th>answer_filter</th>\n",
       "      <th>price_filter</th>\n",
       "      <th>accept_filter</th>\n",
       "      <th>other_filter</th>\n",
       "      <th>product_line</th>\n",
       "      <th>answer_filter_rate</th>\n",
       "      <th>price_filter_rate</th>\n",
       "      <th>accept_filter_rate</th>\n",
       "      <th>other_filter_rate</th>\n",
       "    </tr>\n",
       "  </thead>\n",
       "  <tbody>\n",
       "    <tr>\n",
       "      <th>0</th>\n",
       "      <td>163871</td>\n",
       "      <td>80760</td>\n",
       "      <td>155121</td>\n",
       "      <td>105403</td>\n",
       "      <td>0</td>\n",
       "      <td>Unione</td>\n",
       "      <td>0.492827</td>\n",
       "      <td>0.946604</td>\n",
       "      <td>0.643207</td>\n",
       "      <td>0</td>\n",
       "    </tr>\n",
       "    <tr>\n",
       "      <th>1</th>\n",
       "      <td>283854</td>\n",
       "      <td>39631</td>\n",
       "      <td>227528</td>\n",
       "      <td>163503</td>\n",
       "      <td>0</td>\n",
       "      <td>SpFlash</td>\n",
       "      <td>0.139618</td>\n",
       "      <td>0.801567</td>\n",
       "      <td>0.576011</td>\n",
       "      <td>0</td>\n",
       "    </tr>\n",
       "    <tr>\n",
       "      <th>2</th>\n",
       "      <td>107291</td>\n",
       "      <td>63413</td>\n",
       "      <td>95988</td>\n",
       "      <td>60289</td>\n",
       "      <td>0</td>\n",
       "      <td>APlusFlash</td>\n",
       "      <td>0.591037</td>\n",
       "      <td>0.894651</td>\n",
       "      <td>0.561920</td>\n",
       "      <td>0</td>\n",
       "    </tr>\n",
       "    <tr>\n",
       "      <th>3</th>\n",
       "      <td>36330</td>\n",
       "      <td>16750</td>\n",
       "      <td>36327</td>\n",
       "      <td>29058</td>\n",
       "      <td>0</td>\n",
       "      <td>Carpool</td>\n",
       "      <td>0.461051</td>\n",
       "      <td>0.999917</td>\n",
       "      <td>0.799835</td>\n",
       "      <td>0</td>\n",
       "    </tr>\n",
       "    <tr>\n",
       "      <th>4</th>\n",
       "      <td>5595</td>\n",
       "      <td>0</td>\n",
       "      <td>0</td>\n",
       "      <td>0</td>\n",
       "      <td>5595</td>\n",
       "      <td>CommercialPremium</td>\n",
       "      <td>0.000000</td>\n",
       "      <td>0.000000</td>\n",
       "      <td>0.000000</td>\n",
       "      <td>1</td>\n",
       "    </tr>\n",
       "    <tr>\n",
       "      <th>5</th>\n",
       "      <td>54796</td>\n",
       "      <td>0</td>\n",
       "      <td>0</td>\n",
       "      <td>0</td>\n",
       "      <td>54796</td>\n",
       "      <td>Premium</td>\n",
       "      <td>0.000000</td>\n",
       "      <td>0.000000</td>\n",
       "      <td>0.000000</td>\n",
       "      <td>1</td>\n",
       "    </tr>\n",
       "    <tr>\n",
       "      <th>6</th>\n",
       "      <td>977</td>\n",
       "      <td>0</td>\n",
       "      <td>0</td>\n",
       "      <td>0</td>\n",
       "      <td>977</td>\n",
       "      <td>Luxury</td>\n",
       "      <td>0.000000</td>\n",
       "      <td>0.000000</td>\n",
       "      <td>0.000000</td>\n",
       "      <td>1</td>\n",
       "    </tr>\n",
       "    <tr>\n",
       "      <th>7</th>\n",
       "      <td>4508</td>\n",
       "      <td>0</td>\n",
       "      <td>0</td>\n",
       "      <td>0</td>\n",
       "      <td>0</td>\n",
       "      <td>Other</td>\n",
       "      <td>0.000000</td>\n",
       "      <td>0.000000</td>\n",
       "      <td>0.000000</td>\n",
       "      <td>0</td>\n",
       "    </tr>\n",
       "    <tr>\n",
       "      <th>8</th>\n",
       "      <td>64787</td>\n",
       "      <td>38143</td>\n",
       "      <td>50836</td>\n",
       "      <td>23185</td>\n",
       "      <td>0</td>\n",
       "      <td>YouXiang</td>\n",
       "      <td>0.588745</td>\n",
       "      <td>0.784664</td>\n",
       "      <td>0.357865</td>\n",
       "      <td>0</td>\n",
       "    </tr>\n",
       "  </tbody>\n",
       "</table>\n",
       "</div>"
      ],
      "text/plain": [
       "   total_filter  answer_filter  price_filter  accept_filter  other_filter  \\\n",
       "0        163871          80760        155121         105403             0   \n",
       "1        283854          39631        227528         163503             0   \n",
       "2        107291          63413         95988          60289             0   \n",
       "3         36330          16750         36327          29058             0   \n",
       "4          5595              0             0              0          5595   \n",
       "5         54796              0             0              0         54796   \n",
       "6           977              0             0              0           977   \n",
       "7          4508              0             0              0             0   \n",
       "8         64787          38143         50836          23185             0   \n",
       "\n",
       "        product_line  answer_filter_rate  price_filter_rate  \\\n",
       "0             Unione            0.492827           0.946604   \n",
       "1            SpFlash            0.139618           0.801567   \n",
       "2         APlusFlash            0.591037           0.894651   \n",
       "3            Carpool            0.461051           0.999917   \n",
       "4  CommercialPremium            0.000000           0.000000   \n",
       "5            Premium            0.000000           0.000000   \n",
       "6             Luxury            0.000000           0.000000   \n",
       "7              Other            0.000000           0.000000   \n",
       "8           YouXiang            0.588745           0.784664   \n",
       "\n",
       "   accept_filter_rate  other_filter_rate  \n",
       "0            0.643207                  0  \n",
       "1            0.576011                  0  \n",
       "2            0.561920                  0  \n",
       "3            0.799835                  0  \n",
       "4            0.000000                  1  \n",
       "5            0.000000                  1  \n",
       "6            0.000000                  1  \n",
       "7            0.000000                  0  \n",
       "8            0.357865                  0  "
      ]
     },
     "execution_count": 202,
     "metadata": {},
     "output_type": "execute_result"
    }
   ],
   "source": [
    "rst_pd = to_pandas(rst)\n",
    "rst_pd[\"answer_filter_rate\"] = rst_pd[\"answer_filter\"] / rst_pd[\"total_filter\"]\n",
    "rst_pd[\"price_filter_rate\"] = rst_pd[\"price_filter\"] / rst_pd[\"total_filter\"]\n",
    "rst_pd[\"accept_filter_rate\"] = rst_pd[\"accept_filter\"] / rst_pd[\"total_filter\"]\n",
    "rst_pd[\"other_filter_rate\"] = rst_pd[\"other_filter\"] / rst_pd[\"total_filter\"]\n",
    "rst_pd"
   ]
  },
  {
   "cell_type": "code",
   "execution_count": 203,
   "metadata": {
    "collapsed": false
   },
   "outputs": [],
   "source": [
    "rst_pd.to_csv(\"./rst/filter_reason_rate.csv\", index=False, header=True, sep=\",\", encoding=\"utf-8_sig\")"
   ]
  },
  {
   "cell_type": "code",
   "execution_count": 41,
   "metadata": {
    "collapsed": false
   },
   "outputs": [
    {
     "data": {
      "text/plain": [
       "[5, 7, 9]"
      ]
     },
     "execution_count": 41,
     "metadata": {},
     "output_type": "execute_result"
    }
   ],
   "source": [
    "a = np.array([1,2,3])\n",
    "b = np.array([4,5,6])\n",
    "list(a + b)"
   ]
  },
  {
   "cell_type": "code",
   "execution_count": 39,
   "metadata": {
    "collapsed": false
   },
   "outputs": [
    {
     "data": {
      "text/plain": [
       "21"
      ]
     },
     "execution_count": 39,
     "metadata": {},
     "output_type": "execute_result"
    }
   ],
   "source": [
    "np.sum([a,b])"
   ]
  },
  {
   "cell_type": "code",
   "execution_count": 94,
   "metadata": {
    "collapsed": false
   },
   "outputs": [
    {
     "data": {
      "text/plain": [
       "[6, 8]"
      ]
     },
     "execution_count": 94,
     "metadata": {},
     "output_type": "execute_result"
    }
   ],
   "source": [
    "a = np.array([1,2])\n",
    "b = np.array([5,6])\n",
    "list(a + b)"
   ]
  },
  {
   "cell_type": "code",
   "execution_count": 6,
   "metadata": {
    "collapsed": false
   },
   "outputs": [
    {
     "data": {
      "text/plain": [
       "'1.2,2.5,3.2'"
      ]
     },
     "execution_count": 6,
     "metadata": {},
     "output_type": "execute_result"
    }
   ],
   "source": [
    "\",\".join([str(x) for x in [1.2,2.5,3.2]])"
   ]
  },
  {
   "cell_type": "code",
   "execution_count": 7,
   "metadata": {
    "collapsed": true
   },
   "outputs": [],
   "source": [
    "def reduce_func(v1, v2):\n",
    "    return list(map(sum, zip(v1, v2))) "
   ]
  },
  {
   "cell_type": "code",
   "execution_count": 15,
   "metadata": {
    "collapsed": false
   },
   "outputs": [],
   "source": [
    "v1 = 2.#[1865.0,2.]\n",
    "v2 = 3.#[1800.0, 3]"
   ]
  },
  {
   "cell_type": "code",
   "execution_count": 16,
   "metadata": {
    "collapsed": false
   },
   "outputs": [
    {
     "ename": "TypeError",
     "evalue": "zip argument #1 must support iteration",
     "output_type": "error",
     "traceback": [
      "\u001b[1;31m---------------------------------------------------------------------------\u001b[0m",
      "\u001b[1;31mTypeError\u001b[0m                                 Traceback (most recent call last)",
      "\u001b[1;32m<ipython-input-16-ee5ee6329f19>\u001b[0m in \u001b[0;36m<module>\u001b[1;34m()\u001b[0m\n\u001b[1;32m----> 1\u001b[1;33m \u001b[0mreduce_func\u001b[0m\u001b[1;33m(\u001b[0m\u001b[0mv1\u001b[0m\u001b[1;33m,\u001b[0m \u001b[0mv2\u001b[0m\u001b[1;33m)\u001b[0m\u001b[1;33m\u001b[0m\u001b[0m\n\u001b[0m",
      "\u001b[1;32m<ipython-input-7-81e8174aafcc>\u001b[0m in \u001b[0;36mreduce_func\u001b[1;34m(v1, v2)\u001b[0m\n\u001b[0;32m      1\u001b[0m \u001b[1;32mdef\u001b[0m \u001b[0mreduce_func\u001b[0m\u001b[1;33m(\u001b[0m\u001b[0mv1\u001b[0m\u001b[1;33m,\u001b[0m \u001b[0mv2\u001b[0m\u001b[1;33m)\u001b[0m\u001b[1;33m:\u001b[0m\u001b[1;33m\u001b[0m\u001b[0m\n\u001b[1;32m----> 2\u001b[1;33m     \u001b[1;32mreturn\u001b[0m \u001b[0mlist\u001b[0m\u001b[1;33m(\u001b[0m\u001b[0mmap\u001b[0m\u001b[1;33m(\u001b[0m\u001b[0msum\u001b[0m\u001b[1;33m,\u001b[0m \u001b[0mzip\u001b[0m\u001b[1;33m(\u001b[0m\u001b[0mv1\u001b[0m\u001b[1;33m,\u001b[0m \u001b[0mv2\u001b[0m\u001b[1;33m)\u001b[0m\u001b[1;33m)\u001b[0m\u001b[1;33m)\u001b[0m\u001b[1;33m\u001b[0m\u001b[0m\n\u001b[0m",
      "\u001b[1;31mTypeError\u001b[0m: zip argument #1 must support iteration"
     ]
    }
   ],
   "source": [
    "reduce_func(v1, v2)"
   ]
  },
  {
   "cell_type": "code",
   "execution_count": null,
   "metadata": {
    "collapsed": true
   },
   "outputs": [],
   "source": []
  }
 ],
 "metadata": {
  "kernelspec": {
   "display_name": "Python 2",
   "language": "python",
   "name": "python2"
  },
  "language_info": {
   "codemirror_mode": {
    "name": "ipython",
    "version": 2
   },
   "file_extension": ".py",
   "mimetype": "text/x-python",
   "name": "python",
   "nbconvert_exporter": "python",
   "pygments_lexer": "ipython2",
   "version": "2.7.11"
  }
 },
 "nbformat": 4,
 "nbformat_minor": 0
}
