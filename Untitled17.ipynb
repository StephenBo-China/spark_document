{
 "cells": [
  {
   "cell_type": "code",
   "execution_count": 25,
   "metadata": {
    "collapsed": true
   },
   "outputs": [],
   "source": [
    "import pandas as pd\n",
    "import numpy as np"
   ]
  },
  {
   "cell_type": "code",
   "execution_count": 26,
   "metadata": {
    "collapsed": false
   },
   "outputs": [
    {
     "data": {
      "text/html": [
       "<div>\n",
       "<table border=\"1\" class=\"dataframe\">\n",
       "  <thead>\n",
       "    <tr style=\"text-align: right;\">\n",
       "      <th></th>\n",
       "      <th>trace_id</th>\n",
       "      <th>label</th>\n",
       "    </tr>\n",
       "  </thead>\n",
       "  <tbody>\n",
       "    <tr>\n",
       "      <th>0</th>\n",
       "      <td>NaN</td>\n",
       "      <td>-1</td>\n",
       "    </tr>\n",
       "    <tr>\n",
       "      <th>1</th>\n",
       "      <td>c53c38715fdedba400005c4b764c2609</td>\n",
       "      <td>0</td>\n",
       "    </tr>\n",
       "    <tr>\n",
       "      <th>2</th>\n",
       "      <td>7843388b5fe02c74000048a13cb6dbfc</td>\n",
       "      <td>0</td>\n",
       "    </tr>\n",
       "    <tr>\n",
       "      <th>3</th>\n",
       "      <td>c0a800675fd466b13a5b807210460403</td>\n",
       "      <td>0</td>\n",
       "    </tr>\n",
       "    <tr>\n",
       "      <th>4</th>\n",
       "      <td>909b23265fdc3e28000066c465d8d4e2</td>\n",
       "      <td>0</td>\n",
       "    </tr>\n",
       "    <tr>\n",
       "      <th>5</th>\n",
       "      <td>ab65d1315fd34126000044a7be5f4dbc</td>\n",
       "      <td>0</td>\n",
       "    </tr>\n",
       "    <tr>\n",
       "      <th>6</th>\n",
       "      <td>848d90bc5fd37d1f00003d258130d8fa</td>\n",
       "      <td>0</td>\n",
       "    </tr>\n",
       "    <tr>\n",
       "      <th>7</th>\n",
       "      <td>d8cb50c05fe0151c00001e95227f6909</td>\n",
       "      <td>0</td>\n",
       "    </tr>\n",
       "    <tr>\n",
       "      <th>8</th>\n",
       "      <td>499714b85fcf0c910000283c4bcd387b</td>\n",
       "      <td>0</td>\n",
       "    </tr>\n",
       "    <tr>\n",
       "      <th>9</th>\n",
       "      <td>993c23105fd24d09b93c8d78107d0303</td>\n",
       "      <td>0</td>\n",
       "    </tr>\n",
       "    <tr>\n",
       "      <th>10</th>\n",
       "      <td>c0a81ff35fdbd668a634b5bb10860303</td>\n",
       "      <td>0</td>\n",
       "    </tr>\n",
       "    <tr>\n",
       "      <th>11</th>\n",
       "      <td>5e32a82e5fd2bdce00007b83fd92b59e</td>\n",
       "      <td>0</td>\n",
       "    </tr>\n",
       "    <tr>\n",
       "      <th>12</th>\n",
       "      <td>8d4fe2be5fd473c000003a2a9bd8a6f3</td>\n",
       "      <td>0</td>\n",
       "    </tr>\n",
       "    <tr>\n",
       "      <th>13</th>\n",
       "      <td>dbfdcfdc5fd8672400006f83206f37f0</td>\n",
       "      <td>0</td>\n",
       "    </tr>\n",
       "    <tr>\n",
       "      <th>14</th>\n",
       "      <td>1b7df2c15fd7eec200003127c02746a8</td>\n",
       "      <td>0</td>\n",
       "    </tr>\n",
       "    <tr>\n",
       "      <th>15</th>\n",
       "      <td>993c23105fdde7bcbc5d0a98107d0303</td>\n",
       "      <td>0</td>\n",
       "    </tr>\n",
       "    <tr>\n",
       "      <th>16</th>\n",
       "      <td>c0a801655fd06973760fb82810830303</td>\n",
       "      <td>0</td>\n",
       "    </tr>\n",
       "    <tr>\n",
       "      <th>17</th>\n",
       "      <td>b3500c315fcef802d101aa3810830303</td>\n",
       "      <td>0</td>\n",
       "    </tr>\n",
       "    <tr>\n",
       "      <th>18</th>\n",
       "      <td>f78a7bf05fe0608d00007e1a9effdb27</td>\n",
       "      <td>0</td>\n",
       "    </tr>\n",
       "    <tr>\n",
       "      <th>19</th>\n",
       "      <td>d2699dcf5fd4452e00006c8c8fd9c70f</td>\n",
       "      <td>0</td>\n",
       "    </tr>\n",
       "    <tr>\n",
       "      <th>20</th>\n",
       "      <td>3a8281135fd877e3a712f03b108a0303</td>\n",
       "      <td>0</td>\n",
       "    </tr>\n",
       "    <tr>\n",
       "      <th>21</th>\n",
       "      <td>102127765fda177dcc08f30910b10303</td>\n",
       "      <td>0</td>\n",
       "    </tr>\n",
       "    <tr>\n",
       "      <th>22</th>\n",
       "      <td>c0a800675fd1938c5058053b10330503</td>\n",
       "      <td>0</td>\n",
       "    </tr>\n",
       "    <tr>\n",
       "      <th>23</th>\n",
       "      <td>605399565fd2e03f0000220655721126</td>\n",
       "      <td>0</td>\n",
       "    </tr>\n",
       "    <tr>\n",
       "      <th>24</th>\n",
       "      <td>0d47bf635fd8d548000011972d21ae4f</td>\n",
       "      <td>0</td>\n",
       "    </tr>\n",
       "    <tr>\n",
       "      <th>25</th>\n",
       "      <td>eb35ae775fdebb01480b033a10810303</td>\n",
       "      <td>0</td>\n",
       "    </tr>\n",
       "    <tr>\n",
       "      <th>26</th>\n",
       "      <td>5f6e9f1d5fd48c3e3f0d6e5610dd0303</td>\n",
       "      <td>0</td>\n",
       "    </tr>\n",
       "    <tr>\n",
       "      <th>27</th>\n",
       "      <td>7d07f9905fd337e20000466ea03e180b</td>\n",
       "      <td>0</td>\n",
       "    </tr>\n",
       "    <tr>\n",
       "      <th>28</th>\n",
       "      <td>35ab13f85fdbe05300003f72acfa2b74</td>\n",
       "      <td>0</td>\n",
       "    </tr>\n",
       "    <tr>\n",
       "      <th>29</th>\n",
       "      <td>b3500c315fd1739fb7499f7310830303</td>\n",
       "      <td>0</td>\n",
       "    </tr>\n",
       "    <tr>\n",
       "      <th>...</th>\n",
       "      <td>...</td>\n",
       "      <td>...</td>\n",
       "    </tr>\n",
       "    <tr>\n",
       "      <th>577221</th>\n",
       "      <td>7d30da495fd57ae18153b52a10c20303</td>\n",
       "      <td>0</td>\n",
       "    </tr>\n",
       "    <tr>\n",
       "      <th>577222</th>\n",
       "      <td>e50ab75d5fdd856adc05b945108b0303</td>\n",
       "      <td>0</td>\n",
       "    </tr>\n",
       "    <tr>\n",
       "      <th>577223</th>\n",
       "      <td>2d2c08645fdb858f0000453561fd2d19</td>\n",
       "      <td>0</td>\n",
       "    </tr>\n",
       "    <tr>\n",
       "      <th>577224</th>\n",
       "      <td>6d7eb5955fe078900000732fa018959f</td>\n",
       "      <td>0</td>\n",
       "    </tr>\n",
       "    <tr>\n",
       "      <th>577225</th>\n",
       "      <td>28ebaee85fd2373e00001f01654c0dd1</td>\n",
       "      <td>0</td>\n",
       "    </tr>\n",
       "    <tr>\n",
       "      <th>577226</th>\n",
       "      <td>255fe0c85fce614d00005a416b9ec85a</td>\n",
       "      <td>0</td>\n",
       "    </tr>\n",
       "    <tr>\n",
       "      <th>577227</th>\n",
       "      <td>9913bed45fd188e1000020ebc5ae145f</td>\n",
       "      <td>0</td>\n",
       "    </tr>\n",
       "    <tr>\n",
       "      <th>577228</th>\n",
       "      <td>9450d13d5fdb5cab8033ba8c10f50303</td>\n",
       "      <td>0</td>\n",
       "    </tr>\n",
       "    <tr>\n",
       "      <th>577229</th>\n",
       "      <td>a20fc7125fd03b20000058934bf85321</td>\n",
       "      <td>0</td>\n",
       "    </tr>\n",
       "    <tr>\n",
       "      <th>577230</th>\n",
       "      <td>5a58d09d5fd07a7b00001ce5e1038c1c</td>\n",
       "      <td>0</td>\n",
       "    </tr>\n",
       "    <tr>\n",
       "      <th>577231</th>\n",
       "      <td>23a9a1dd5fd89faf00004e338db78da9</td>\n",
       "      <td>0</td>\n",
       "    </tr>\n",
       "    <tr>\n",
       "      <th>577232</th>\n",
       "      <td>0d9347d95fddfb2b00005727525a0e12</td>\n",
       "      <td>0</td>\n",
       "    </tr>\n",
       "    <tr>\n",
       "      <th>577233</th>\n",
       "      <td>067baea35fde96a800002866be3172fc</td>\n",
       "      <td>0</td>\n",
       "    </tr>\n",
       "    <tr>\n",
       "      <th>577234</th>\n",
       "      <td>ef4fbd1a5fd74510000063db59d936c6</td>\n",
       "      <td>0</td>\n",
       "    </tr>\n",
       "    <tr>\n",
       "      <th>577235</th>\n",
       "      <td>86e5fcf65fdd00f0000069c5a09f13e0</td>\n",
       "      <td>0</td>\n",
       "    </tr>\n",
       "    <tr>\n",
       "      <th>577236</th>\n",
       "      <td>3ac3c6755fd9f581cd4147a7106c0303</td>\n",
       "      <td>0</td>\n",
       "    </tr>\n",
       "    <tr>\n",
       "      <th>577237</th>\n",
       "      <td>c0a801025fdd7c479a26718b10fd0303</td>\n",
       "      <td>0</td>\n",
       "    </tr>\n",
       "    <tr>\n",
       "      <th>577238</th>\n",
       "      <td>c0a801115fd6bd5f6d27f175109a0303</td>\n",
       "      <td>0</td>\n",
       "    </tr>\n",
       "    <tr>\n",
       "      <th>577239</th>\n",
       "      <td>1d7464705fdff772751a434e10790303</td>\n",
       "      <td>0</td>\n",
       "    </tr>\n",
       "    <tr>\n",
       "      <th>577240</th>\n",
       "      <td>c0a801115fced4aca51b557a10730303</td>\n",
       "      <td>0</td>\n",
       "    </tr>\n",
       "    <tr>\n",
       "      <th>577241</th>\n",
       "      <td>c0a801115fdab429aa414db810740303</td>\n",
       "      <td>0</td>\n",
       "    </tr>\n",
       "    <tr>\n",
       "      <th>577242</th>\n",
       "      <td>057ef85f5fddf382801fac6410840303</td>\n",
       "      <td>0</td>\n",
       "    </tr>\n",
       "    <tr>\n",
       "      <th>577243</th>\n",
       "      <td>e8d33d6a5fddc5315055867e10d30303</td>\n",
       "      <td>0</td>\n",
       "    </tr>\n",
       "    <tr>\n",
       "      <th>577244</th>\n",
       "      <td>1b5e88005fd8a166af371d3c10b00303</td>\n",
       "      <td>0</td>\n",
       "    </tr>\n",
       "    <tr>\n",
       "      <th>577245</th>\n",
       "      <td>a8b6340d5fd0cc4581113a77107c0303</td>\n",
       "      <td>0</td>\n",
       "    </tr>\n",
       "    <tr>\n",
       "      <th>577246</th>\n",
       "      <td>e984d04a5fd058660282a80610880303</td>\n",
       "      <td>0</td>\n",
       "    </tr>\n",
       "    <tr>\n",
       "      <th>577247</th>\n",
       "      <td>74fb166a5fe1ca3d00007d782490432a</td>\n",
       "      <td>0</td>\n",
       "    </tr>\n",
       "    <tr>\n",
       "      <th>577248</th>\n",
       "      <td>609be1cc5fd0664f0000713e98f803ee</td>\n",
       "      <td>0</td>\n",
       "    </tr>\n",
       "    <tr>\n",
       "      <th>577249</th>\n",
       "      <td>35f9b9325fd572a20000042d2783f9f7</td>\n",
       "      <td>0</td>\n",
       "    </tr>\n",
       "    <tr>\n",
       "      <th>577250</th>\n",
       "      <td>c66d1a1f5fd7582200001656e77e7066</td>\n",
       "      <td>0</td>\n",
       "    </tr>\n",
       "  </tbody>\n",
       "</table>\n",
       "<p>577251 rows × 2 columns</p>\n",
       "</div>"
      ],
      "text/plain": [
       "                                trace_id  label\n",
       "0                                    NaN     -1\n",
       "1       c53c38715fdedba400005c4b764c2609      0\n",
       "2       7843388b5fe02c74000048a13cb6dbfc      0\n",
       "3       c0a800675fd466b13a5b807210460403      0\n",
       "4       909b23265fdc3e28000066c465d8d4e2      0\n",
       "5       ab65d1315fd34126000044a7be5f4dbc      0\n",
       "6       848d90bc5fd37d1f00003d258130d8fa      0\n",
       "7       d8cb50c05fe0151c00001e95227f6909      0\n",
       "8       499714b85fcf0c910000283c4bcd387b      0\n",
       "9       993c23105fd24d09b93c8d78107d0303      0\n",
       "10      c0a81ff35fdbd668a634b5bb10860303      0\n",
       "11      5e32a82e5fd2bdce00007b83fd92b59e      0\n",
       "12      8d4fe2be5fd473c000003a2a9bd8a6f3      0\n",
       "13      dbfdcfdc5fd8672400006f83206f37f0      0\n",
       "14      1b7df2c15fd7eec200003127c02746a8      0\n",
       "15      993c23105fdde7bcbc5d0a98107d0303      0\n",
       "16      c0a801655fd06973760fb82810830303      0\n",
       "17      b3500c315fcef802d101aa3810830303      0\n",
       "18      f78a7bf05fe0608d00007e1a9effdb27      0\n",
       "19      d2699dcf5fd4452e00006c8c8fd9c70f      0\n",
       "20      3a8281135fd877e3a712f03b108a0303      0\n",
       "21      102127765fda177dcc08f30910b10303      0\n",
       "22      c0a800675fd1938c5058053b10330503      0\n",
       "23      605399565fd2e03f0000220655721126      0\n",
       "24      0d47bf635fd8d548000011972d21ae4f      0\n",
       "25      eb35ae775fdebb01480b033a10810303      0\n",
       "26      5f6e9f1d5fd48c3e3f0d6e5610dd0303      0\n",
       "27      7d07f9905fd337e20000466ea03e180b      0\n",
       "28      35ab13f85fdbe05300003f72acfa2b74      0\n",
       "29      b3500c315fd1739fb7499f7310830303      0\n",
       "...                                  ...    ...\n",
       "577221  7d30da495fd57ae18153b52a10c20303      0\n",
       "577222  e50ab75d5fdd856adc05b945108b0303      0\n",
       "577223  2d2c08645fdb858f0000453561fd2d19      0\n",
       "577224  6d7eb5955fe078900000732fa018959f      0\n",
       "577225  28ebaee85fd2373e00001f01654c0dd1      0\n",
       "577226  255fe0c85fce614d00005a416b9ec85a      0\n",
       "577227  9913bed45fd188e1000020ebc5ae145f      0\n",
       "577228  9450d13d5fdb5cab8033ba8c10f50303      0\n",
       "577229  a20fc7125fd03b20000058934bf85321      0\n",
       "577230  5a58d09d5fd07a7b00001ce5e1038c1c      0\n",
       "577231  23a9a1dd5fd89faf00004e338db78da9      0\n",
       "577232  0d9347d95fddfb2b00005727525a0e12      0\n",
       "577233  067baea35fde96a800002866be3172fc      0\n",
       "577234  ef4fbd1a5fd74510000063db59d936c6      0\n",
       "577235  86e5fcf65fdd00f0000069c5a09f13e0      0\n",
       "577236  3ac3c6755fd9f581cd4147a7106c0303      0\n",
       "577237  c0a801025fdd7c479a26718b10fd0303      0\n",
       "577238  c0a801115fd6bd5f6d27f175109a0303      0\n",
       "577239  1d7464705fdff772751a434e10790303      0\n",
       "577240  c0a801115fced4aca51b557a10730303      0\n",
       "577241  c0a801115fdab429aa414db810740303      0\n",
       "577242  057ef85f5fddf382801fac6410840303      0\n",
       "577243  e8d33d6a5fddc5315055867e10d30303      0\n",
       "577244  1b5e88005fd8a166af371d3c10b00303      0\n",
       "577245  a8b6340d5fd0cc4581113a77107c0303      0\n",
       "577246  e984d04a5fd058660282a80610880303      0\n",
       "577247  74fb166a5fe1ca3d00007d782490432a      0\n",
       "577248  609be1cc5fd0664f0000713e98f803ee      0\n",
       "577249  35f9b9325fd572a20000042d2783f9f7      0\n",
       "577250  c66d1a1f5fd7582200001656e77e7066      0\n",
       "\n",
       "[577251 rows x 2 columns]"
      ]
     },
     "execution_count": 26,
     "metadata": {},
     "output_type": "execute_result"
    }
   ],
   "source": [
    "data = pd.read_csv(\"./rst/fail_model_label.csv\")\n",
    "data"
   ]
  },
  {
   "cell_type": "code",
   "execution_count": 28,
   "metadata": {
    "collapsed": false
   },
   "outputs": [
    {
     "data": {
      "text/plain": [
       "0.009631858584913668"
      ]
     },
     "execution_count": 28,
     "metadata": {},
     "output_type": "execute_result"
    }
   ],
   "source": [
    "(len(data[data[\"label\"] == 1]) * 1.) / (len(data) * 1.)"
   ]
  },
  {
   "cell_type": "code",
   "execution_count": 27,
   "metadata": {
    "collapsed": true
   },
   "outputs": [],
   "source": [
    "spark = SparkSession \\\n",
    "    .builder \\\n",
    "    .getOrCreate()"
   ]
  },
  {
   "cell_type": "code",
   "execution_count": 30,
   "metadata": {
    "collapsed": false
   },
   "outputs": [],
   "source": [
    "spark_df = spark.createDataFrame(data)"
   ]
  },
  {
   "cell_type": "code",
   "execution_count": 31,
   "metadata": {
    "collapsed": false
   },
   "outputs": [
    {
     "data": {
      "text/plain": [
       "[Row(trace_id=u'nan', label=-1),\n",
       " Row(trace_id=u'c53c38715fdedba400005c4b764c2609', label=0),\n",
       " Row(trace_id=u'7843388b5fe02c74000048a13cb6dbfc', label=0),\n",
       " Row(trace_id=u'c0a800675fd466b13a5b807210460403', label=0),\n",
       " Row(trace_id=u'909b23265fdc3e28000066c465d8d4e2', label=0),\n",
       " Row(trace_id=u'ab65d1315fd34126000044a7be5f4dbc', label=0),\n",
       " Row(trace_id=u'848d90bc5fd37d1f00003d258130d8fa', label=0),\n",
       " Row(trace_id=u'd8cb50c05fe0151c00001e95227f6909', label=0),\n",
       " Row(trace_id=u'499714b85fcf0c910000283c4bcd387b', label=0),\n",
       " Row(trace_id=u'993c23105fd24d09b93c8d78107d0303', label=0)]"
      ]
     },
     "execution_count": 31,
     "metadata": {},
     "output_type": "execute_result"
    }
   ],
   "source": [
    "spark_df.head(10)"
   ]
  },
  {
   "cell_type": "code",
   "execution_count": 32,
   "metadata": {
    "collapsed": true
   },
   "outputs": [],
   "source": [
    "from pyspark.sql import SparkSession, HiveContext\n",
    "def save_hive(data, table_name):\n",
    "    data.registerTempTable('test_hive')\n",
    "    sqlContext.sql(\"create table \" + table_name + \" select * from test_hive\")\n",
    "    return"
   ]
  },
  {
   "cell_type": "code",
   "execution_count": 33,
   "metadata": {
    "collapsed": true
   },
   "outputs": [],
   "source": [
    "save_hive(spark_df, \"stg_gs.fail_model_label_data\")"
   ]
  },
  {
   "cell_type": "code",
   "execution_count": 29,
   "metadata": {
    "collapsed": false
   },
   "outputs": [],
   "source": [
    "data[['trace_id']] = data[['trace_id']].astype(str)"
   ]
  },
  {
   "cell_type": "code",
   "execution_count": 21,
   "metadata": {
    "collapsed": false
   },
   "outputs": [
    {
     "data": {
      "text/plain": [
       "trace_id    object\n",
       "label        int64\n",
       "dtype: object"
      ]
     },
     "execution_count": 21,
     "metadata": {},
     "output_type": "execute_result"
    }
   ],
   "source": [
    "data.dtypes"
   ]
  },
  {
   "cell_type": "code",
   "execution_count": null,
   "metadata": {
    "collapsed": true
   },
   "outputs": [],
   "source": [
    "data[[\"two\"]] = data[[\"two\"]].astype(int)"
   ]
  },
  {
   "cell_type": "code",
   "execution_count": 1,
   "metadata": {
    "collapsed": true
   },
   "outputs": [],
   "source": [
    "def twoSum(nums, target):\n",
    "    tmp = dict()\n",
    "    for i in range(len(nums)):\n",
    "        if target - nums[i] in tmp:\n",
    "            return [tmp[target - nums[i]], i]\n",
    "        tmp[nums[i]] = i\n",
    "    return 0"
   ]
  },
  {
   "cell_type": "code",
   "execution_count": 2,
   "metadata": {
    "collapsed": false
   },
   "outputs": [
    {
     "data": {
      "text/plain": [
       "[0, 1]"
      ]
     },
     "execution_count": 2,
     "metadata": {},
     "output_type": "execute_result"
    }
   ],
   "source": [
    "twoSum([2,7,11,15], 9)"
   ]
  },
  {
   "cell_type": "code",
   "execution_count": 4,
   "metadata": {
    "collapsed": false
   },
   "outputs": [
    {
     "data": {
      "text/plain": [
       "3.75"
      ]
     },
     "execution_count": 4,
     "metadata": {},
     "output_type": "execute_result"
    }
   ],
   "source": [
    "30. / 8."
   ]
  },
  {
   "cell_type": "code",
   "execution_count": 5,
   "metadata": {
    "collapsed": false
   },
   "outputs": [
    {
     "data": {
      "text/plain": [
       "26250.0"
      ]
     },
     "execution_count": 5,
     "metadata": {},
     "output_type": "execute_result"
    }
   ],
   "source": [
    "3.75 * 7000"
   ]
  },
  {
   "cell_type": "code",
   "execution_count": 8,
   "metadata": {
    "collapsed": true
   },
   "outputs": [],
   "source": [
    "class ListNode:\n",
    "    def __init__(self, val):\n",
    "        self.val = val\n",
    "        self.next = None"
   ]
  },
  {
   "cell_type": "code",
   "execution_count": 11,
   "metadata": {
    "collapsed": false
   },
   "outputs": [],
   "source": [
    "a = ListNode(1)\n",
    "a.next = ListNode(2)"
   ]
  },
  {
   "cell_type": "code",
   "execution_count": 12,
   "metadata": {
    "collapsed": false
   },
   "outputs": [
    {
     "name": "stdout",
     "output_type": "stream",
     "text": [
      "2\n"
     ]
    }
   ],
   "source": [
    "print a.next.val"
   ]
  },
  {
   "cell_type": "code",
   "execution_count": 15,
   "metadata": {
    "collapsed": false
   },
   "outputs": [
    {
     "name": "stdout",
     "output_type": "stream",
     "text": [
      "1\n",
      "2\n"
     ]
    }
   ],
   "source": [
    "head = cur = a\n",
    "while cur != None:\n",
    "    print cur.val\n",
    "    cur = cur.next"
   ]
  },
  {
   "cell_type": "code",
   "execution_count": 20,
   "metadata": {
    "collapsed": true
   },
   "outputs": [],
   "source": [
    "def addTwoNumbers(l1, l2):\n",
    "    head1 = cur1 = l1\n",
    "    head2 = cur2 = l2\n",
    "    head = cur = ListNode(0)\n",
    "    tmp = 0\n",
    "    while cur1 != None or cur2 != None:\n",
    "        val1 = val2 = 0\n",
    "        if cur1 != None:\n",
    "            val1 = cur1.val\n",
    "        if cur2 != None:\n",
    "            val2 = cur2.val\n",
    "        cur.next = ListNode((val1 + val2) % 10)\n",
    "        tmp = (val1 + val2) / 10\n",
    "        cur1 = cur1.next\n",
    "        cur2 = cur2.next\n",
    "        cur = cur.next\n",
    "    return head.next"
   ]
  },
  {
   "cell_type": "code",
   "execution_count": 21,
   "metadata": {
    "collapsed": true
   },
   "outputs": [],
   "source": [
    "l1 = ListNode(1)\n",
    "l1.next = ListNode(2)\n",
    "l1.next.next = ListNode(3)\n",
    "l2 = ListNode(2)\n",
    "l2.next = ListNode(3)\n",
    "l2.next.next = ListNode(4)\n",
    "head = cur = addTwoNumbers(l1, l2)"
   ]
  },
  {
   "cell_type": "code",
   "execution_count": 22,
   "metadata": {
    "collapsed": false
   },
   "outputs": [
    {
     "name": "stdout",
     "output_type": "stream",
     "text": [
      "3\n",
      "5\n",
      "7\n"
     ]
    }
   ],
   "source": [
    "while cur != None:\n",
    "    print cur.val\n",
    "    cur = cur.next"
   ]
  },
  {
   "cell_type": "code",
   "execution_count": 23,
   "metadata": {
    "collapsed": false
   },
   "outputs": [
    {
     "data": {
      "text/plain": [
       "753"
      ]
     },
     "execution_count": 23,
     "metadata": {},
     "output_type": "execute_result"
    }
   ],
   "source": [
    "321 + 432"
   ]
  },
  {
   "cell_type": "code",
   "execution_count": null,
   "metadata": {
    "collapsed": true
   },
   "outputs": [],
   "source": []
  }
 ],
 "metadata": {
  "kernelspec": {
   "display_name": "Python 2",
   "language": "python",
   "name": "python2"
  },
  "language_info": {
   "codemirror_mode": {
    "name": "ipython",
    "version": 2
   },
   "file_extension": ".py",
   "mimetype": "text/x-python",
   "name": "python",
   "nbconvert_exporter": "python",
   "pygments_lexer": "ipython2",
   "version": "2.7.13"
  }
 },
 "nbformat": 4,
 "nbformat_minor": 0
}
