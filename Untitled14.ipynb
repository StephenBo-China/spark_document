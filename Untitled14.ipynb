{
 "cells": [
  {
   "cell_type": "code",
   "execution_count": 47,
   "metadata": {
    "collapsed": true
   },
   "outputs": [],
   "source": [
    "import utils\n",
    "import numpy as np\n",
    "import pandas as pd"
   ]
  },
  {
   "cell_type": "code",
   "execution_count": 48,
   "metadata": {
    "collapsed": true
   },
   "outputs": [],
   "source": [
    "SELECTION_PRODUCT_LINE = \"SpFlash\""
   ]
  },
  {
   "cell_type": "code",
   "execution_count": 49,
   "metadata": {
    "collapsed": true
   },
   "outputs": [],
   "source": [
    "def is_in_notebook():\n",
    "    import sys\n",
    "    return 'ipykernel' in sys.modules\n",
    "def clear_output():\n",
    "    \"\"\"\n",
    "    clear output for both jupyter notebook and the console\n",
    "    \"\"\"\n",
    "    import os\n",
    "    os.system('cls' if os.name == 'nt' else 'clear')\n",
    "    if is_in_notebook():\n",
    "        from IPython.display import clear_output as clear\n",
    "        clear()"
   ]
  },
  {
   "cell_type": "code",
   "execution_count": 50,
   "metadata": {
    "collapsed": false
   },
   "outputs": [
    {
     "name": "stdout",
     "output_type": "stream",
     "text": [
      "select\n",
      "    t1.traceid as traceid,\n",
      "    t1.passenger_id as passenger_id,\n",
      "    t1.premiumH5AcceptRatio as premiumH5AcceptRatio,\n",
      "    t1.response_rate as response_rate,\n",
      "    t1.pre_price as pre_price,\n",
      "    t1.AcceptRateThreshold as AcceptRateThreshold,\n",
      "    t1.PriceRatio as PriceRatio,\n",
      "    t1.AnswerRateGap as AnswerRateGap,\n",
      "    t1.final_fee as final_fee,\n",
      "    t1.model_result as model_result,\n",
      "    t1.accept_rate as accept_rate,\n",
      "    t1.answer_rate as answer_rate,\n",
      "    t1.product_athena_key as product_athena_key,\n",
      "    t1.dt as dt,\n",
      "    t1.hour as hour,\n",
      "    case\n",
      "        when t2.label is null then 0\n",
      "        else t2.label\n",
      "    end as h5_accept_or_not,\n",
      "    case\n",
      "        when t2.label is not null then 1\n",
      "        else 0\n",
      "    end as h5_show_or_not,\n",
      "    t3.product_set as product_set,\n",
      "    --t3.pl_num as pl_num,\n",
      "    case when t4.gmv_amt is null then 0.0\n",
      "    else t4.gmv_amt end as gmv_amt,\n",
      "    t4.product_category as product_category,\n",
      "    case \n",
      "\twhen t4.is_td_finish_flag = 1 then 1\n",
      "\telse 0\n",
      "    end as is_td_finish_flag \n",
      "from\n",
      "(\n",
      "    select\n",
      "        param [\"traceId\"] as traceid,\n",
      "        param [\"athena_id\"] as athena_id,\n",
      "        param [\"passenger_id\"] as passenger_id,\n",
      "        get_json_object(\n",
      "            get_json_object(\n",
      "                get_json_object(param [\"reform_pk_record\"], \"$.PreGuideItem\"),\n",
      "                \"$.item_model_data\"\n",
      "            ),\n",
      "            \"$.accept_ratio\"\n",
      "        ) as premiumH5AcceptRatio,\n",
      "        get_json_object(\n",
      "            get_json_object(\n",
      "                get_json_object(param [\"reform_pk_record\"], \"$.GuideCache\"),\n",
      "                \"$.guide_product_data\"\n",
      "            ),\n",
      "            \"$.response_rate\"\n",
      "        ) as response_rate,\n",
      "        get_json_object(\n",
      "            get_json_object(\n",
      "                get_json_object(param [\"reform_pk_record\"], \"$.GuideCache\"),\n",
      "                \"$.guide_product_data\"\n",
      "            ),\n",
      "            \"$.pre_price\"\n",
      "        ) as pre_price,\n",
      "        get_json_object(\n",
      "            get_json_object(param [\"reform_pk_record\"], \"$.MultiH5Threshold\"),\n",
      "            \"$.AcceptRateThreshold\"\n",
      "        ) as AcceptRateThreshold,\n",
      "        get_json_object(\n",
      "            get_json_object(param [\"reform_pk_record\"], \"$.MultiH5Threshold\"),\n",
      "            \"$.PriceRatio\"\n",
      "        ) as PriceRatio,\n",
      "        get_json_object(\n",
      "            get_json_object(param [\"reform_pk_record\"], \"$.MultiH5Threshold\"),\n",
      "            \"$.AnswerRateGap\"\n",
      "        ) as AnswerRateGap,\n",
      "        get_json_object(\n",
      "            concat('{', json_object, '}'),\n",
      "            '$.final_fee'\n",
      "        ) as final_fee,\n",
      "        get_json_object(\n",
      "            concat('{', json_object, '}'),\n",
      "            '$.model_result'\n",
      "        ) as model_result,\n",
      "        get_json_object(\n",
      "            get_json_object(\n",
      "                concat('{', json_object, '}'),\n",
      "                '$.model_result'\n",
      "            ),\n",
      "            \"$.accept_rate\"\n",
      "        ) as accept_rate,\n",
      "        get_json_object(\n",
      "            get_json_object(\n",
      "                concat('{', json_object, '}'),\n",
      "                '$.model_result'\n",
      "            ),\n",
      "            \"$.answer_rate\"\n",
      "        ) as answer_rate,\n",
      "        get_json_object(\n",
      "            concat('{', json_object, '}'),\n",
      "            '$.product_athena_key'\n",
      "        ) as product_athena_key,\n",
      "        concat_ws('-', year, month, day) as dt,\n",
      "        hour --param[\"multi_product_data\"] as multi_product_data--Get stgData.ProductLineList\n",
      "    from\n",
      "        stg_gs.ods_log_pbs_athena_guide_reform_pk_strategy LATERAL VIEW explode(\n",
      "            split(\n",
      "                regexp_replace(\n",
      "                    regexp_replace(\n",
      "                        param [\"multi_product_data\"],\n",
      "                        '\\\\[\\\\{',\n",
      "                        ''\n",
      "                    ),\n",
      "                    '}]',\n",
      "                    ''\n",
      "                ),\n",
      "                '},\\\\{'\n",
      "            )\n",
      "        ) json_table as json_object\n",
      "    where\n",
      "        concat_ws('-', year, month, day) >= '2020-12-17'\n",
      "        and concat_ws('-', year, month, day) <= '2020-12-21'\n",
      ") t1 --All PK Decision Bubbles and their details iIn PK Decision Code Logic\n",
      "left join (\n",
      "    select\n",
      "        athena_id,\n",
      "        max(trace_id) as trace_id,\n",
      "        max(dt) as dt,\n",
      "        max(label) as label\n",
      "    from\n",
      "        stg_gs.multi_service_h5_accept_model_label_1013\n",
      "    where\n",
      "        concat_ws('-', year, month, day) >= '2020-12-17'\n",
      "        and concat_ws('-', year, month, day) <= '2020-12-21'\n",
      "\t    and guide_scene = 2\n",
      "    group by athena_id\n",
      ") t2 on t1.traceid = t2.athena_id\n",
      "left join \n",
      "(\n",
      "    select \n",
      "        athena_id as bubble_trace_id,\n",
      "        max(product_set) as product_set\n",
      "    from \n",
      "        stg_gs.premium_h5_call_anycar_selection\n",
      "    where \n",
      "        concat_ws('-', year, month, day) >= '2020-12-17'\n",
      "        and concat_ws('-', year, month, day) <= '2020-12-21'\n",
      "    group by athena_id\n",
      ") t3 on t1.traceid = t3.bubble_trace_id\n",
      "left join \n",
      "(\n",
      "    select\n",
      "        bubble_trace_id,\n",
      "        max(order_id) as orderId,\n",
      "        max(bubble_id) as bubble_id,\n",
      "        max(gmv_amt) as gmv_amt,\n",
      "        case\n",
      "            when max(sub_product_line) = 9 then 'Luxury'\n",
      "            when max(sub_product_line) in (1, 6)\n",
      "            and max(require_level) in (100) then 'Premium'\n",
      "            when max(sub_product_line) in (1, 6)\n",
      "            and max(require_level) in (400) then 'CommercialPremium'\n",
      "            when max(sub_product_line) in(3, 7, 314)\n",
      "            and max(require_level) in (600)\n",
      "            and max(combo_type) in (4)\n",
      "            and max(carpool_type) in (1, 2) then 'Carpool'\n",
      "            when max(sub_product_line) in (20, 99) then 'YouXiang'\n",
      "            when max(sub_product_line) in (30) then 'APlusFlash'\n",
      "            when max(sub_product_line) in (3, 7, 314)\n",
      "            and max(require_level) in (600)\n",
      "            and max(combo_type) in (314) then 'SpFlash'\n",
      "            when max(sub_product_line) in (3, 7, 314)\n",
      "            and max(require_level) in (600)\n",
      "            and max(combo_type) in (0, 309, 306) then 'Flash'\n",
      "            when max(sub_product_line) in (11, 12)\n",
      "            and max(require_level) in (1100) then 'Unione'\n",
      "            when max(product_id) in (1, 2)\n",
      "            and max(require_level) in (200)\n",
      "            and max(combo_type) in (0, 2, 3, 309)\n",
      "            and max(carpool_type) in (0) then 'ExecutivePremium'\n",
      "            else 'Other'\n",
      "        end as product_category,\n",
      "\tmax(is_td_finish_flag) as is_td_finish_flag\n",
      "    from\n",
      "        decdm.dwd_gflt_ord_order_base_di\n",
      "    where\n",
      "        dt >= '2020-12-17'\n",
      "        and dt <= '2020-12-21'\n",
      "        and is_td_finish_flag = 1\n",
      "    group by bubble_trace_id\n",
      ") t4 on t1.traceid = t4.bubble_trace_id\n",
      "--where \n",
      "\t--t3.product_set is not null\n",
      "\t--and (t2.label != 1 or t3.product_set is null or t4.product_category != 'Premium')\n",
      "\n"
     ]
    }
   ],
   "source": [
    "data_sql = utils.load_sql_file(\"./sql/pk_decision_detail_and_h5_detail_data.sql\")\n",
    "print data_sql"
   ]
  },
  {
   "cell_type": "code",
   "execution_count": 51,
   "metadata": {
    "collapsed": false
   },
   "outputs": [
    {
     "data": {
      "text/plain": [
       "[Row(traceid=u'000072915fdc1d7700002aaeccefd5cb', passenger_id=u'1289295831040', premiumH5AcceptRatio=None, response_rate=None, pre_price=None, AcceptRateThreshold=None, PriceRatio=None, AnswerRateGap=None, final_fee=u'20720', model_result=u'{\"accept_rate\":0.7181581258773804,\"answer_rate\":0.642751}', accept_rate=u'0.7181581258773804', answer_rate=u'0.642751', product_athena_key=u'Flash', dt=u'2020-12-18', hour=u'11', h5_accept_or_not=0, h5_show_or_not=0, product_set=None, gmv_amt=Decimal('0.000000'), product_category=None, is_td_finish_flag=0)]"
      ]
     },
     "execution_count": 51,
     "metadata": {},
     "output_type": "execute_result"
    }
   ],
   "source": [
    "data_final = spark.sql(data_sql)\n",
    "data_final.cache()\n",
    "data_final.head(1)"
   ]
  },
  {
   "cell_type": "code",
   "execution_count": 55,
   "metadata": {
    "collapsed": false
   },
   "outputs": [
    {
     "name": "stdout",
     "output_type": "stream",
     "text": [
      "select\n",
      "        distinct concat(experiment, ':', exp_group) as expgroup,\n",
      "        apollo_key,\n",
      "        exp_group,\n",
      "        ymd\n",
      "    from\n",
      "        apollo.exp_group_data\n",
      "    where\n",
      "        (\n",
      "            ymd >= '2020-12-17'\n",
      "            and ymd <= '2020-12-21'\n",
      "        )\n",
      "        and experiment = 'athena_dache_anycar_multi_guide_to_premium_h5_ab'\n",
      "\n"
     ]
    }
   ],
   "source": [
    "data_group_sql = utils.load_sql_file(\"./sql/ab_group.sql\")\n",
    "print data_group_sql"
   ]
  },
  {
   "cell_type": "code",
   "execution_count": 56,
   "metadata": {
    "collapsed": false
   },
   "outputs": [
    {
     "data": {
      "text/plain": [
       "[Row(expgroup=u'athena_dache_anycar_multi_guide_to_premium_h5_ab:treatment_group', apollo_key=u'5000070918933', exp_group=u'treatment_group', ymd=u'2020-12-20')]"
      ]
     },
     "execution_count": 56,
     "metadata": {},
     "output_type": "execute_result"
    }
   ],
   "source": [
    "data_group = spark.sql(data_group_sql)\n",
    "data_group.cache()\n",
    "data_group.head(1)"
   ]
  },
  {
   "cell_type": "code",
   "execution_count": 57,
   "metadata": {
    "collapsed": false
   },
   "outputs": [
    {
     "data": {
      "text/plain": [
       "[Row(passenger_id=u'5000070918933', dt=u'2020-12-20', expgroup=u'athena_dache_anycar_multi_guide_to_premium_h5_ab:treatment_group', exp_group=u'treatment_group'),\n",
       " Row(passenger_id=u'17593537716406', dt=u'2020-12-20', expgroup=u'athena_dache_anycar_multi_guide_to_premium_h5_ab:treatment_group', exp_group=u'treatment_group'),\n",
       " Row(passenger_id=u'1895183029497', dt=u'2020-12-20', expgroup=u'athena_dache_anycar_multi_guide_to_premium_h5_ab:treatment_group', exp_group=u'treatment_group'),\n",
       " Row(passenger_id=u'5000162019691', dt=u'2020-12-20', expgroup=u'athena_dache_anycar_multi_guide_to_premium_h5_ab:treatment_group', exp_group=u'treatment_group'),\n",
       " Row(passenger_id=u'2989307202839', dt=u'2020-12-20', expgroup=u'athena_dache_anycar_multi_guide_to_premium_h5_ab:treatment_group', exp_group=u'treatment_group'),\n",
       " Row(passenger_id=u'1638184851517', dt=u'2020-12-20', expgroup=u'athena_dache_anycar_multi_guide_to_premium_h5_ab:treatment_group', exp_group=u'treatment_group'),\n",
       " Row(passenger_id=u'126426614', dt=u'2020-12-20', expgroup=u'athena_dache_anycar_multi_guide_to_premium_h5_ab:treatment_group', exp_group=u'treatment_group'),\n",
       " Row(passenger_id=u'5000059465026', dt=u'2020-12-20', expgroup=u'athena_dache_anycar_multi_guide_to_premium_h5_ab:treatment_group', exp_group=u'treatment_group'),\n",
       " Row(passenger_id=u'597049016320', dt=u'2020-12-20', expgroup=u'athena_dache_anycar_multi_guide_to_premium_h5_ab:treatment_group', exp_group=u'treatment_group'),\n",
       " Row(passenger_id=u'25143328', dt=u'2020-12-20', expgroup=u'athena_dache_anycar_multi_guide_to_premium_h5_ab:treatment_group', exp_group=u'treatment_group')]"
      ]
     },
     "execution_count": 57,
     "metadata": {},
     "output_type": "execute_result"
    }
   ],
   "source": [
    "data_treat = data_group.where(\n",
    "    data_group[\"exp_group\"] == \"treatment_group\"\n",
    ")\n",
    "data_control = data_group.where(\n",
    "    data_group[\"exp_group\"] == \"control_group\"\n",
    ")\n",
    "from pyspark.sql.functions import col\n",
    "data_treat = data_treat.select(\n",
    "    col(\"apollo_key\").alias(\"passenger_id\"), \n",
    "    col(\"ymd\").alias(\"dt\"),\n",
    "    col(\"expgroup\").alias(\"expgroup\"),\n",
    "    col(\"exp_group\").alias(\"exp_group\")\n",
    ")\n",
    "data_control = data_control.select(\n",
    "    col(\"apollo_key\").alias(\"passenger_id\"), \n",
    "    col(\"ymd\").alias(\"dt\"),\n",
    "    col(\"expgroup\").alias(\"expgroup\"),\n",
    "    col(\"exp_group\").alias(\"exp_group\")\n",
    ")\n",
    "data_treat.head(10)"
   ]
  },
  {
   "cell_type": "code",
   "execution_count": 58,
   "metadata": {
    "collapsed": false
   },
   "outputs": [
    {
     "data": {
      "text/plain": [
       "[Row(passenger_id=u'124948347', dt=u'2020-12-20', expgroup=u'athena_dache_anycar_multi_guide_to_premium_h5_ab:control_group', exp_group=u'control_group'),\n",
       " Row(passenger_id=u'5000007333828', dt=u'2020-12-20', expgroup=u'athena_dache_anycar_multi_guide_to_premium_h5_ab:control_group', exp_group=u'control_group'),\n",
       " Row(passenger_id=u'127631518', dt=u'2020-12-20', expgroup=u'athena_dache_anycar_multi_guide_to_premium_h5_ab:control_group', exp_group=u'control_group'),\n",
       " Row(passenger_id=u'1675796092246', dt=u'2020-12-20', expgroup=u'athena_dache_anycar_multi_guide_to_premium_h5_ab:control_group', exp_group=u'control_group'),\n",
       " Row(passenger_id=u'1863216928277', dt=u'2020-12-20', expgroup=u'athena_dache_anycar_multi_guide_to_premium_h5_ab:control_group', exp_group=u'control_group'),\n",
       " Row(passenger_id=u'341791080448', dt=u'2020-12-20', expgroup=u'athena_dache_anycar_multi_guide_to_premium_h5_ab:control_group', exp_group=u'control_group'),\n",
       " Row(passenger_id=u'1186839142403', dt=u'2020-12-20', expgroup=u'athena_dache_anycar_multi_guide_to_premium_h5_ab:control_group', exp_group=u'control_group'),\n",
       " Row(passenger_id=u'2604348604700', dt=u'2020-12-20', expgroup=u'athena_dache_anycar_multi_guide_to_premium_h5_ab:control_group', exp_group=u'control_group'),\n",
       " Row(passenger_id=u'126396846', dt=u'2020-12-20', expgroup=u'athena_dache_anycar_multi_guide_to_premium_h5_ab:control_group', exp_group=u'control_group'),\n",
       " Row(passenger_id=u'15628919', dt=u'2020-12-20', expgroup=u'athena_dache_anycar_multi_guide_to_premium_h5_ab:control_group', exp_group=u'control_group')]"
      ]
     },
     "execution_count": 58,
     "metadata": {},
     "output_type": "execute_result"
    }
   ],
   "source": [
    "data_control.head(10)"
   ]
  },
  {
   "cell_type": "code",
   "execution_count": 59,
   "metadata": {
    "collapsed": false
   },
   "outputs": [
    {
     "data": {
      "text/plain": [
       "[Row(passenger_id=u'100150420', dt=u'2020-12-21', traceid=u'1e52af635fdfe45300007fbadd4e9189', premiumH5AcceptRatio=None, response_rate=None, pre_price=None, AcceptRateThreshold=None, PriceRatio=None, AnswerRateGap=None, final_fee=u'3740', model_result=u'{\"accept_rate\":0.9708971977233887,\"answer_rate\":0.453422}', accept_rate=u'0.9708971977233887', answer_rate=u'0.453422', product_athena_key=u'Flash', hour=u'07', h5_accept_or_not=0, h5_show_or_not=0, product_set=u'Flash,Unione', gmv_amt=Decimal('0.000000'), product_category=None, is_td_finish_flag=0, expgroup=u'athena_dache_anycar_multi_guide_to_premium_h5_ab:treatment_group', exp_group=u'treatment_group'),\n",
       " Row(passenger_id=u'100150420', dt=u'2020-12-21', traceid=u'1e52af635fdfe45300007fbadd4e9189', premiumH5AcceptRatio=None, response_rate=None, pre_price=None, AcceptRateThreshold=None, PriceRatio=None, AnswerRateGap=None, final_fee=u'3579.9999999999995', model_result=u'{\"accept_rate\":0.9405953884124756,\"answer_rate\":0.517118}', accept_rate=u'0.9405953884124756', answer_rate=u'0.517118', product_athena_key=u'Unione', hour=u'07', h5_accept_or_not=0, h5_show_or_not=0, product_set=u'Flash,Unione', gmv_amt=Decimal('0.000000'), product_category=None, is_td_finish_flag=0, expgroup=u'athena_dache_anycar_multi_guide_to_premium_h5_ab:treatment_group', exp_group=u'treatment_group'),\n",
       " Row(passenger_id=u'100150420', dt=u'2020-12-21', traceid=u'1e52af635fdfe45300007fbadd4e9189', premiumH5AcceptRatio=None, response_rate=None, pre_price=None, AcceptRateThreshold=None, PriceRatio=None, AnswerRateGap=None, final_fee=u'4010', model_result=u'{\"accept_rate\":0.007532558403909206,\"answer_rate\":0.945333}', accept_rate=u'0.007532558403909206', answer_rate=u'0.945333', product_athena_key=u'Premium', hour=u'07', h5_accept_or_not=0, h5_show_or_not=0, product_set=u'Flash,Unione', gmv_amt=Decimal('0.000000'), product_category=None, is_td_finish_flag=0, expgroup=u'athena_dache_anycar_multi_guide_to_premium_h5_ab:treatment_group', exp_group=u'treatment_group'),\n",
       " Row(passenger_id=u'100150420', dt=u'2020-12-21', traceid=u'1e52af635fdfe45300007fbadd4e9189', premiumH5AcceptRatio=None, response_rate=None, pre_price=None, AcceptRateThreshold=None, PriceRatio=None, AnswerRateGap=None, final_fee=u'2550', model_result=u'{\"accept_rate\":1,\"answer_rate\":0.371373}', accept_rate=u'1', answer_rate=u'0.371373', product_athena_key=u'Carpool', hour=u'07', h5_accept_or_not=0, h5_show_or_not=0, product_set=u'Flash,Unione', gmv_amt=Decimal('0.000000'), product_category=None, is_td_finish_flag=0, expgroup=u'athena_dache_anycar_multi_guide_to_premium_h5_ab:treatment_group', exp_group=u'treatment_group'),\n",
       " Row(passenger_id=u'100150420', dt=u'2020-12-21', traceid=u'1e52af635fdfe45300007fbadd4e9189', premiumH5AcceptRatio=None, response_rate=None, pre_price=None, AcceptRateThreshold=None, PriceRatio=None, AnswerRateGap=None, final_fee=u'3940', model_result=u'{\"accept_rate\":0.6326712965965271,\"answer_rate\":0.732949}', accept_rate=u'0.6326712965965271', answer_rate=u'0.732949', product_athena_key=u'APlusFlash', hour=u'07', h5_accept_or_not=0, h5_show_or_not=0, product_set=u'Flash,Unione', gmv_amt=Decimal('0.000000'), product_category=None, is_td_finish_flag=0, expgroup=u'athena_dache_anycar_multi_guide_to_premium_h5_ab:treatment_group', exp_group=u'treatment_group')]"
      ]
     },
     "execution_count": 59,
     "metadata": {},
     "output_type": "execute_result"
    }
   ],
   "source": [
    "data_treat_anaysis = data_final.join(data_treat, on = [\"passenger_id\", \"dt\"], how = \"inner\")\n",
    "data_treat_anaysis.head(5)"
   ]
  },
  {
   "cell_type": "code",
   "execution_count": 60,
   "metadata": {
    "collapsed": false
   },
   "outputs": [
    {
     "data": {
      "text/plain": [
       "[Row(passenger_id=u'100008002', dt=u'2020-12-17', traceid=u'c17526c75fdb6e4700003e7d699855e5', premiumH5AcceptRatio=u'0.156604', response_rate=u'0.669658', pre_price=u'2700', AcceptRateThreshold=u'0.1', PriceRatio=u'1.8', AnswerRateGap=u'-0.2', final_fee=u'2110', model_result=u'{\"accept_rate\":0.9264119267463684,\"answer_rate\":0.995654}', accept_rate=u'0.9264119267463684', answer_rate=u'0.995654', product_athena_key=u'Flash', hour=u'22', h5_accept_or_not=1, h5_show_or_not=1, product_set=u'Flash', gmv_amt=Decimal('3598.000000'), product_category=u'Premium', is_td_finish_flag=1, expgroup=u'athena_dache_anycar_multi_guide_to_premium_h5_ab:treatment_group', exp_group=u'treatment_group'),\n",
       " Row(passenger_id=u'100008002', dt=u'2020-12-17', traceid=u'c17526c75fdb6e4700003e7d699855e5', premiumH5AcceptRatio=u'0.156604', response_rate=u'0.669658', pre_price=u'2700', AcceptRateThreshold=u'0.1', PriceRatio=u'1.8', AnswerRateGap=u'-0.2', final_fee=u'1270', model_result=u'{\"accept_rate\":1,\"answer_rate\":0.971358}', accept_rate=u'1', answer_rate=u'0.971358', product_athena_key=u'Carpool', hour=u'22', h5_accept_or_not=1, h5_show_or_not=1, product_set=u'Flash', gmv_amt=Decimal('3598.000000'), product_category=u'Premium', is_td_finish_flag=1, expgroup=u'athena_dache_anycar_multi_guide_to_premium_h5_ab:treatment_group', exp_group=u'treatment_group'),\n",
       " Row(passenger_id=u'100008002', dt=u'2020-12-17', traceid=u'c17526c75fdb6e4700003e7d699855e5', premiumH5AcceptRatio=u'0.156604', response_rate=u'0.669658', pre_price=u'2700', AcceptRateThreshold=u'0.1', PriceRatio=u'1.8', AnswerRateGap=u'-0.2', final_fee=u'2039.9999999999998', model_result=u'{\"accept_rate\":0.07511540502309799,\"answer_rate\":0.982578}', accept_rate=u'0.07511540502309799', answer_rate=u'0.982578', product_athena_key=u'APlusFlash', hour=u'22', h5_accept_or_not=1, h5_show_or_not=1, product_set=u'Flash', gmv_amt=Decimal('3598.000000'), product_category=u'Premium', is_td_finish_flag=1, expgroup=u'athena_dache_anycar_multi_guide_to_premium_h5_ab:treatment_group', exp_group=u'treatment_group'),\n",
       " Row(passenger_id=u'100008002', dt=u'2020-12-17', traceid=u'c17526c75fdb6e4700003e7d699855e5', premiumH5AcceptRatio=u'0.156604', response_rate=u'0.669658', pre_price=u'2700', AcceptRateThreshold=u'0.1', PriceRatio=u'1.8', AnswerRateGap=u'-0.2', final_fee=u'1739.9999999999998', model_result=u'{\"accept_rate\":0.03368807211518288,\"answer_rate\":-1}', accept_rate=u'0.03368807211518288', answer_rate=u'-1', product_athena_key=u'ShortSpecial', hour=u'22', h5_accept_or_not=1, h5_show_or_not=1, product_set=u'Flash', gmv_amt=Decimal('3598.000000'), product_category=u'Premium', is_td_finish_flag=1, expgroup=u'athena_dache_anycar_multi_guide_to_premium_h5_ab:treatment_group', exp_group=u'treatment_group'),\n",
       " Row(passenger_id=u'100008002', dt=u'2020-12-17', traceid=u'c17526c75fdb6e4700003e7d699855e5', premiumH5AcceptRatio=u'0.156604', response_rate=u'0.669658', pre_price=u'2700', AcceptRateThreshold=u'0.1', PriceRatio=u'1.8', AnswerRateGap=u'-0.2', final_fee=u'2700', model_result=u'{\"accept_rate\":0.029199713841080666,\"answer_rate\":0.603538}', accept_rate=u'0.029199713841080666', answer_rate=u'0.603538', product_athena_key=u'Premium', hour=u'22', h5_accept_or_not=1, h5_show_or_not=1, product_set=u'Flash', gmv_amt=Decimal('3598.000000'), product_category=u'Premium', is_td_finish_flag=1, expgroup=u'athena_dache_anycar_multi_guide_to_premium_h5_ab:treatment_group', exp_group=u'treatment_group'),\n",
       " Row(passenger_id=u'100008002', dt=u'2020-12-17', traceid=u'c17526c75fdb6e4700003e7d699855e5', premiumH5AcceptRatio=u'0.156604', response_rate=u'0.669658', pre_price=u'2700', AcceptRateThreshold=u'0.1', PriceRatio=u'1.8', AnswerRateGap=u'-0.2', final_fee=u'2510', model_result=u'{\"accept_rate\":0.020887218415737152,\"answer_rate\":0.957334}', accept_rate=u'0.020887218415737152', answer_rate=u'0.957334', product_athena_key=u'YouXiang', hour=u'22', h5_accept_or_not=1, h5_show_or_not=1, product_set=u'Flash', gmv_amt=Decimal('3598.000000'), product_category=u'Premium', is_td_finish_flag=1, expgroup=u'athena_dache_anycar_multi_guide_to_premium_h5_ab:treatment_group', exp_group=u'treatment_group'),\n",
       " Row(passenger_id=u'100008002', dt=u'2020-12-17', traceid=u'c17526c75fdb6e4700003e7d699855e5', premiumH5AcceptRatio=u'0.156604', response_rate=u'0.669658', pre_price=u'2700', AcceptRateThreshold=u'0.1', PriceRatio=u'1.8', AnswerRateGap=u'-0.2', final_fee=u'2140', model_result=u'{\"accept_rate\":0.013399075716733932,\"answer_rate\":0.632075}', accept_rate=u'0.013399075716733932', answer_rate=u'0.632075', product_athena_key=u'Unione', hour=u'22', h5_accept_or_not=1, h5_show_or_not=1, product_set=u'Flash', gmv_amt=Decimal('3598.000000'), product_category=u'Premium', is_td_finish_flag=1, expgroup=u'athena_dache_anycar_multi_guide_to_premium_h5_ab:treatment_group', exp_group=u'treatment_group'),\n",
       " Row(passenger_id=u'100008002', dt=u'2020-12-17', traceid=u'c17526c75fdb6e4700003e7d699855e5', premiumH5AcceptRatio=u'0.156604', response_rate=u'0.669658', pre_price=u'2700', AcceptRateThreshold=u'0.1', PriceRatio=u'1.8', AnswerRateGap=u'-0.2', final_fee=u'6800', model_result=u'{\"accept_rate\":0.001103521091863513,\"answer_rate\":-1}', accept_rate=u'0.001103521091863513', answer_rate=u'-1', product_athena_key=u'Luxury', hour=u'22', h5_accept_or_not=1, h5_show_or_not=1, product_set=u'Flash', gmv_amt=Decimal('3598.000000'), product_category=u'Premium', is_td_finish_flag=1, expgroup=u'athena_dache_anycar_multi_guide_to_premium_h5_ab:treatment_group', exp_group=u'treatment_group'),\n",
       " Row(passenger_id=u'100008002', dt=u'2020-12-17', traceid=u'c17526c75fdb6e4700003e7d699855e5', premiumH5AcceptRatio=u'0.156604', response_rate=u'0.669658', pre_price=u'2700', AcceptRateThreshold=u'0.1', PriceRatio=u'1.8', AnswerRateGap=u'-0.2', final_fee=u'3720.0000000000005', model_result=u'{\"accept_rate\":0,\"answer_rate\":0.603538}', accept_rate=u'0', answer_rate=u'0.603538', product_athena_key=u'CommercialPremium', hour=u'22', h5_accept_or_not=1, h5_show_or_not=1, product_set=u'Flash', gmv_amt=Decimal('3598.000000'), product_category=u'Premium', is_td_finish_flag=1, expgroup=u'athena_dache_anycar_multi_guide_to_premium_h5_ab:treatment_group', exp_group=u'treatment_group'),\n",
       " Row(passenger_id=u'100008002', dt=u'2020-12-17', traceid=u'c17526c75fdb6e4700003e7d699855e5', premiumH5AcceptRatio=u'0.156604', response_rate=u'0.669658', pre_price=u'2700', AcceptRateThreshold=u'0.1', PriceRatio=u'1.8', AnswerRateGap=u'-0.2', final_fee=u'1939.9999999999998', model_result=u'{\"accept_rate\":0.08027707040309906,\"answer_rate\":0.930985}', accept_rate=u'0.08027707040309906', answer_rate=u'0.930985', product_athena_key=u'SpFlash', hour=u'22', h5_accept_or_not=1, h5_show_or_not=1, product_set=u'Flash', gmv_amt=Decimal('3598.000000'), product_category=u'Premium', is_td_finish_flag=1, expgroup=u'athena_dache_anycar_multi_guide_to_premium_h5_ab:treatment_group', exp_group=u'treatment_group')]"
      ]
     },
     "execution_count": 60,
     "metadata": {},
     "output_type": "execute_result"
    }
   ],
   "source": [
    "data_treat_h5_complete = data_treat_anaysis.where(\n",
    "    (data_treat_anaysis[\"h5_accept_or_not\"] == 1)\n",
    "    & (data_treat_anaysis[\"product_category\"] == \"Premium\")\n",
    ")\n",
    "data_treat_h5_complete.cache()\n",
    "x = data_treat_h5_complete.head(5)\n",
    "data_treat_h5_complete.head(10)"
   ]
  },
  {
   "cell_type": "code",
   "execution_count": 74,
   "metadata": {
    "collapsed": true
   },
   "outputs": [],
   "source": [
    "def alpha_map(x):\n",
    "    def get_product_set(product_set):\n",
    "        rst = list()\n",
    "        for product in product_set:\n",
    "            if product != \"Other\":\n",
    "                rst.append(product)\n",
    "        return rst\n",
    "    k,vv = x\n",
    "    selection_pre_price_gmv = dict()\n",
    "    gmv_amt = 0.\n",
    "    for v in vv:\n",
    "        if v[\"product_set\"] is None or v[\"product_set\"] == \"null\" or v[\"product_set\"] == \"\":\n",
    "            continue\n",
    "        product_set = sorted(get_product_set(v[\"product_set\"].split(\",\")))#勾选车型listr\n",
    "        key_temp = \",\".join([str(x) for x in product_set])\n",
    "        product_athena_key = str(v[\"product_athena_key\"])\n",
    "        print product_athena_key\n",
    "        gmv_amt = float(v[\"gmv_amt\"])#最终完单gmv\n",
    "        print gmv_amt\n",
    "        final_fee = float(v[\"final_fee\"]) #勾选车型预估价\n",
    "        print final_fee\n",
    "        selection_pre_price_gmv[product_athena_key] = final_fee\n",
    "    rst = [(\"\", [0., 0.])]\n",
    "    if \"SpFlash\" in selection_pre_price_gmv:\n",
    "        rst = [(\"SpFlash\" , [selection_pre_price_gmv[\"SpFlash\"], gmv_amt])]\n",
    "    return rst"
   ]
  },
  {
   "cell_type": "code",
   "execution_count": 75,
   "metadata": {
    "collapsed": true
   },
   "outputs": [],
   "source": [
    "def reduce_func(v1, v2):\n",
    "    print(\"RUN reduce_func\")\n",
    "    return list(map(sum, zip(v1, v2))) "
   ]
  },
  {
   "cell_type": "code",
   "execution_count": 76,
   "metadata": {
    "collapsed": false
   },
   "outputs": [
    {
     "data": {
      "text/plain": [
       "[('', [0.0, 0.0]), ('SpFlash', [13106600.0, 23640608.0])]"
      ]
     },
     "execution_count": 76,
     "metadata": {},
     "output_type": "execute_result"
    }
   ],
   "source": [
    "alpha_rst = data_treat_h5_complete.rdd \\\n",
    "    .map(lambda x: (x[\"traceid\"], x)) \\\n",
    "    .groupByKey() \\\n",
    "    .flatMap(lambda x: alpha_map(x)) \\\n",
    "    .reduceByKey(reduce_func) \\\n",
    "    .collect()\n",
    "alpha_rst"
   ]
  },
  {
   "cell_type": "code",
   "execution_count": 61,
   "metadata": {
    "collapsed": false
   },
   "outputs": [
    {
     "data": {
      "text/plain": [
       "1.7994714449135547"
      ]
     },
     "execution_count": 61,
     "metadata": {},
     "output_type": "execute_result"
    }
   ],
   "source": [
    "alpha = 41858459.0 / 23261530.0\n",
    "alpha"
   ]
  },
  {
   "cell_type": "code",
   "execution_count": null,
   "metadata": {
    "collapsed": true
   },
   "outputs": [],
   "source": []
  },
  {
   "cell_type": "code",
   "execution_count": null,
   "metadata": {
    "collapsed": true
   },
   "outputs": [],
   "source": []
  },
  {
   "cell_type": "code",
   "execution_count": null,
   "metadata": {
    "collapsed": true
   },
   "outputs": [],
   "source": []
  },
  {
   "cell_type": "code",
   "execution_count": null,
   "metadata": {
    "collapsed": true
   },
   "outputs": [],
   "source": []
  },
  {
   "cell_type": "code",
   "execution_count": 62,
   "metadata": {
    "collapsed": true
   },
   "outputs": [],
   "source": [
    "def map_func_1(x, alpha_mean):\n",
    "    def get_product_set(product_set):\n",
    "        rst = list()\n",
    "        for product in product_set:\n",
    "            if product != \"Other\":\n",
    "                rst.append(product)\n",
    "        return rst\n",
    "    def get_final_gmv(show_h5, accept_h5, product_category, gmv_amt, alpha_mean):\n",
    "        alpha = alpha_mean\n",
    "        premium_gmv = 0.\n",
    "        selection_gmv = 0.\n",
    "        if show_h5 and accept_h5 and product_category == \"Premium\":\n",
    "            premium_gmv = gmv_amt * 1.\n",
    "            selection_gmv = gmv_amt * 1. / alpha * 1.\n",
    "        else:\n",
    "            selection_gmv = gmv_amt * 1.\n",
    "            premium_gmv = gmv_amt * alpha * 1.\n",
    "        return premium_gmv, selection_gmv\n",
    "    # Define Different PK Decision Parameters\n",
    "    AcceptRateThreshold_list = np.arange(0.1,1.1,0.1)#accept:0~1\n",
    "    AnswerRateGap_list = np.arange(-0.5,0.6,0.1)#answer:-1~1\n",
    "    PriceRatio_list = np.arange(1.0,2.1,0.1)#price:1~3\n",
    "    data_record = dict()\n",
    "    k, vv = x\n",
    "    result = []\n",
    "    AcceptRateThreshold = 0.1\n",
    "    AnswerRateGap = -0.2\n",
    "    PriceRatio = 2.0\n",
    "    for v in vv:\n",
    "        product_athena_key = v[\"product_athena_key\"]#正在判断pk的车型\n",
    "        if product_athena_key == \"SpFlash\":\n",
    "            product_set = sorted(get_product_set(v[\"product_set\"].split(\",\")))#勾选车型list\n",
    "            try:\n",
    "                premiumH5AcceptRatio = float(v[\"premiumH5AcceptRatio\"])#专车h5接受率\n",
    "            except:\n",
    "                premiumH5AcceptRatio = 0.\n",
    "            try:\n",
    "                response_rate = float(v[\"response_rate\"])#橙意单应答率\n",
    "            except:\n",
    "                response_rate = 0.\n",
    "            try:  \n",
    "                pre_price = float(v[\"pre_price\"]) #专车预估价\n",
    "            except:\n",
    "                pre_price = 0.\n",
    "            try:\n",
    "                final_fee = float(v[\"final_fee\"]) #勾选车型预估价\n",
    "            except:\n",
    "                final_fee = 0.\n",
    "            try:\n",
    "                accept_rate = float(v[\"accept_rate\"])#勾选车型接受率\n",
    "            except:\n",
    "                accept_rate = 0.\n",
    "            try:\n",
    "                answer_rate = float(v[\"answer_rate\"])#勾选车型应答率\n",
    "            except:\n",
    "                answer_rate = 0.\n",
    "            try:\n",
    "                gmv_amt = float(v[\"gmv_amt\"])#最终完单gmv\n",
    "            except:\n",
    "                gmv_amt = 0.\n",
    "            product_athena_key = v[\"product_athena_key\"]#正在判断pk的车型\n",
    "            h5_show_or_not = int(v[\"h5_show_or_not\"])#h5是否弹窗\n",
    "            product_category = v[\"product_category\"]#最终完单车型\n",
    "            h5_accept_or_not = int(v[\"h5_accept_or_not\"])#是否接受h5\n",
    "            guide_judge = True\n",
    "            if response_rate < answer_rate + AnswerRateGap \\\n",
    "            or (pre_price >= final_fee * 1.8 and pre_price <= final_fee * 2.0) \\\n",
    "            or premiumH5AcceptRatio <= AcceptRateThreshold:\n",
    "                guide_judge = False\n",
    "            GMV = 0\n",
    "            total_num = 1\n",
    "            h5_num = 0\n",
    "            accept_num = 0\n",
    "            strive_num = 0\n",
    "            accept_threshold = 0.18\n",
    "            strive_threshold = 0.85\n",
    "            premium_gmv, selection_gmv = get_final_gmv(\n",
    "                    bool(h5_show_or_not), \n",
    "                    bool(h5_accept_or_not), \n",
    "                    product_category, \n",
    "                    gmv_amt, \n",
    "                    alpha_mean) #根据预先计算好的不同车型比例得到专车GMV与勾选车型GMV\n",
    "            if guide_judge:\n",
    "                h5_num = 1\n",
    "                if accept_threshold <= premiumH5AcceptRatio:#接受弹窗\n",
    "                    accept_num = 1\n",
    "                    if strive_threshold <= response_rate:#接受后专车完单\n",
    "                        GMV = premium_gmv\n",
    "                        strive_num = 1\n",
    "                    else:#接受后专车未完单\n",
    "                        GMV = selection_gmv\n",
    "                        strive_num = 0\n",
    "                else:#不接受弹窗\n",
    "                    accept_num = 0\n",
    "                    GMV = selection_gmv\n",
    "            else:\n",
    "                GMV = selection_gmv\n",
    "                h5_num = 0\n",
    "            key_temp = \",\".join([str(x) for x in [AcceptRateThreshold,AnswerRateGap,PriceRatio]])\n",
    "            result.append((key_temp , [GMV, gmv_amt, h5_num, accept_num, strive_num, total_num]))\n",
    "            break\n",
    "    return result"
   ]
  },
  {
   "cell_type": "code",
   "execution_count": 63,
   "metadata": {
    "collapsed": true
   },
   "outputs": [],
   "source": [
    "def reduce_func(v1, v2):\n",
    "    print(\"RUN reduce_func\")\n",
    "    return list(map(sum, zip(v1, v2))) "
   ]
  },
  {
   "cell_type": "code",
   "execution_count": 64,
   "metadata": {
    "collapsed": false
   },
   "outputs": [
    {
     "data": {
      "text/plain": [
       "[Row(passenger_id=u'100111361', dt=u'2020-12-20', traceid=u'ee8de1075fdeabbc0000155de4eb73aa', premiumH5AcceptRatio=u'0.251706', response_rate=u'0.965201', pre_price=u'2460', AcceptRateThreshold=None, PriceRatio=None, AnswerRateGap=None, final_fee=u'1750', model_result=u'{\"accept_rate\":0.8733917474746704,\"answer_rate\":0.979525}', accept_rate=u'0.8733917474746704', answer_rate=u'0.979525', product_athena_key=u'Unione', hour=u'09', h5_accept_or_not=0, h5_show_or_not=0, product_set=u'APlusFlash,Unione,YouXiang,Flash', gmv_amt=Decimal('2190.000000'), product_category=u'YouXiang', is_td_finish_flag=1, expgroup=u'athena_dache_anycar_multi_guide_to_premium_h5_ab:control_group', exp_group=u'control_group'),\n",
       " Row(passenger_id=u'100111361', dt=u'2020-12-20', traceid=u'ee8de1075fdeabbc0000155de4eb73aa', premiumH5AcceptRatio=None, response_rate=None, pre_price=None, AcceptRateThreshold=None, PriceRatio=None, AnswerRateGap=None, final_fee=u'1750', model_result=u'{\"accept_rate\":0.8733917474746704,\"answer_rate\":0.979525}', accept_rate=u'0.8733917474746704', answer_rate=u'0.979525', product_athena_key=u'Unione', hour=u'09', h5_accept_or_not=0, h5_show_or_not=0, product_set=u'APlusFlash,Unione,YouXiang,Flash', gmv_amt=Decimal('2190.000000'), product_category=u'YouXiang', is_td_finish_flag=1, expgroup=u'athena_dache_anycar_multi_guide_to_premium_h5_ab:control_group', exp_group=u'control_group'),\n",
       " Row(passenger_id=u'100111361', dt=u'2020-12-20', traceid=u'ee8de1075fdeabbc0000155de4eb73aa', premiumH5AcceptRatio=u'0.251706', response_rate=u'0.965201', pre_price=u'2460', AcceptRateThreshold=None, PriceRatio=None, AnswerRateGap=None, final_fee=u'1889.9999999999998', model_result=u'{\"accept_rate\":0.8132656812667847,\"answer_rate\":0.988929}', accept_rate=u'0.8132656812667847', answer_rate=u'0.988929', product_athena_key=u'Flash', hour=u'09', h5_accept_or_not=0, h5_show_or_not=0, product_set=u'APlusFlash,Unione,YouXiang,Flash', gmv_amt=Decimal('2190.000000'), product_category=u'YouXiang', is_td_finish_flag=1, expgroup=u'athena_dache_anycar_multi_guide_to_premium_h5_ab:control_group', exp_group=u'control_group'),\n",
       " Row(passenger_id=u'100111361', dt=u'2020-12-20', traceid=u'ee8de1075fdeabbc0000155de4eb73aa', premiumH5AcceptRatio=None, response_rate=None, pre_price=None, AcceptRateThreshold=None, PriceRatio=None, AnswerRateGap=None, final_fee=u'1889.9999999999998', model_result=u'{\"accept_rate\":0.8132656812667847,\"answer_rate\":0.988929}', accept_rate=u'0.8132656812667847', answer_rate=u'0.988929', product_athena_key=u'Flash', hour=u'09', h5_accept_or_not=0, h5_show_or_not=0, product_set=u'APlusFlash,Unione,YouXiang,Flash', gmv_amt=Decimal('2190.000000'), product_category=u'YouXiang', is_td_finish_flag=1, expgroup=u'athena_dache_anycar_multi_guide_to_premium_h5_ab:control_group', exp_group=u'control_group'),\n",
       " Row(passenger_id=u'100111361', dt=u'2020-12-20', traceid=u'ee8de1075fdeabbc0000155de4eb73aa', premiumH5AcceptRatio=u'0.251706', response_rate=u'0.965201', pre_price=u'2460', AcceptRateThreshold=None, PriceRatio=None, AnswerRateGap=None, final_fee=u'2000', model_result=u'{\"accept_rate\":0.770179808139801,\"answer_rate\":0.985373}', accept_rate=u'0.770179808139801', answer_rate=u'0.985373', product_athena_key=u'APlusFlash', hour=u'09', h5_accept_or_not=0, h5_show_or_not=0, product_set=u'APlusFlash,Unione,YouXiang,Flash', gmv_amt=Decimal('2190.000000'), product_category=u'YouXiang', is_td_finish_flag=1, expgroup=u'athena_dache_anycar_multi_guide_to_premium_h5_ab:control_group', exp_group=u'control_group')]"
      ]
     },
     "execution_count": 64,
     "metadata": {},
     "output_type": "execute_result"
    }
   ],
   "source": [
    "data_control_anaysis = data_final.join(data_control, on = [\"passenger_id\", \"dt\"], how = \"inner\")\n",
    "data_control_anaysis.head(5)"
   ]
  },
  {
   "cell_type": "code",
   "execution_count": 65,
   "metadata": {
    "collapsed": false
   },
   "outputs": [
    {
     "data": {
      "text/plain": [
       "[Row(passenger_id=u'1000255787010', dt=u'2020-12-21', traceid=u'61a85b235fe05286f73e593910770303', premiumH5AcceptRatio=None, response_rate=None, pre_price=None, AcceptRateThreshold=None, PriceRatio=None, AnswerRateGap=None, final_fee=u'1100', model_result=u'{\"accept_rate\":0.9116490483283997,\"answer_rate\":0.902141}', accept_rate=u'0.9116490483283997', answer_rate=u'0.902141', product_athena_key=u'SpFlash', hour=u'15', h5_accept_or_not=0, h5_show_or_not=0, product_set=u'SpFlash', gmv_amt=Decimal('1208.000000'), product_category=u'SpFlash', is_td_finish_flag=1, expgroup=u'athena_dache_anycar_multi_guide_to_premium_h5_ab:control_group', exp_group=u'control_group'),\n",
       " Row(passenger_id=u'1000255787010', dt=u'2020-12-21', traceid=u'61a85b235fe05286f73e593910770303', premiumH5AcceptRatio=u'0.076523', response_rate=u'0.983199', pre_price=u'1700', AcceptRateThreshold=None, PriceRatio=None, AnswerRateGap=None, final_fee=u'1100', model_result=u'{\"accept_rate\":0.9116490483283997,\"answer_rate\":0.902141}', accept_rate=u'0.9116490483283997', answer_rate=u'0.902141', product_athena_key=u'SpFlash', hour=u'15', h5_accept_or_not=0, h5_show_or_not=0, product_set=u'SpFlash', gmv_amt=Decimal('1208.000000'), product_category=u'SpFlash', is_td_finish_flag=1, expgroup=u'athena_dache_anycar_multi_guide_to_premium_h5_ab:control_group', exp_group=u'control_group'),\n",
       " Row(passenger_id=u'1000255787010', dt=u'2020-12-21', traceid=u'e11e80505fe06cb85f40601610c50303', premiumH5AcceptRatio=u'0.103367', response_rate=u'0.973241', pre_price=u'2250', AcceptRateThreshold=None, PriceRatio=None, AnswerRateGap=None, final_fee=u'1430', model_result=u'{\"accept_rate\":0.8730777502059937,\"answer_rate\":0.740016}', accept_rate=u'0.8730777502059937', answer_rate=u'0.740016', product_athena_key=u'SpFlash', hour=u'17', h5_accept_or_not=0, h5_show_or_not=0, product_set=u'SpFlash', gmv_amt=Decimal('1569.000000'), product_category=u'SpFlash', is_td_finish_flag=1, expgroup=u'athena_dache_anycar_multi_guide_to_premium_h5_ab:control_group', exp_group=u'control_group'),\n",
       " Row(passenger_id=u'1000255787010', dt=u'2020-12-21', traceid=u'e11e80505fe06cb85f40601610c50303', premiumH5AcceptRatio=None, response_rate=None, pre_price=None, AcceptRateThreshold=None, PriceRatio=None, AnswerRateGap=None, final_fee=u'1430', model_result=u'{\"accept_rate\":0.8730777502059937,\"answer_rate\":0.740016}', accept_rate=u'0.8730777502059937', answer_rate=u'0.740016', product_athena_key=u'SpFlash', hour=u'17', h5_accept_or_not=0, h5_show_or_not=0, product_set=u'SpFlash', gmv_amt=Decimal('1569.000000'), product_category=u'SpFlash', is_td_finish_flag=1, expgroup=u'athena_dache_anycar_multi_guide_to_premium_h5_ab:control_group', exp_group=u'control_group'),\n",
       " Row(passenger_id=u'100039634', dt=u'2020-12-21', traceid=u'ac0a14635fe01ef4a93e376b109c0303', premiumH5AcceptRatio=None, response_rate=None, pre_price=None, AcceptRateThreshold=None, PriceRatio=None, AnswerRateGap=None, final_fee=u'830.0000000000001', model_result=u'{\"accept_rate\":0.8669205904006958,\"answer_rate\":0.141197}', accept_rate=u'0.8669205904006958', answer_rate=u'0.141197', product_athena_key=u'SpFlash', hour=u'12', h5_accept_or_not=0, h5_show_or_not=0, product_set=u'SpFlash', gmv_amt=Decimal('912.000000'), product_category=u'SpFlash', is_td_finish_flag=1, expgroup=u'athena_dache_anycar_multi_guide_to_premium_h5_ab:control_group', exp_group=u'control_group')]"
      ]
     },
     "execution_count": 65,
     "metadata": {},
     "output_type": "execute_result"
    }
   ],
   "source": [
    "data_control_anaysis_spflash = data_control_anaysis.where(\n",
    "    (data_control_anaysis[\"product_set\"] == SELECTION_PRODUCT_LINE) \n",
    "    &  (data_control_anaysis[\"product_athena_key\"] == SELECTION_PRODUCT_LINE)\n",
    ")\n",
    "data_control_anaysis_spflash.cache()\n",
    "data_control_anaysis_spflash.head(5)"
   ]
  },
  {
   "cell_type": "code",
   "execution_count": null,
   "metadata": {
    "collapsed": true
   },
   "outputs": [],
   "source": []
  },
  {
   "cell_type": "code",
   "execution_count": 66,
   "metadata": {
    "collapsed": false
   },
   "outputs": [
    {
     "data": {
      "text/plain": [
       "[('0.1,-0.2,2.0',\n",
       "  [465539200.45754457, 442174580.0, 23678, 9322, 7392, 176111])]"
      ]
     },
     "execution_count": 66,
     "metadata": {},
     "output_type": "execute_result"
    }
   ],
   "source": [
    "spflash_h5_gmv = data_control_anaysis_spflash.rdd \\\n",
    "    .map(lambda x: (x[\"traceid\"], x)) \\\n",
    "    .groupByKey() \\\n",
    "    .flatMap(lambda x: map_func_1(x, alpha)) \\\n",
    "    .reduceByKey(reduce_func) \\\n",
    "    .collect()\n",
    "spflash_h5_gmv #GMV, gmv_amt, h5_num, accept_num, strive_num, total_num"
   ]
  },
  {
   "cell_type": "code",
   "execution_count": 69,
   "metadata": {
    "collapsed": false
   },
   "outputs": [
    {
     "data": {
      "text/plain": [
       "-45677.315699081424"
      ]
     },
     "execution_count": 69,
     "metadata": {},
     "output_type": "execute_result"
    }
   ],
   "source": [
    "(465539200.45754457 * 0.94 - 442174580.0) / 100."
   ]
  },
  {
   "cell_type": "code",
   "execution_count": 70,
   "metadata": {
    "collapsed": false
   },
   "outputs": [
    {
     "data": {
      "text/plain": [
       "0.39369879212771347"
      ]
     },
     "execution_count": 70,
     "metadata": {},
     "output_type": "execute_result"
    }
   ],
   "source": [
    "9322. / 23678."
   ]
  },
  {
   "cell_type": "code",
   "execution_count": 72,
   "metadata": {
    "collapsed": false
   },
   "outputs": [
    {
     "data": {
      "text/plain": [
       "0.13444929618252124"
      ]
     },
     "execution_count": 72,
     "metadata": {},
     "output_type": "execute_result"
    }
   ],
   "source": [
    "23678. / 176111."
   ]
  },
  {
   "cell_type": "code",
   "execution_count": 37,
   "metadata": {
    "collapsed": false
   },
   "outputs": [
    {
     "data": {
      "text/plain": [
       "1.091338604931951"
      ]
     },
     "execution_count": 37,
     "metadata": {},
     "output_type": "execute_result"
    }
   ],
   "source": [
    "785589279.59469 / 719840090.0"
   ]
  },
  {
   "cell_type": "code",
   "execution_count": 41,
   "metadata": {
    "collapsed": false
   },
   "outputs": [
    {
     "data": {
      "text/plain": [
       "9258.158185914755"
      ]
     },
     "execution_count": 41,
     "metadata": {},
     "output_type": "execute_result"
    }
   ],
   "source": [
    "(786574190.04 * 0.94 - 785589279.59469 * 0.94) / 100."
   ]
  },
  {
   "cell_type": "code",
   "execution_count": 52,
   "metadata": {
    "collapsed": false
   },
   "outputs": [
    {
     "name": "stdout",
     "output_type": "stream",
     "text": [
      "1\n"
     ]
    }
   ],
   "source": [
    "def sum_a(sum, target):\n",
    "    print sum\n"
   ]
  },
  {
   "cell_type": "code",
   "execution_count": 79,
   "metadata": {
    "collapsed": false
   },
   "outputs": [
    {
     "data": {
      "text/plain": [
       "[1, 2]"
      ]
     },
     "execution_count": 79,
     "metadata": {},
     "output_type": "execute_result"
    }
   ],
   "source": [
    "def twoSum(nums, target):\n",
    "    tmp_dict = dict()\n",
    "    for i in range(len(nums)):\n",
    "        if target - nums[i] in tmp_dict:\n",
    "            return [tmp_dict[target - nums[i]], i]\n",
    "        tmp_dict[nums[i]] = i\n",
    "    return []\n",
    "twoSum([2,7,11,15], 9)\n",
    "twoSum([3,2,4], 6)"
   ]
  },
  {
   "cell_type": "code",
   "execution_count": 82,
   "metadata": {
    "collapsed": false
   },
   "outputs": [
    {
     "data": {
      "text/plain": [
       "807"
      ]
     },
     "execution_count": 82,
     "metadata": {},
     "output_type": "execute_result"
    }
   ],
   "source": [
    "243 + 564"
   ]
  },
  {
   "cell_type": "code",
   "execution_count": 85,
   "metadata": {
    "collapsed": false
   },
   "outputs": [
    {
     "data": {
      "text/plain": [
       "807"
      ]
     },
     "execution_count": 85,
     "metadata": {},
     "output_type": "execute_result"
    }
   ],
   "source": [
    "342 + 465"
   ]
  },
  {
   "cell_type": "code",
   "execution_count": 83,
   "metadata": {
    "collapsed": false
   },
   "outputs": [
    {
     "data": {
      "text/plain": [
       "4"
      ]
     },
     "execution_count": 83,
     "metadata": {},
     "output_type": "execute_result"
    }
   ],
   "source": [
    "14 % 10"
   ]
  },
  {
   "cell_type": "code",
   "execution_count": 84,
   "metadata": {
    "collapsed": true
   },
   "outputs": [],
   "source": [
    "class ListNode(object):\n",
    "    def __init__(self, val = 0, next = None):\n",
    "        self.val = val\n",
    "        self.next = next"
   ]
  },
  {
   "cell_type": "code",
   "execution_count": 89,
   "metadata": {
    "collapsed": false
   },
   "outputs": [],
   "source": [
    "l1 = ListNode(2)\n",
    "l1.next = ListNode(4)\n",
    "l1.next.next = ListNode(3)\n",
    "l2 = ListNode(5)\n",
    "l2.next = ListNode(6)\n",
    "l2.next.next = ListNode(4)"
   ]
  },
  {
   "cell_type": "code",
   "execution_count": 113,
   "metadata": {
    "collapsed": true
   },
   "outputs": [],
   "source": [
    "def addTwoNumbers(l1, l2):\n",
    "    carry = 0\n",
    "    head = cur = ListNode()\n",
    "    while l1 != None or l2 != None:\n",
    "        val1 = 0\n",
    "        val2 = 0\n",
    "        if l1 != None:\n",
    "            val1 = l1.val\n",
    "        if l2 != None:\n",
    "            val2 = l2.val\n",
    "        tmp = (val1 + val2 + carry) % 10\n",
    "        carry = (val1 + val2 + carry) / 10\n",
    "        cur.next = cur = ListNode(tmp)\n",
    "        l1 = l1.next\n",
    "        l2 = l2.next\n",
    "    return head.next"
   ]
  },
  {
   "cell_type": "code",
   "execution_count": 114,
   "metadata": {
    "collapsed": false
   },
   "outputs": [],
   "source": [
    "l3 = addTwoNumbers(l1, l2)"
   ]
  },
  {
   "cell_type": "code",
   "execution_count": 121,
   "metadata": {
    "collapsed": false
   },
   "outputs": [
    {
     "data": {
      "text/plain": [
       "7"
      ]
     },
     "execution_count": 121,
     "metadata": {},
     "output_type": "execute_result"
    }
   ],
   "source": [
    "l3.val"
   ]
  },
  {
   "cell_type": "code",
   "execution_count": null,
   "metadata": {
    "collapsed": true
   },
   "outputs": [],
   "source": [
    "def lengthOfLongestSubstring(s):\n",
    "    `"
   ]
  }
 ],
 "metadata": {
  "kernelspec": {
   "display_name": "Python 2",
   "language": "python",
   "name": "python2"
  },
  "language_info": {
   "codemirror_mode": {
    "name": "ipython",
    "version": 2
   },
   "file_extension": ".py",
   "mimetype": "text/x-python",
   "name": "python",
   "nbconvert_exporter": "python",
   "pygments_lexer": "ipython2",
   "version": "2.7.11"
  }
 },
 "nbformat": 4,
 "nbformat_minor": 0
}
